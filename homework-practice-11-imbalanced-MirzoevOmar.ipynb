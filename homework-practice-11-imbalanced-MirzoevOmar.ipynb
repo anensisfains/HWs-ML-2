{
 "cells": [
  {
   "cell_type": "markdown",
   "metadata": {
    "id": "sCk9bUMos9A-"
   },
   "source": [
    "# Машинное обучение, ФКН ВШЭ\n",
    "\n",
    "# Практическое задание 11. Несбалансированные задачи\n",
    "\n",
    "## Общая информация\n",
    "Дата выдачи: 24.04.2025\n",
    "\n",
    "Мягкий дедлайн: 13.05.2025 23:59 MSK\n",
    "\n",
    "Жесткий дедлайн: 18.05.2025 23:59 MSK\n",
    "\n",
    "## Оценивание и штрафы\n",
    "\n",
    "Каждая из задач имеет определенную «стоимость» (указана в скобках около задачи). Максимально допустимая оценка за работу — 10 баллов.\n",
    "\n",
    "Сдавать задание после указанного срока сдачи нельзя. При выставлении неполного балла за задание в связи с наличием ошибок на усмотрение проверяющего предусмотрена возможность исправить работу на указанных в ответном письме условиях.\n",
    "\n",
    "Задание выполняется самостоятельно. «Похожие» решения считаются плагиатом и все задействованные студенты (в том числе те, у кого списали) не могут получить за него больше 0 баллов (подробнее о плагиате см. на странице курса). Если вы нашли решение какого-то из заданий (или его часть) в открытом источнике, необходимо указать ссылку на этот источник в отдельном блоке в конце вашей работы (скорее всего вы будете не единственным, кто это нашел, поэтому чтобы исключить подозрение в плагиате, необходима ссылка на источник).\n",
    "\n",
    "Неэффективная реализация кода может негативно отразиться на оценке.\n",
    "\n",
    "## Формат сдачи\n",
    "Задания сдаются через систему anytask. Посылка должна содержать:\n",
    "* Ноутбук homework-practice-xx-Username.ipynb\n",
    "\n",
    "Username — ваша фамилия и имя на латинице именно в таком порядке"
   ]
  },
  {
   "cell_type": "markdown",
   "metadata": {
    "id": "MsiB3oacs9BG"
   },
   "source": [
    "## О задании\n",
    "\n",
    "В этом задании мы разберем основные техники работы в задачах, где один из классов занимает существенно меньшую долю выборки, чем остальные. Для простоты мы обойдемся бинарной задачей, тем не менее, во многом данные методы можно перенести и на задачи с б**о**льшим числом классов. Кроме того, вы получите очередной бесценный опыт исследования случайной библиотеки случайных индусов с нуля."
   ]
  },
  {
   "cell_type": "code",
   "execution_count": 1,
   "metadata": {
    "id": "I9SXbBCjs9BH"
   },
   "outputs": [],
   "source": [
    "import numpy as np\n",
    "import pandas as pd\n",
    "pd.set_option('display.max_rows', 100)\n",
    "pd.set_option('display.max_columns', 100)\n",
    "\n",
    "import matplotlib.pyplot as plt\n",
    "import seaborn as sns\n",
    "sns.set(style='whitegrid')\n",
    "\n",
    "from tqdm.auto import tqdm"
   ]
  },
  {
   "cell_type": "markdown",
   "metadata": {
    "id": "5l0VsXHes9BI"
   },
   "source": [
    "**Задание -1 (1 балл)**. EDA"
   ]
  },
  {
   "cell_type": "markdown",
   "metadata": {
    "id": "SIund96us9BI"
   },
   "source": [
    "В качестве данных для нашей работы возьмем выложенный на kaggle датасет транзакций, в котором нужно выискивать мошеннические проводки: [клик](https://www.kaggle.com/mlg-ulb/creditcardfraud). Данная задача по определению подходит под несбалансированную, что можно сказать даже без наличия каких-либо данных (понятно, что среди всех транзакций клиентов очень малая часть будет мошеннической).\n",
    "\n",
    "Загрузим данные, проведем некоторые классические манипуляции."
   ]
  },
  {
   "cell_type": "code",
   "execution_count": 2,
   "metadata": {
    "id": "tY2aKqhCs9BJ"
   },
   "outputs": [],
   "source": [
    "\"\"\"%%bash\n",
    "kaggle datasets download -d mlg-ulb/creditcardfraud\n",
    "unzip creditcardfraud.zip\"\"\";"
   ]
  },
  {
   "cell_type": "code",
   "execution_count": 3,
   "metadata": {
    "id": "5_UPWW51s9BJ"
   },
   "outputs": [],
   "source": [
    "df = pd.read_csv('creditcard.csv')"
   ]
  },
  {
   "cell_type": "code",
   "execution_count": 4,
   "metadata": {},
   "outputs": [
    {
     "data": {
      "text/html": [
       "<div>\n",
       "<style scoped>\n",
       "    .dataframe tbody tr th:only-of-type {\n",
       "        vertical-align: middle;\n",
       "    }\n",
       "\n",
       "    .dataframe tbody tr th {\n",
       "        vertical-align: top;\n",
       "    }\n",
       "\n",
       "    .dataframe thead th {\n",
       "        text-align: right;\n",
       "    }\n",
       "</style>\n",
       "<table border=\"1\" class=\"dataframe\">\n",
       "  <thead>\n",
       "    <tr style=\"text-align: right;\">\n",
       "      <th></th>\n",
       "      <th>Time</th>\n",
       "      <th>V1</th>\n",
       "      <th>V2</th>\n",
       "      <th>V3</th>\n",
       "      <th>V4</th>\n",
       "      <th>V5</th>\n",
       "      <th>V6</th>\n",
       "      <th>V7</th>\n",
       "      <th>V8</th>\n",
       "      <th>V9</th>\n",
       "      <th>V10</th>\n",
       "      <th>V11</th>\n",
       "      <th>V12</th>\n",
       "      <th>V13</th>\n",
       "      <th>V14</th>\n",
       "      <th>V15</th>\n",
       "      <th>V16</th>\n",
       "      <th>V17</th>\n",
       "      <th>V18</th>\n",
       "      <th>V19</th>\n",
       "      <th>V20</th>\n",
       "      <th>V21</th>\n",
       "      <th>V22</th>\n",
       "      <th>V23</th>\n",
       "      <th>V24</th>\n",
       "      <th>V25</th>\n",
       "      <th>V26</th>\n",
       "      <th>V27</th>\n",
       "      <th>V28</th>\n",
       "      <th>Amount</th>\n",
       "      <th>Class</th>\n",
       "    </tr>\n",
       "  </thead>\n",
       "  <tbody>\n",
       "    <tr>\n",
       "      <th>0</th>\n",
       "      <td>0.0</td>\n",
       "      <td>-1.359807</td>\n",
       "      <td>-0.072781</td>\n",
       "      <td>2.536347</td>\n",
       "      <td>1.378155</td>\n",
       "      <td>-0.338321</td>\n",
       "      <td>0.462388</td>\n",
       "      <td>0.239599</td>\n",
       "      <td>0.098698</td>\n",
       "      <td>0.363787</td>\n",
       "      <td>0.090794</td>\n",
       "      <td>-0.551600</td>\n",
       "      <td>-0.617801</td>\n",
       "      <td>-0.991390</td>\n",
       "      <td>-0.311169</td>\n",
       "      <td>1.468177</td>\n",
       "      <td>-0.470401</td>\n",
       "      <td>0.207971</td>\n",
       "      <td>0.025791</td>\n",
       "      <td>0.403993</td>\n",
       "      <td>0.251412</td>\n",
       "      <td>-0.018307</td>\n",
       "      <td>0.277838</td>\n",
       "      <td>-0.110474</td>\n",
       "      <td>0.066928</td>\n",
       "      <td>0.128539</td>\n",
       "      <td>-0.189115</td>\n",
       "      <td>0.133558</td>\n",
       "      <td>-0.021053</td>\n",
       "      <td>149.62</td>\n",
       "      <td>0</td>\n",
       "    </tr>\n",
       "    <tr>\n",
       "      <th>1</th>\n",
       "      <td>0.0</td>\n",
       "      <td>1.191857</td>\n",
       "      <td>0.266151</td>\n",
       "      <td>0.166480</td>\n",
       "      <td>0.448154</td>\n",
       "      <td>0.060018</td>\n",
       "      <td>-0.082361</td>\n",
       "      <td>-0.078803</td>\n",
       "      <td>0.085102</td>\n",
       "      <td>-0.255425</td>\n",
       "      <td>-0.166974</td>\n",
       "      <td>1.612727</td>\n",
       "      <td>1.065235</td>\n",
       "      <td>0.489095</td>\n",
       "      <td>-0.143772</td>\n",
       "      <td>0.635558</td>\n",
       "      <td>0.463917</td>\n",
       "      <td>-0.114805</td>\n",
       "      <td>-0.183361</td>\n",
       "      <td>-0.145783</td>\n",
       "      <td>-0.069083</td>\n",
       "      <td>-0.225775</td>\n",
       "      <td>-0.638672</td>\n",
       "      <td>0.101288</td>\n",
       "      <td>-0.339846</td>\n",
       "      <td>0.167170</td>\n",
       "      <td>0.125895</td>\n",
       "      <td>-0.008983</td>\n",
       "      <td>0.014724</td>\n",
       "      <td>2.69</td>\n",
       "      <td>0</td>\n",
       "    </tr>\n",
       "    <tr>\n",
       "      <th>2</th>\n",
       "      <td>1.0</td>\n",
       "      <td>-1.358354</td>\n",
       "      <td>-1.340163</td>\n",
       "      <td>1.773209</td>\n",
       "      <td>0.379780</td>\n",
       "      <td>-0.503198</td>\n",
       "      <td>1.800499</td>\n",
       "      <td>0.791461</td>\n",
       "      <td>0.247676</td>\n",
       "      <td>-1.514654</td>\n",
       "      <td>0.207643</td>\n",
       "      <td>0.624501</td>\n",
       "      <td>0.066084</td>\n",
       "      <td>0.717293</td>\n",
       "      <td>-0.165946</td>\n",
       "      <td>2.345865</td>\n",
       "      <td>-2.890083</td>\n",
       "      <td>1.109969</td>\n",
       "      <td>-0.121359</td>\n",
       "      <td>-2.261857</td>\n",
       "      <td>0.524980</td>\n",
       "      <td>0.247998</td>\n",
       "      <td>0.771679</td>\n",
       "      <td>0.909412</td>\n",
       "      <td>-0.689281</td>\n",
       "      <td>-0.327642</td>\n",
       "      <td>-0.139097</td>\n",
       "      <td>-0.055353</td>\n",
       "      <td>-0.059752</td>\n",
       "      <td>378.66</td>\n",
       "      <td>0</td>\n",
       "    </tr>\n",
       "    <tr>\n",
       "      <th>3</th>\n",
       "      <td>1.0</td>\n",
       "      <td>-0.966272</td>\n",
       "      <td>-0.185226</td>\n",
       "      <td>1.792993</td>\n",
       "      <td>-0.863291</td>\n",
       "      <td>-0.010309</td>\n",
       "      <td>1.247203</td>\n",
       "      <td>0.237609</td>\n",
       "      <td>0.377436</td>\n",
       "      <td>-1.387024</td>\n",
       "      <td>-0.054952</td>\n",
       "      <td>-0.226487</td>\n",
       "      <td>0.178228</td>\n",
       "      <td>0.507757</td>\n",
       "      <td>-0.287924</td>\n",
       "      <td>-0.631418</td>\n",
       "      <td>-1.059647</td>\n",
       "      <td>-0.684093</td>\n",
       "      <td>1.965775</td>\n",
       "      <td>-1.232622</td>\n",
       "      <td>-0.208038</td>\n",
       "      <td>-0.108300</td>\n",
       "      <td>0.005274</td>\n",
       "      <td>-0.190321</td>\n",
       "      <td>-1.175575</td>\n",
       "      <td>0.647376</td>\n",
       "      <td>-0.221929</td>\n",
       "      <td>0.062723</td>\n",
       "      <td>0.061458</td>\n",
       "      <td>123.50</td>\n",
       "      <td>0</td>\n",
       "    </tr>\n",
       "    <tr>\n",
       "      <th>4</th>\n",
       "      <td>2.0</td>\n",
       "      <td>-1.158233</td>\n",
       "      <td>0.877737</td>\n",
       "      <td>1.548718</td>\n",
       "      <td>0.403034</td>\n",
       "      <td>-0.407193</td>\n",
       "      <td>0.095921</td>\n",
       "      <td>0.592941</td>\n",
       "      <td>-0.270533</td>\n",
       "      <td>0.817739</td>\n",
       "      <td>0.753074</td>\n",
       "      <td>-0.822843</td>\n",
       "      <td>0.538196</td>\n",
       "      <td>1.345852</td>\n",
       "      <td>-1.119670</td>\n",
       "      <td>0.175121</td>\n",
       "      <td>-0.451449</td>\n",
       "      <td>-0.237033</td>\n",
       "      <td>-0.038195</td>\n",
       "      <td>0.803487</td>\n",
       "      <td>0.408542</td>\n",
       "      <td>-0.009431</td>\n",
       "      <td>0.798278</td>\n",
       "      <td>-0.137458</td>\n",
       "      <td>0.141267</td>\n",
       "      <td>-0.206010</td>\n",
       "      <td>0.502292</td>\n",
       "      <td>0.219422</td>\n",
       "      <td>0.215153</td>\n",
       "      <td>69.99</td>\n",
       "      <td>0</td>\n",
       "    </tr>\n",
       "    <tr>\n",
       "      <th>...</th>\n",
       "      <td>...</td>\n",
       "      <td>...</td>\n",
       "      <td>...</td>\n",
       "      <td>...</td>\n",
       "      <td>...</td>\n",
       "      <td>...</td>\n",
       "      <td>...</td>\n",
       "      <td>...</td>\n",
       "      <td>...</td>\n",
       "      <td>...</td>\n",
       "      <td>...</td>\n",
       "      <td>...</td>\n",
       "      <td>...</td>\n",
       "      <td>...</td>\n",
       "      <td>...</td>\n",
       "      <td>...</td>\n",
       "      <td>...</td>\n",
       "      <td>...</td>\n",
       "      <td>...</td>\n",
       "      <td>...</td>\n",
       "      <td>...</td>\n",
       "      <td>...</td>\n",
       "      <td>...</td>\n",
       "      <td>...</td>\n",
       "      <td>...</td>\n",
       "      <td>...</td>\n",
       "      <td>...</td>\n",
       "      <td>...</td>\n",
       "      <td>...</td>\n",
       "      <td>...</td>\n",
       "      <td>...</td>\n",
       "    </tr>\n",
       "    <tr>\n",
       "      <th>284802</th>\n",
       "      <td>172786.0</td>\n",
       "      <td>-11.881118</td>\n",
       "      <td>10.071785</td>\n",
       "      <td>-9.834783</td>\n",
       "      <td>-2.066656</td>\n",
       "      <td>-5.364473</td>\n",
       "      <td>-2.606837</td>\n",
       "      <td>-4.918215</td>\n",
       "      <td>7.305334</td>\n",
       "      <td>1.914428</td>\n",
       "      <td>4.356170</td>\n",
       "      <td>-1.593105</td>\n",
       "      <td>2.711941</td>\n",
       "      <td>-0.689256</td>\n",
       "      <td>4.626942</td>\n",
       "      <td>-0.924459</td>\n",
       "      <td>1.107641</td>\n",
       "      <td>1.991691</td>\n",
       "      <td>0.510632</td>\n",
       "      <td>-0.682920</td>\n",
       "      <td>1.475829</td>\n",
       "      <td>0.213454</td>\n",
       "      <td>0.111864</td>\n",
       "      <td>1.014480</td>\n",
       "      <td>-0.509348</td>\n",
       "      <td>1.436807</td>\n",
       "      <td>0.250034</td>\n",
       "      <td>0.943651</td>\n",
       "      <td>0.823731</td>\n",
       "      <td>0.77</td>\n",
       "      <td>0</td>\n",
       "    </tr>\n",
       "    <tr>\n",
       "      <th>284803</th>\n",
       "      <td>172787.0</td>\n",
       "      <td>-0.732789</td>\n",
       "      <td>-0.055080</td>\n",
       "      <td>2.035030</td>\n",
       "      <td>-0.738589</td>\n",
       "      <td>0.868229</td>\n",
       "      <td>1.058415</td>\n",
       "      <td>0.024330</td>\n",
       "      <td>0.294869</td>\n",
       "      <td>0.584800</td>\n",
       "      <td>-0.975926</td>\n",
       "      <td>-0.150189</td>\n",
       "      <td>0.915802</td>\n",
       "      <td>1.214756</td>\n",
       "      <td>-0.675143</td>\n",
       "      <td>1.164931</td>\n",
       "      <td>-0.711757</td>\n",
       "      <td>-0.025693</td>\n",
       "      <td>-1.221179</td>\n",
       "      <td>-1.545556</td>\n",
       "      <td>0.059616</td>\n",
       "      <td>0.214205</td>\n",
       "      <td>0.924384</td>\n",
       "      <td>0.012463</td>\n",
       "      <td>-1.016226</td>\n",
       "      <td>-0.606624</td>\n",
       "      <td>-0.395255</td>\n",
       "      <td>0.068472</td>\n",
       "      <td>-0.053527</td>\n",
       "      <td>24.79</td>\n",
       "      <td>0</td>\n",
       "    </tr>\n",
       "    <tr>\n",
       "      <th>284804</th>\n",
       "      <td>172788.0</td>\n",
       "      <td>1.919565</td>\n",
       "      <td>-0.301254</td>\n",
       "      <td>-3.249640</td>\n",
       "      <td>-0.557828</td>\n",
       "      <td>2.630515</td>\n",
       "      <td>3.031260</td>\n",
       "      <td>-0.296827</td>\n",
       "      <td>0.708417</td>\n",
       "      <td>0.432454</td>\n",
       "      <td>-0.484782</td>\n",
       "      <td>0.411614</td>\n",
       "      <td>0.063119</td>\n",
       "      <td>-0.183699</td>\n",
       "      <td>-0.510602</td>\n",
       "      <td>1.329284</td>\n",
       "      <td>0.140716</td>\n",
       "      <td>0.313502</td>\n",
       "      <td>0.395652</td>\n",
       "      <td>-0.577252</td>\n",
       "      <td>0.001396</td>\n",
       "      <td>0.232045</td>\n",
       "      <td>0.578229</td>\n",
       "      <td>-0.037501</td>\n",
       "      <td>0.640134</td>\n",
       "      <td>0.265745</td>\n",
       "      <td>-0.087371</td>\n",
       "      <td>0.004455</td>\n",
       "      <td>-0.026561</td>\n",
       "      <td>67.88</td>\n",
       "      <td>0</td>\n",
       "    </tr>\n",
       "    <tr>\n",
       "      <th>284805</th>\n",
       "      <td>172788.0</td>\n",
       "      <td>-0.240440</td>\n",
       "      <td>0.530483</td>\n",
       "      <td>0.702510</td>\n",
       "      <td>0.689799</td>\n",
       "      <td>-0.377961</td>\n",
       "      <td>0.623708</td>\n",
       "      <td>-0.686180</td>\n",
       "      <td>0.679145</td>\n",
       "      <td>0.392087</td>\n",
       "      <td>-0.399126</td>\n",
       "      <td>-1.933849</td>\n",
       "      <td>-0.962886</td>\n",
       "      <td>-1.042082</td>\n",
       "      <td>0.449624</td>\n",
       "      <td>1.962563</td>\n",
       "      <td>-0.608577</td>\n",
       "      <td>0.509928</td>\n",
       "      <td>1.113981</td>\n",
       "      <td>2.897849</td>\n",
       "      <td>0.127434</td>\n",
       "      <td>0.265245</td>\n",
       "      <td>0.800049</td>\n",
       "      <td>-0.163298</td>\n",
       "      <td>0.123205</td>\n",
       "      <td>-0.569159</td>\n",
       "      <td>0.546668</td>\n",
       "      <td>0.108821</td>\n",
       "      <td>0.104533</td>\n",
       "      <td>10.00</td>\n",
       "      <td>0</td>\n",
       "    </tr>\n",
       "    <tr>\n",
       "      <th>284806</th>\n",
       "      <td>172792.0</td>\n",
       "      <td>-0.533413</td>\n",
       "      <td>-0.189733</td>\n",
       "      <td>0.703337</td>\n",
       "      <td>-0.506271</td>\n",
       "      <td>-0.012546</td>\n",
       "      <td>-0.649617</td>\n",
       "      <td>1.577006</td>\n",
       "      <td>-0.414650</td>\n",
       "      <td>0.486180</td>\n",
       "      <td>-0.915427</td>\n",
       "      <td>-1.040458</td>\n",
       "      <td>-0.031513</td>\n",
       "      <td>-0.188093</td>\n",
       "      <td>-0.084316</td>\n",
       "      <td>0.041333</td>\n",
       "      <td>-0.302620</td>\n",
       "      <td>-0.660377</td>\n",
       "      <td>0.167430</td>\n",
       "      <td>-0.256117</td>\n",
       "      <td>0.382948</td>\n",
       "      <td>0.261057</td>\n",
       "      <td>0.643078</td>\n",
       "      <td>0.376777</td>\n",
       "      <td>0.008797</td>\n",
       "      <td>-0.473649</td>\n",
       "      <td>-0.818267</td>\n",
       "      <td>-0.002415</td>\n",
       "      <td>0.013649</td>\n",
       "      <td>217.00</td>\n",
       "      <td>0</td>\n",
       "    </tr>\n",
       "  </tbody>\n",
       "</table>\n",
       "<p>284807 rows × 31 columns</p>\n",
       "</div>"
      ],
      "text/plain": [
       "            Time         V1         V2        V3        V4        V5  \\\n",
       "0            0.0  -1.359807  -0.072781  2.536347  1.378155 -0.338321   \n",
       "1            0.0   1.191857   0.266151  0.166480  0.448154  0.060018   \n",
       "2            1.0  -1.358354  -1.340163  1.773209  0.379780 -0.503198   \n",
       "3            1.0  -0.966272  -0.185226  1.792993 -0.863291 -0.010309   \n",
       "4            2.0  -1.158233   0.877737  1.548718  0.403034 -0.407193   \n",
       "...          ...        ...        ...       ...       ...       ...   \n",
       "284802  172786.0 -11.881118  10.071785 -9.834783 -2.066656 -5.364473   \n",
       "284803  172787.0  -0.732789  -0.055080  2.035030 -0.738589  0.868229   \n",
       "284804  172788.0   1.919565  -0.301254 -3.249640 -0.557828  2.630515   \n",
       "284805  172788.0  -0.240440   0.530483  0.702510  0.689799 -0.377961   \n",
       "284806  172792.0  -0.533413  -0.189733  0.703337 -0.506271 -0.012546   \n",
       "\n",
       "              V6        V7        V8        V9       V10       V11       V12  \\\n",
       "0       0.462388  0.239599  0.098698  0.363787  0.090794 -0.551600 -0.617801   \n",
       "1      -0.082361 -0.078803  0.085102 -0.255425 -0.166974  1.612727  1.065235   \n",
       "2       1.800499  0.791461  0.247676 -1.514654  0.207643  0.624501  0.066084   \n",
       "3       1.247203  0.237609  0.377436 -1.387024 -0.054952 -0.226487  0.178228   \n",
       "4       0.095921  0.592941 -0.270533  0.817739  0.753074 -0.822843  0.538196   \n",
       "...          ...       ...       ...       ...       ...       ...       ...   \n",
       "284802 -2.606837 -4.918215  7.305334  1.914428  4.356170 -1.593105  2.711941   \n",
       "284803  1.058415  0.024330  0.294869  0.584800 -0.975926 -0.150189  0.915802   \n",
       "284804  3.031260 -0.296827  0.708417  0.432454 -0.484782  0.411614  0.063119   \n",
       "284805  0.623708 -0.686180  0.679145  0.392087 -0.399126 -1.933849 -0.962886   \n",
       "284806 -0.649617  1.577006 -0.414650  0.486180 -0.915427 -1.040458 -0.031513   \n",
       "\n",
       "             V13       V14       V15       V16       V17       V18       V19  \\\n",
       "0      -0.991390 -0.311169  1.468177 -0.470401  0.207971  0.025791  0.403993   \n",
       "1       0.489095 -0.143772  0.635558  0.463917 -0.114805 -0.183361 -0.145783   \n",
       "2       0.717293 -0.165946  2.345865 -2.890083  1.109969 -0.121359 -2.261857   \n",
       "3       0.507757 -0.287924 -0.631418 -1.059647 -0.684093  1.965775 -1.232622   \n",
       "4       1.345852 -1.119670  0.175121 -0.451449 -0.237033 -0.038195  0.803487   \n",
       "...          ...       ...       ...       ...       ...       ...       ...   \n",
       "284802 -0.689256  4.626942 -0.924459  1.107641  1.991691  0.510632 -0.682920   \n",
       "284803  1.214756 -0.675143  1.164931 -0.711757 -0.025693 -1.221179 -1.545556   \n",
       "284804 -0.183699 -0.510602  1.329284  0.140716  0.313502  0.395652 -0.577252   \n",
       "284805 -1.042082  0.449624  1.962563 -0.608577  0.509928  1.113981  2.897849   \n",
       "284806 -0.188093 -0.084316  0.041333 -0.302620 -0.660377  0.167430 -0.256117   \n",
       "\n",
       "             V20       V21       V22       V23       V24       V25       V26  \\\n",
       "0       0.251412 -0.018307  0.277838 -0.110474  0.066928  0.128539 -0.189115   \n",
       "1      -0.069083 -0.225775 -0.638672  0.101288 -0.339846  0.167170  0.125895   \n",
       "2       0.524980  0.247998  0.771679  0.909412 -0.689281 -0.327642 -0.139097   \n",
       "3      -0.208038 -0.108300  0.005274 -0.190321 -1.175575  0.647376 -0.221929   \n",
       "4       0.408542 -0.009431  0.798278 -0.137458  0.141267 -0.206010  0.502292   \n",
       "...          ...       ...       ...       ...       ...       ...       ...   \n",
       "284802  1.475829  0.213454  0.111864  1.014480 -0.509348  1.436807  0.250034   \n",
       "284803  0.059616  0.214205  0.924384  0.012463 -1.016226 -0.606624 -0.395255   \n",
       "284804  0.001396  0.232045  0.578229 -0.037501  0.640134  0.265745 -0.087371   \n",
       "284805  0.127434  0.265245  0.800049 -0.163298  0.123205 -0.569159  0.546668   \n",
       "284806  0.382948  0.261057  0.643078  0.376777  0.008797 -0.473649 -0.818267   \n",
       "\n",
       "             V27       V28  Amount  Class  \n",
       "0       0.133558 -0.021053  149.62      0  \n",
       "1      -0.008983  0.014724    2.69      0  \n",
       "2      -0.055353 -0.059752  378.66      0  \n",
       "3       0.062723  0.061458  123.50      0  \n",
       "4       0.219422  0.215153   69.99      0  \n",
       "...          ...       ...     ...    ...  \n",
       "284802  0.943651  0.823731    0.77      0  \n",
       "284803  0.068472 -0.053527   24.79      0  \n",
       "284804  0.004455 -0.026561   67.88      0  \n",
       "284805  0.108821  0.104533   10.00      0  \n",
       "284806 -0.002415  0.013649  217.00      0  \n",
       "\n",
       "[284807 rows x 31 columns]"
      ]
     },
     "execution_count": 4,
     "metadata": {},
     "output_type": "execute_result"
    }
   ],
   "source": [
    "df"
   ]
  },
  {
   "cell_type": "markdown",
   "metadata": {
    "id": "St9c_rxKs9BK"
   },
   "source": [
    "Наши данные были анонимизированы. Мы имеем 30 признаков, из которых 28 - это результаты PCA-преобразования на исходном датасете. Еще 2 признака представляют собой время в секундах, прошедшее с момента первой транзакции в датасете, и размер транзакции. Скажите, какова доля положительных объектов в выборке?"
   ]
  },
  {
   "cell_type": "code",
   "execution_count": 5,
   "metadata": {
    "id": "w5P1I6lgs9BL"
   },
   "outputs": [
    {
     "name": "stdout",
     "output_type": "stream",
     "text": [
      "Доля положительных объектов в выборке: 0.001727485630620034\n"
     ]
    }
   ],
   "source": [
    "mn = df['Class'].mean()\n",
    "print(f'Доля положительных объектов в выборке: {mn}')"
   ]
  },
  {
   "cell_type": "markdown",
   "metadata": {
    "id": "eu2TTGCws9BL"
   },
   "source": [
    "Начнем с обработки времени. Секунды сами по себе не несут большой информации о зависимостях в данных, попробуйте по ним создать признаки \"час\" (от 0 до 23) и \"день\" (от 0 до ...) в аналогичной манере (принимая первый объект выборки за начальную точку). Сколько дней покрывают данные?"
   ]
  },
  {
   "cell_type": "code",
   "execution_count": 6,
   "metadata": {
    "id": "FW414k0js9BL"
   },
   "outputs": [],
   "source": [
    "df['hour'] = ((df['Time'] / 3600) % 24).apply(int)\n",
    "df['day'] = (df['Time'] / (3600 * 24)).apply(int)"
   ]
  },
  {
   "cell_type": "code",
   "execution_count": 7,
   "metadata": {},
   "outputs": [
    {
     "name": "stdout",
     "output_type": "stream",
     "text": [
      "Данные покрывают 2 дня\n"
     ]
    }
   ],
   "source": [
    "num_days = df['day'].max() + 1\n",
    "print(f'Данные покрывают {num_days} дня')"
   ]
  },
  {
   "cell_type": "markdown",
   "metadata": {
    "id": "QU5oagixs9BL"
   },
   "source": [
    "Постройте следующие графики:\n",
    "\n",
    "1. Распределение числа транзакций по каждому часу (line-plot).\n",
    "2. Распределение доли мошеннических транзакций по каждому часу (line-plot)\n",
    "3. То же самое для дней (здесь можно использовать bar-plot, так как дней должно быть немного).\n",
    "\n",
    "Какие выводы можно сделать из графиков? На ваш взгляд, как можно связать полученные нами часы с реальными часами в сутках?"
   ]
  },
  {
   "cell_type": "code",
   "execution_count": 8,
   "metadata": {},
   "outputs": [],
   "source": [
    "sns.set(font_scale = 1.2)"
   ]
  },
  {
   "cell_type": "code",
   "execution_count": 9,
   "metadata": {
    "id": "DGozHHXxs9BM"
   },
   "outputs": [
    {
     "data": {
      "text/plain": [
       "''"
      ]
     },
     "execution_count": 9,
     "metadata": {},
     "output_type": "execute_result"
    },
    {
     "data": {
      "image/png": "[encoded data removed]",
      "text/plain": [
       "<Figure size 1152x432 with 2 Axes>"
      ]
     },
     "metadata": {},
     "output_type": "display_data"
    }
   ],
   "source": [
    "plt.figure(figsize = (16, 6))\n",
    "\n",
    "plt.subplot(1, 2, 1)\n",
    "plt.title('Количество операций по часам', fontsize = 14)\n",
    "plt.xlabel('Час')\n",
    "plt.ylabel('Число операций')\n",
    "num_operations = df['hour'].value_counts().sort_index().values    # считаем для каждого часа число транзакций\n",
    "sns.lineplot(x = np.arange(24), y = num_operations)\n",
    "\n",
    "plt.subplot(1, 2, 2)\n",
    "plt.title('Доля мошеннических операций по часам', fontsize = 14)\n",
    "plt.xlabel('Час')\n",
    "plt.ylabel('Доля мошеннических проводок')\n",
    "scam = df.groupby('hour')['Class'].mean().values                  # для каждого часа среднее по Class\n",
    "sns.lineplot(x = np.arange(24), y = scam)\n",
    ";"
   ]
  },
  {
   "cell_type": "code",
   "execution_count": 10,
   "metadata": {},
   "outputs": [
    {
     "data": {
      "text/plain": [
       "''"
      ]
     },
     "execution_count": 10,
     "metadata": {},
     "output_type": "execute_result"
    },
    {
     "data": {
      "image/png": "[encoded data removed]",
      "text/plain": [
       "<Figure size 1152x432 with 2 Axes>"
      ]
     },
     "metadata": {},
     "output_type": "display_data"
    }
   ],
   "source": [
    "plt.figure(figsize = (16, 6))\n",
    "\n",
    "plt.subplot(1, 2, 1)\n",
    "plt.title('Количество операций по дням', fontsize = 14)\n",
    "plt.xlabel('День')\n",
    "plt.ylabel('Число операций')\n",
    "operations_days = df['day'].value_counts().sort_index().values    # считаем для каждого часа число транзакций\n",
    "sns.barplot(x = [0, 1], y = operations_days)\n",
    "\n",
    "plt.subplot(1, 2, 2)\n",
    "plt.title('Доля мошеннических операций по дням', fontsize = 14)\n",
    "plt.xlabel('День')\n",
    "plt.ylabel('Доля мошеннических проводок')\n",
    "scam_days = df.groupby('day')['Class'].mean().values                  # для каждого часа среднее по Class\n",
    "sns.barplot(x = [0, 1], y = scam_days)\n",
    ";"
   ]
  },
  {
   "cell_type": "markdown",
   "metadata": {},
   "source": [
    "Из графиков можно увидеть, что распределение транзакций по дням примерно одинаковое, в то же время в первый день доля мошеннических операций заметно побольше.\n",
    "\n",
    "Что касается часов, то тут число операций убывает с 0 до 5, потом постепенно растет и выходит на плато примерно в 10, а в 20 снова начинает убывать. Если сравнивать с реальными часами в сутках, то мне кажется промежуток от 0 до 5 это время когда люди спят (5 - это что-то типо 7-8 утра), тут как раз много мошеннических проводок и мало операций в принципе, потом число операций растет в течение дня, а число скама убывает, и где-то в 21 люди снова ложатся спать (то есть это что-то типа 00:00)\n",
    "\n",
    "В общем мне кажется, что мошенники орудуют именно ночью, возможно это на самом деле не так, но как минимум, если судить по активности, получается именно так."
   ]
  },
  {
   "cell_type": "markdown",
   "metadata": {
    "id": "kl7hLlhBs9BM"
   },
   "source": [
    "С анонимизированными признаками вряд ли можно придумать что-то интересное. Попробуйте (например, с помощью корреляции?) выбрать несколько наиболее важных признаков и поглядеть на различия в их распределении для разных классов."
   ]
  },
  {
   "cell_type": "code",
   "execution_count": 11,
   "metadata": {
    "id": "UfFy6Qhys9BM"
   },
   "outputs": [
    {
     "data": {
      "text/plain": [
       "Class    1.000000\n",
       "V17      0.326481\n",
       "V14      0.302544\n",
       "V12      0.260593\n",
       "Name: Class, dtype: float64"
      ]
     },
     "execution_count": 11,
     "metadata": {},
     "output_type": "execute_result"
    }
   ],
   "source": [
    "np.abs(df.corr())['Class'].sort_values(ascending = False)[:4]"
   ]
  },
  {
   "cell_type": "markdown",
   "metadata": {},
   "source": [
    "Как мы видим, наиболее высокую корреляцию с таргетом показывают признаки 12, 14 и 17. Посмотрим на их распределения для разных классов:"
   ]
  },
  {
   "cell_type": "code",
   "execution_count": 12,
   "metadata": {},
   "outputs": [
    {
     "data": {
      "text/plain": [
       "''"
      ]
     },
     "execution_count": 12,
     "metadata": {},
     "output_type": "execute_result"
    },
    {
     "data": {
      "image/png": "[encoded data removed]",
      "text/plain": [
       "<Figure size 1152x864 with 3 Axes>"
      ]
     },
     "metadata": {},
     "output_type": "display_data"
    }
   ],
   "source": [
    "plt.figure(figsize=(16, 12))\n",
    "plt.suptitle('Распределение важных признаков по классам')\n",
    "\n",
    "plt.subplot(2, 2, 1)\n",
    "plt.hist(df[df['Class'] == 1]['V12'], density=True, alpha=0.4, label='скам')\n",
    "plt.hist(df[df['Class'] == 0]['V12'], density=True, alpha=0.4, label='не скам')\n",
    "plt.title('Распределение V12')\n",
    "plt.xlabel('Значение признака')\n",
    "plt.ylabel('Плотность')\n",
    "plt.legend()\n",
    "\n",
    "plt.subplot(2, 2, 2)\n",
    "plt.hist(df[df['Class'] == 1]['V14'], density=True, alpha=0.4, label='скам')\n",
    "plt.hist(df[df['Class'] == 0]['V14'], density=True, alpha=0.4, label='не скам')\n",
    "plt.title('Распределение V14')\n",
    "plt.xlabel('Значение признака')\n",
    "plt.ylabel('Плотность')\n",
    "plt.legend()\n",
    "\n",
    "plt.subplot(2, 2, 3)\n",
    "plt.hist(df[df['Class'] == 1]['V17'], density=True, alpha=0.4, label='скам')\n",
    "plt.hist(df[df['Class'] == 0]['V17'], density=True, alpha=0.4, label='не скам')\n",
    "plt.title('Распределение V17')\n",
    "plt.xlabel('Значение признака')\n",
    "plt.ylabel('Плотность')\n",
    "plt.legend()\n",
    ";"
   ]
  },
  {
   "cell_type": "markdown",
   "metadata": {},
   "source": [
    "Решил отразить именно плотность, чтобы можно было наложить графики (понятно, что наблюдений со скамом сильно меньше). Тут мы видим, что для каких-то значений признаков встречается только один класс"
   ]
  },
  {
   "cell_type": "markdown",
   "metadata": {
    "id": "CxCb9nars9BM"
   },
   "source": [
    "Теперь давайте разделим данные. Отделите хронологически последние 20% транзакций и поделите их пополам (также хронологически, т.е. без перемешивания) на валидационные и тестовые. Это разбиение не совсем корректно (как можно было заметить, мошеннические транзакции имеют разное распределение во времени - по-хорошему, нам стоило бы выделить целые сутки записей как под валидацию, так и под тест), тем не менее, мы не сможем получить больше данных для адекватного контроля, поэтому обойдемся этим. "
   ]
  },
  {
   "cell_type": "code",
   "execution_count": 13,
   "metadata": {},
   "outputs": [],
   "source": [
    "from sklearn.model_selection import train_test_split"
   ]
  },
  {
   "cell_type": "code",
   "execution_count": 14,
   "metadata": {
    "id": "9XXA9XDjs9BN"
   },
   "outputs": [],
   "source": [
    "X = df.drop(columns = 'Class')\n",
    "y = df['Class']\n",
    "\n",
    "X_train, X_other, y_train, y_other = train_test_split(X, y, test_size = 0.2, shuffle = False)\n",
    "X_val, X_test, y_val, y_test = train_test_split(X_other, y_other, test_size = 0.5, shuffle = False)"
   ]
  },
  {
   "cell_type": "markdown",
   "metadata": {
    "id": "a06ZUN0Ms9BN"
   },
   "source": [
    "# Часть 1. Несбалансированная классификация."
   ]
  },
  {
   "cell_type": "markdown",
   "metadata": {
    "id": "h6Gaot3Fs9BN"
   },
   "source": [
    "**Задание 0. (1 балл)**: перед началом работы давайте поговорим о том, как мы будем оценивать качество. Классические метрики для качества классификации чаще всего \"ломаются\" на задачах с сильным перекосом. Чему будет равно значение accuracy для наивного предсказания (= мажорный класс для каждого объекта)? (можете не отвечать, просто подумайте)\n",
    "\n",
    "Из курса МО-1 вам уже известно, что мы можем использовать в таких задачах `AUC-PR` и получать адекватные показатели. Можно сказать, что `AUC-PR` представляет собой матожидание `precision` по распределению, заданному выигрышем в `recall` при смене порога. "
   ]
  },
  {
   "cell_type": "markdown",
   "metadata": {},
   "source": [
    "В группе писали, что не нужно метрики считать вручную, так что просто импортирую"
   ]
  },
  {
   "cell_type": "code",
   "execution_count": 15,
   "metadata": {
    "id": "FN144XVps9BO"
   },
   "outputs": [],
   "source": [
    "from sklearn.metrics import average_precision_score"
   ]
  },
  {
   "cell_type": "markdown",
   "metadata": {
    "id": "haRPLskDs9BO"
   },
   "source": [
    "Тем не менее, существуют и другие, не менее интересные метрики. Одной из таких метрик является коэффициент Каппа Коэна, представляющий собой нормализованную `accuracy`:\n",
    "\n",
    "$$\\kappa = \\frac{p_o - p_e}{1 - p_e}$$\n",
    "\n",
    "Данная метрика служит в качестве меры согласованности между двумя независимыми предсказателями, но ничего не знает про \"верные\" и \"предсказанные\" метки (в отличие от многих других метрик машинного обучения). Здесь $p_o$ - доля согласованных предсказаний, а $p_e$ - доля согласованных предсказаний, которая могла бы получиться при случайных ответах предсказателей. В нашем случае это работает так:\n",
    "\n",
    "• В качестве $p_o$ берем accuracy\n",
    "\n",
    "• В качестве $p_e$ примем следующую величину - вероятность случайного соглашения позитивных ответов (произведение долей позитивных ответов в обоих предсказаниях) плюс вероятность случайного соглашения негативных ответов (произведение долей негативных ответов в обоих предсказаниях)\n",
    "\n",
    "Метрика принимает значения от -1 до 1, где 1 - полная согласованность, 0 - согласованность на уровне рандома, -1 - совсем плохо. Как уже говорилось, метрика не различает \"верные\" и \"предсказанные\" метки, поэтому является симметричной (можете использовать это для отладки):"
   ]
  },
  {
   "cell_type": "code",
   "execution_count": 16,
   "metadata": {
    "id": "LC4U_7ays9BO"
   },
   "outputs": [],
   "source": [
    "from sklearn.metrics import cohen_kappa_score"
   ]
  },
  {
   "cell_type": "markdown",
   "metadata": {
    "id": "vldIZwrMs9BP"
   },
   "source": [
    "Еще одной метрикой в такой задаче служит коэффициент корреляции Мэтьюза, выражающийся в терминах матрицы ошибок следующим образом:\n",
    "\n",
    "$$\\text{MCC} = \\frac{TP\\times TN - FP \\times FN}{\\sqrt{(TP+FP)(TP+FN)(TN+FP)(TN+FN)}}$$ \n",
    "\n",
    "Метрика принимает значения от -1 до 1, интерпретируемые аналогичным образом. "
   ]
  },
  {
   "cell_type": "code",
   "execution_count": 17,
   "metadata": {
    "id": "rsKSZScts9BP"
   },
   "outputs": [],
   "source": [
    "from sklearn.metrics import matthews_corrcoef"
   ]
  },
  {
   "cell_type": "markdown",
   "metadata": {
    "id": "GaOHYiZPs9BP"
   },
   "source": [
    "Обратите внимание, что эти метрики вычисляются на бинаризованных предсказаниях, поэтому может иметь смысл дополнительная настройка порога бинаризации."
   ]
  },
  {
   "cell_type": "markdown",
   "metadata": {
    "id": "TBsLuK2ds9BQ"
   },
   "source": [
    "Давайте проверим, что наши метрики действительно подходят под задачу. Вычислите их значения для наивного предсказания (aka мажорный класс для всех объектов):"
   ]
  },
  {
   "cell_type": "code",
   "execution_count": 18,
   "metadata": {
    "id": "LM_Q37gAs9BQ"
   },
   "outputs": [
    {
     "data": {
      "text/html": [
       "<div>\n",
       "<style scoped>\n",
       "    .dataframe tbody tr th:only-of-type {\n",
       "        vertical-align: middle;\n",
       "    }\n",
       "\n",
       "    .dataframe tbody tr th {\n",
       "        vertical-align: top;\n",
       "    }\n",
       "\n",
       "    .dataframe thead th {\n",
       "        text-align: right;\n",
       "    }\n",
       "</style>\n",
       "<table border=\"1\" class=\"dataframe\">\n",
       "  <thead>\n",
       "    <tr style=\"text-align: right;\">\n",
       "      <th></th>\n",
       "      <th>AUC-PR</th>\n",
       "      <th>Cohen-Kappa</th>\n",
       "      <th>Matthews Corr</th>\n",
       "    </tr>\n",
       "  </thead>\n",
       "  <tbody>\n",
       "    <tr>\n",
       "      <th>Naive</th>\n",
       "      <td>0.000772</td>\n",
       "      <td>0.0</td>\n",
       "      <td>0.0</td>\n",
       "    </tr>\n",
       "  </tbody>\n",
       "</table>\n",
       "</div>"
      ],
      "text/plain": [
       "         AUC-PR  Cohen-Kappa  Matthews Corr\n",
       "Naive  0.000772          0.0            0.0"
      ]
     },
     "execution_count": 18,
     "metadata": {},
     "output_type": "execute_result"
    }
   ],
   "source": [
    "pred_naive = np.zeros(shape = len(y_test))\n",
    "\n",
    "pr_naive = average_precision_score(y_test, pred_naive)\n",
    "ck_naive = cohen_kappa_score(y_test, pred_naive)\n",
    "matt_naive = matthews_corrcoef(y_test, pred_naive)\n",
    "\n",
    "df_metrics = pd.DataFrame(columns = ['AUC-PR', 'Cohen-Kappa', 'Matthews Corr'])\n",
    "df_metrics.loc['Naive'] = [pr_naive, ck_naive, matt_naive]\n",
    "df_metrics"
   ]
  },
  {
   "cell_type": "markdown",
   "metadata": {
    "id": "nwryyw3ts9BQ"
   },
   "source": [
    "Давайте запустим бейзлайн-решение для нашей задачи. С чего же начнем? Возьмите `catboost` и обучите его классификатор на наших данных (используйте все признаки). Вычислите значения всех метрик на тестовой части, для контроля переобучения используйте валидационную (здесь и далее везде, где фигурирует `catboost`). "
   ]
  },
  {
   "cell_type": "code",
   "execution_count": 19,
   "metadata": {
    "id": "C3R-MRd7s9BQ"
   },
   "outputs": [],
   "source": [
    "from catboost import CatBoostClassifier"
   ]
  },
  {
   "cell_type": "code",
   "execution_count": 20,
   "metadata": {
    "id": "ZFFhboVQs9BR"
   },
   "outputs": [
    {
     "data": {
      "text/html": [
       "<div>\n",
       "<style scoped>\n",
       "    .dataframe tbody tr th:only-of-type {\n",
       "        vertical-align: middle;\n",
       "    }\n",
       "\n",
       "    .dataframe tbody tr th {\n",
       "        vertical-align: top;\n",
       "    }\n",
       "\n",
       "    .dataframe thead th {\n",
       "        text-align: right;\n",
       "    }\n",
       "</style>\n",
       "<table border=\"1\" class=\"dataframe\">\n",
       "  <thead>\n",
       "    <tr style=\"text-align: right;\">\n",
       "      <th></th>\n",
       "      <th>AUC-PR</th>\n",
       "      <th>Cohen-Kappa</th>\n",
       "      <th>Matthews Corr</th>\n",
       "    </tr>\n",
       "  </thead>\n",
       "  <tbody>\n",
       "    <tr>\n",
       "      <th>Naive</th>\n",
       "      <td>0.000772</td>\n",
       "      <td>0.000000</td>\n",
       "      <td>0.000000</td>\n",
       "    </tr>\n",
       "    <tr>\n",
       "      <th>Catboost</th>\n",
       "      <td>0.701049</td>\n",
       "      <td>0.717759</td>\n",
       "      <td>0.723739</td>\n",
       "    </tr>\n",
       "  </tbody>\n",
       "</table>\n",
       "</div>"
      ],
      "text/plain": [
       "            AUC-PR  Cohen-Kappa  Matthews Corr\n",
       "Naive     0.000772     0.000000       0.000000\n",
       "Catboost  0.701049     0.717759       0.723739"
      ]
     },
     "execution_count": 20,
     "metadata": {},
     "output_type": "execute_result"
    }
   ],
   "source": [
    "model_cat = CatBoostClassifier(random_state = 52)\n",
    "model_cat.fit(X_train, y_train, eval_set = (X_val, y_val), use_best_model = True, verbose = False)\n",
    "\n",
    "pred_cat_proba = model_cat.predict_proba(X_test)[:, 1]\n",
    "pred_cat = model_cat.predict(X_test)\n",
    "\n",
    "pr_cat = average_precision_score(y_test, pred_cat_proba)\n",
    "ck_cat = cohen_kappa_score(y_test, pred_cat)\n",
    "matt_cat = matthews_corrcoef(y_test, pred_cat)\n",
    "\n",
    "df_metrics.loc['Catboost'] = [pr_cat, ck_cat, matt_cat]\n",
    "df_metrics"
   ]
  },
  {
   "cell_type": "markdown",
   "metadata": {
    "id": "zs-ZjQDLs9BR"
   },
   "source": [
    "Если вы все сделали правильно, у вас должны были получиться значения в районе 0.7."
   ]
  },
  {
   "cell_type": "markdown",
   "metadata": {
    "id": "slOmV65fs9BR"
   },
   "source": [
    "**Задание 1. (1 балл)**. Многие реализации методов предлагают встроенные способы для борьбы с нашей проблемой. Самое часто встречающееся решение - просто добавить вес в функции потерь для минорного класса (таким образом, ошибка на объекте минорного класса будет весить больше, чем для мажорного). В `catboost` это также реализовано, причем для бинарной задачи это можно сделать целыми двумя способами (можете выбрать любой, на свой вкус, автор задания предпочитает отдельный скейлинг для минорного класса). Чаще всего в качестве веса берется отношение числа объектов мажорного класса к числу минорного. Попробуйте обучить модель с таким скалированием и сравните метрики на тестовой части с бейзлайном."
   ]
  },
  {
   "cell_type": "code",
   "execution_count": 21,
   "metadata": {
    "id": "WLVjSc0As9BR"
   },
   "outputs": [
    {
     "data": {
      "text/plain": [
       "{'AUC-PR': 0.6833116184648205,\n",
       " 'Cohen-Kappa': 0.15725569088299496,\n",
       " 'Matthews Corr': 0.2529451755706132}"
      ]
     },
     "execution_count": 21,
     "metadata": {},
     "output_type": "execute_result"
    }
   ],
   "source": [
    "ratio = (y_train == 0).sum() / (y_train == 1).sum() # находим вес\n",
    "\n",
    "model_weights = CatBoostClassifier(random_state = 52, scale_pos_weight = ratio)\n",
    "model_weights.fit(X_train, y_train, eval_set = (X_val, y_val), use_best_model = True, verbose = False)\n",
    "\n",
    "pred_weights_proba = model_weights.predict_proba(X_test)[:, 1]\n",
    "pred_weights = model_weights.predict(X_test)\n",
    "\n",
    "pr_weights = average_precision_score(y_test, pred_weights_proba)\n",
    "ck_weights = cohen_kappa_score(y_test, pred_weights)\n",
    "matt_weights = matthews_corrcoef(y_test, pred_weights)\n",
    "\n",
    "# полученные метрики\n",
    "{'AUC-PR': pr_weights, 'Cohen-Kappa': ck_weights, 'Matthews Corr': matt_weights}"
   ]
  },
  {
   "cell_type": "markdown",
   "metadata": {},
   "source": [
    "Все метрики хуже, чем для бейзлайна"
   ]
  },
  {
   "cell_type": "markdown",
   "metadata": {
    "id": "qwhhGSVVs9BR"
   },
   "source": [
    "Поскольку данный вес будет являться гиперпараметром метода, было бы опрометчиво остановиться на одном значении (тем более, с большой вероятностью у вас все сломалось). Запустите перебор для этого гиперпараметра на валидационной выборке (используйте `PR-AUC`), подберите оптимальный порог бинаризации для $\\kappa$ или $\\text{MCC}$. Для лучшего найденного веса и порога вычислите все метрики на тестовой части. \n",
    "\n",
    "При этом можете также проверить отдельное скалирование в большую сторону для мажорного класса (т.е. веса минорного сделать меньше 1) и экстремальные скалирования (т.е. веса минорного больше, чем в начале этого задания). Какой вес получился оптимальным?"
   ]
  },
  {
   "cell_type": "markdown",
   "metadata": {},
   "source": [
    "Все действительно сломалось, поэтому перебираем этот параметр:"
   ]
  },
  {
   "cell_type": "code",
   "execution_count": 22,
   "metadata": {},
   "outputs": [],
   "source": [
    "import optuna\n",
    "optuna.logging.set_verbosity(optuna.logging.WARNING)"
   ]
  },
  {
   "cell_type": "code",
   "execution_count": 23,
   "metadata": {
    "id": "LluYkXus8OWt"
   },
   "outputs": [],
   "source": [
    "def objective_weights(trial):\n",
    "    scale_pos_weight = trial.suggest_float('scale_pos_weight', 0.5, 1000)\n",
    "    \n",
    "    model_weights = CatBoostClassifier(random_state = 52, scale_pos_weight = scale_pos_weight)\n",
    "    model_weights.fit(X_train, y_train, eval_set = (X_val, y_val), use_best_model = True, verbose = False)\n",
    "    pred_weights_proba = model_weights.predict_proba(X_val)[:, 1]\n",
    "    pr_weights = average_precision_score(y_val, pred_weights_proba)\n",
    "    \n",
    "    return pr_weights\n",
    "\n",
    "study = optuna.create_study(direction='maximize')\n",
    "study.optimize(objective_weights, n_trials = 10)\n",
    "\n",
    "best_weight = study.best_trial.params['scale_pos_weight']"
   ]
  },
  {
   "cell_type": "markdown",
   "metadata": {},
   "source": [
    "Также подберем порог:"
   ]
  },
  {
   "cell_type": "code",
   "execution_count": 25,
   "metadata": {},
   "outputs": [],
   "source": [
    "def objective_threshold(trial):\n",
    "    threshold = trial.suggest_float('threshold', 0, 1)\n",
    "    \n",
    "    model_threshold = CatBoostClassifier(random_state = 52, scale_pos_weight = best_weight)\n",
    "    model_threshold.fit(X_train, y_train, eval_set = (X_val, y_val), use_best_model = True, verbose = False)\n",
    "    pred_threshold_proba = model_threshold.predict_proba(X_val)[:, 1]\n",
    "    pred_bin = (pred_threshold_proba > threshold) * 1\n",
    "    mcc_threshold = matthews_corrcoef(y_val, pred_bin)\n",
    "    \n",
    "    return mcc_threshold\n",
    "\n",
    "study = optuna.create_study(direction='maximize')\n",
    "study.optimize(objective_threshold, n_trials = 10)\n",
    "\n",
    "best_threshold = study.best_trial.params['threshold']"
   ]
  },
  {
   "cell_type": "markdown",
   "metadata": {},
   "source": [
    "Теперь обучаем лучшую модель"
   ]
  },
  {
   "cell_type": "code",
   "execution_count": 27,
   "metadata": {},
   "outputs": [],
   "source": [
    "model_best = CatBoostClassifier(random_state = 52, scale_pos_weight = best_weight)\n",
    "model_best.fit(X_train, y_train, eval_set = (X_val, y_val), use_best_model = True, verbose = False)\n",
    "\n",
    "pred_best_proba = model_best.predict_proba(X_test)[:, 1]\n",
    "pred_best = (pred_best_proba > best_threshold) * 1\n",
    "\n",
    "pr_best = average_precision_score(y_test, pred_best_proba)\n",
    "ck_best = cohen_kappa_score(y_test, pred_best)\n",
    "matt_best = matthews_corrcoef(y_test, pred_best)"
   ]
  },
  {
   "cell_type": "code",
   "execution_count": 28,
   "metadata": {},
   "outputs": [
    {
     "data": {
      "text/html": [
       "<div>\n",
       "<style scoped>\n",
       "    .dataframe tbody tr th:only-of-type {\n",
       "        vertical-align: middle;\n",
       "    }\n",
       "\n",
       "    .dataframe tbody tr th {\n",
       "        vertical-align: top;\n",
       "    }\n",
       "\n",
       "    .dataframe thead th {\n",
       "        text-align: right;\n",
       "    }\n",
       "</style>\n",
       "<table border=\"1\" class=\"dataframe\">\n",
       "  <thead>\n",
       "    <tr style=\"text-align: right;\">\n",
       "      <th></th>\n",
       "      <th>AUC-PR</th>\n",
       "      <th>Cohen-Kappa</th>\n",
       "      <th>Matthews Corr</th>\n",
       "    </tr>\n",
       "  </thead>\n",
       "  <tbody>\n",
       "    <tr>\n",
       "      <th>Naive</th>\n",
       "      <td>0.000772</td>\n",
       "      <td>0.000000</td>\n",
       "      <td>0.000000</td>\n",
       "    </tr>\n",
       "    <tr>\n",
       "      <th>Catboost</th>\n",
       "      <td>0.701049</td>\n",
       "      <td>0.717759</td>\n",
       "      <td>0.723739</td>\n",
       "    </tr>\n",
       "    <tr>\n",
       "      <th>Catboost + weights</th>\n",
       "      <td>0.688179</td>\n",
       "      <td>0.761729</td>\n",
       "      <td>0.762596</td>\n",
       "    </tr>\n",
       "  </tbody>\n",
       "</table>\n",
       "</div>"
      ],
      "text/plain": [
       "                      AUC-PR  Cohen-Kappa  Matthews Corr\n",
       "Naive               0.000772     0.000000       0.000000\n",
       "Catboost            0.701049     0.717759       0.723739\n",
       "Catboost + weights  0.688179     0.761729       0.762596"
      ]
     },
     "execution_count": 28,
     "metadata": {},
     "output_type": "execute_result"
    }
   ],
   "source": [
    "df_metrics.loc['Catboost + weights'] = [pr_best, ck_best, matt_best]\n",
    "df_metrics"
   ]
  },
  {
   "cell_type": "code",
   "execution_count": 29,
   "metadata": {},
   "outputs": [
    {
     "name": "stdout",
     "output_type": "stream",
     "text": [
      "Оптимальный вес: 570.8593166923457\n"
     ]
    }
   ],
   "source": [
    "print(f'Оптимальный вес: {best_weight}')"
   ]
  },
  {
   "cell_type": "markdown",
   "metadata": {},
   "source": [
    "Почему-то AUC-PR так и не получилось улучшить по сравнению с бейзлайном, а вот остальные метрики уже стали повыше "
   ]
  },
  {
   "cell_type": "markdown",
   "metadata": {
    "id": "6SaQ-j2Ss9BS"
   },
   "source": [
    "**Задание 2. (1 балл)**. На самом деле, то, что мы сейчас делали, очень схоже с другой распространенной техникой - оверсэмплингом. Фактически, мы можем продублировать все объекты минорного класса и получить тот же эффект, какой был бы при использовании веса, равного 2. Тем не менее, такой подход - это лишь малая часть того, что мы можем проделать с целью повысить число объектов минорного класса. \n",
    "\n",
    "Для продолжения работы установим библиотеку [imbalanced-learn](https://imbalanced-learn.org/stable/):"
   ]
  },
  {
   "cell_type": "code",
   "execution_count": 30,
   "metadata": {
    "id": "oHL5jywds9BS"
   },
   "outputs": [],
   "source": [
    "#!pip3 install imbalanced-learn\n",
    "# conda install -c conda-forge imbalanced-learn"
   ]
  },
  {
   "cell_type": "markdown",
   "metadata": {
    "id": "A-dF_oXps9BS"
   },
   "source": [
    "Первый метод, которым мы воспользуемся, называется SMOTE (его вы уже разбирали на лекции). Кратко напомним суть: мы выбираем случайного кандидата среди $k$ ближайших соседей объекта минорного класса, затем берем точку на отрезке между двумя объектами (т.е. выпуклую комбинацию со случайными коэффициентами) и добавляем в выборку. "
   ]
  },
  {
   "cell_type": "code",
   "execution_count": 31,
   "metadata": {
    "id": "EcWmeujGs9BS"
   },
   "outputs": [],
   "source": [
    "from imblearn.over_sampling import SMOTE"
   ]
  },
  {
   "cell_type": "markdown",
   "metadata": {
    "id": "Pke-fWMGs9BT"
   },
   "source": [
    "Используйте SMOTE для ресэмплинга обучающей выборки, на новой выборке обучите модель (вес положительных объектов скалировать не нужно). Замерьте качество на тестовой выборке (**важно!** не преобразовывайте валидационную и тестовую выборку никак - мы не хотим отслеживать качество на объектах, которых в реальности не существует). Сравните полное выравнивание выборки с частичным (т.е. таким, что баланс классов улучшается, но не достигает равенства - скажем, 1:2 и 1:10)."
   ]
  },
  {
   "cell_type": "code",
   "execution_count": 32,
   "metadata": {
    "id": "xm3HED1ms9BT"
   },
   "outputs": [],
   "source": [
    "X_train_full, y_train_full = SMOTE(random_state = 52).fit_resample(X_train, y_train)\n",
    "X_train_half, y_train_half = SMOTE(random_state = 52, sampling_strategy = 0.5).fit_resample(X_train, y_train)\n",
    "X_train_ten, y_train_ten = SMOTE(random_state = 52, sampling_strategy = 0.1).fit_resample(X_train, y_train)"
   ]
  },
  {
   "cell_type": "markdown",
   "metadata": {},
   "source": [
    "Сначала пробуем отношение 1:10"
   ]
  },
  {
   "cell_type": "code",
   "execution_count": 38,
   "metadata": {},
   "outputs": [
    {
     "data": {
      "text/plain": [
       "{'AUC-PR': 0.7161514228538874,\n",
       " 'Cohen-Kappa': 0.7439928940257028,\n",
       " 'Matthews Corr': 0.7441944677557768}"
      ]
     },
     "execution_count": 38,
     "metadata": {},
     "output_type": "execute_result"
    }
   ],
   "source": [
    "model_smote = CatBoostClassifier(random_state = 52)\n",
    "model_smote.fit(X_train_ten, y_train_ten, eval_set = (X_val, y_val), use_best_model = True, verbose = False)\n",
    "\n",
    "pred_smote_proba = model_smote.predict_proba(X_test)[:, 1]\n",
    "pred_smote = model_smote.predict(X_test)\n",
    "\n",
    "pr_smote = average_precision_score(y_test, pred_smote_proba)\n",
    "ck_smote = cohen_kappa_score(y_test, pred_smote)\n",
    "matt_smote = matthews_corrcoef(y_test, pred_smote)\n",
    "\n",
    "{'AUC-PR': pr_smote, 'Cohen-Kappa': ck_smote, 'Matthews Corr': matt_smote}"
   ]
  },
  {
   "cell_type": "markdown",
   "metadata": {},
   "source": [
    "Теперь смотрим на отношение 1:2"
   ]
  },
  {
   "cell_type": "code",
   "execution_count": 39,
   "metadata": {},
   "outputs": [
    {
     "data": {
      "text/plain": [
       "{'AUC-PR': 0.726751237879133,\n",
       " 'Cohen-Kappa': 0.7270618976581942,\n",
       " 'Matthews Corr': 0.7270618976581941}"
      ]
     },
     "execution_count": 39,
     "metadata": {},
     "output_type": "execute_result"
    }
   ],
   "source": [
    "model_smote = CatBoostClassifier(random_state = 52)\n",
    "model_smote.fit(X_train_half, y_train_half, eval_set = (X_val, y_val), use_best_model = True, verbose = False)\n",
    "\n",
    "pred_smote_proba = model_smote.predict_proba(X_test)[:, 1]\n",
    "pred_smote = model_smote.predict(X_test)\n",
    "\n",
    "pr_smote = average_precision_score(y_test, pred_smote_proba)\n",
    "ck_smote = cohen_kappa_score(y_test, pred_smote)\n",
    "matt_smote = matthews_corrcoef(y_test, pred_smote)\n",
    "\n",
    "{'AUC-PR': pr_smote, 'Cohen-Kappa': ck_smote, 'Matthews Corr': matt_smote}"
   ]
  },
  {
   "cell_type": "markdown",
   "metadata": {},
   "source": [
    "Наконец, делаем равные доли для классов:"
   ]
  },
  {
   "cell_type": "code",
   "execution_count": 40,
   "metadata": {},
   "outputs": [
    {
     "data": {
      "text/plain": [
       "{'AUC-PR': 0.7379240532520305,\n",
       " 'Cohen-Kappa': 0.7439928940257028,\n",
       " 'Matthews Corr': 0.7441944677557768}"
      ]
     },
     "execution_count": 40,
     "metadata": {},
     "output_type": "execute_result"
    }
   ],
   "source": [
    "model_smote = CatBoostClassifier(random_state = 52)\n",
    "model_smote.fit(X_train_full, y_train_full, eval_set = (X_val, y_val), use_best_model = True, verbose = False)\n",
    "\n",
    "pred_smote_proba = model_smote.predict_proba(X_test)[:, 1]\n",
    "pred_smote = model_smote.predict(X_test)\n",
    "\n",
    "pr_smote = average_precision_score(y_test, pred_smote_proba)\n",
    "ck_smote = cohen_kappa_score(y_test, pred_smote)\n",
    "matt_smote = matthews_corrcoef(y_test, pred_smote)\n",
    "\n",
    "{'AUC-PR': pr_smote, 'Cohen-Kappa': ck_smote, 'Matthews Corr': matt_smote}"
   ]
  },
  {
   "cell_type": "markdown",
   "metadata": {},
   "source": [
    "Лучше всего работает выравнивание классов пополам. Интересно, что отношение 1:10 показывает качество лучше по двум метрикам, чем 1:2. Возможно, иногда нам и не нужен прям идеальный баланс классов, а достаточно просто репрезентативной выборки"
   ]
  },
  {
   "cell_type": "markdown",
   "metadata": {
    "id": "f_3MA21rs9BT"
   },
   "source": [
    "**Бонус (1.5 балла)**. Для vanilla SMOTE существуют некоторые модификации, часть из которых была реализована в библиотеке imblearn. Во время лекций/семинаров эти модификации не рассматривались, тем не менее, мы все равно их исследуем.\n",
    "\n",
    "Найдите статьи о следующих методах и попробуйте вкратце сформулировать, в чем их основная идея (сделайте так, чтобы человек, знакомый с машинным обучением в целом, но не слышавший конкретно про это смог понять):\n",
    "\n",
    "**BorderlineSMOTE** - Работает в целом так же как и обычный SMOTE, просто здесь он применяется не ко всем объектам, а к тем, которые лежат на границе между классами, так как именно они считаются более сложными для прогнозирования, им стоит уделять больше внимания (объекты минорного класса, которые лежат далеко от границы модели проще различать). В общем суть метода: выбираем случайный объект из минорного класса, у которого в соседях много объектов из чужого класса, а дальше для него находим k ближайших соседей из своего класса, из них выбираем одного и так же берем точку между ними и добавляем в выборку. То есть применяем преобразования именно к граничным объектам\n",
    "\n",
    "**SVM-SMOTE** - Этот метод также основан на поиске граничных объектов, но только теперь мы ищем их не сами, а запускаем SVM на наших данных, он строит разделяющую гиперплоскость между двумя классами, а также позволяет определить опорные вектора, которые ближе всего находятся к границе. Дальше мы выбираем опорные объекты только из минорного класса и используем классический SMOTE только на них. Как и в предыдущем случае получаем новые объекты и записываем их в выборку\n",
    "\n",
    "**K-Means-SMOTE** - Тут алгоритм примерно такой: сначала запускаем K-means кластеризацию на наших данных и получаем определенное число кластеров. Дальше пробегаемся по ним и считаем отношение числа объектов из маленького класса к большом, дальше работаем только с кластерами, где это отношение больше 1. Внутри каждого такого кластера запускаем обычный SMOTE и так же получаем новые объекты и добавляем в выборку. То есть смысл в том, чтобы генерировать объекты в тех областях, где они чаще всего встречаются. Если что, брал описание [отсюда](https://arxiv.org/pdf/1711.00837)\n",
    "\n",
    "**ADASYN** - В целом метод похож на BorderlineSMOTE, но отличие в том, что ADASYN не забивает на объекты, среди которых мало точек из мажорного класса, а просто для них генерирует поменьше синтетических объектов. То есть там вроде как присваиваются веса объектам из минорного класса в зависимости от того, насколько они окружены чужими объектами и дальше запускается обычный SMOTE, то есть граничные объекты просто будут выбираться чаще.\n",
    "\n",
    "Теперь попробуйте сравнить качество всех методов на наших данных."
   ]
  },
  {
   "cell_type": "code",
   "execution_count": 41,
   "metadata": {
    "id": "cw5hLd-6s9BT"
   },
   "outputs": [],
   "source": [
    "from imblearn.over_sampling import ADASYN, BorderlineSMOTE, SVMSMOTE, KMeansSMOTE\n",
    "metrics_smote = pd.DataFrame(columns = ['AUC-PR', 'Cohen-Kappa', 'Matthews Corr'])"
   ]
  },
  {
   "cell_type": "code",
   "execution_count": 42,
   "metadata": {},
   "outputs": [],
   "source": [
    "X_train_border, y_train_border = BorderlineSMOTE(random_state = 52).fit_resample(X_train, y_train)\n",
    "X_train_adasyn, y_train_adasyn = ADASYN(random_state = 52).fit_resample(X_train, y_train)\n",
    "X_train_svm, y_train_svm = SVMSMOTE(random_state = 52).fit_resample(X_train, y_train)\n",
    "X_train_kmeans, y_train_kmeans = KMeansSMOTE(random_state = 52, cluster_balance_threshold = 0.001).fit_resample(X_train, y_train)"
   ]
  },
  {
   "cell_type": "code",
   "execution_count": 43,
   "metadata": {},
   "outputs": [],
   "source": [
    "def get_metrics(X, y, X_val = X_val, y_val = y_val, X_test = X_test, y_test = y_test):\n",
    "    model = CatBoostClassifier(random_state = 52)\n",
    "    model.fit(X, y, eval_set = (X_val, y_val), use_best_model = True, verbose = False)\n",
    "    pred_prob = model.predict_proba(X_test)[:, 1]\n",
    "    pred = (pred_prob > 0.5) * 1\n",
    "    \n",
    "    pr_smote = average_precision_score(y_test, pred_prob)\n",
    "    ck_smote = cohen_kappa_score(y_test, pred)\n",
    "    matt_smote = matthews_corrcoef(y_test, pred)\n",
    "    return [pr_smote, ck_smote, matt_smote]\n",
    "\n",
    "metrics_smote.loc['Borderline SMOTE'] = get_metrics(X_train_border, y_train_border)\n",
    "metrics_smote.loc['SVM SMOTE'] = get_metrics(X_train_svm, y_train_svm)\n",
    "metrics_smote.loc['KMeans SMOTE'] = get_metrics(X_train_kmeans, y_train_kmeans)\n",
    "metrics_smote.loc['ADASYN'] = get_metrics(X_train_adasyn, y_train_adasyn)"
   ]
  },
  {
   "cell_type": "code",
   "execution_count": 44,
   "metadata": {},
   "outputs": [
    {
     "data": {
      "text/html": [
       "<div>\n",
       "<style scoped>\n",
       "    .dataframe tbody tr th:only-of-type {\n",
       "        vertical-align: middle;\n",
       "    }\n",
       "\n",
       "    .dataframe tbody tr th {\n",
       "        vertical-align: top;\n",
       "    }\n",
       "\n",
       "    .dataframe thead th {\n",
       "        text-align: right;\n",
       "    }\n",
       "</style>\n",
       "<table border=\"1\" class=\"dataframe\">\n",
       "  <thead>\n",
       "    <tr style=\"text-align: right;\">\n",
       "      <th></th>\n",
       "      <th>AUC-PR</th>\n",
       "      <th>Cohen-Kappa</th>\n",
       "      <th>Matthews Corr</th>\n",
       "    </tr>\n",
       "  </thead>\n",
       "  <tbody>\n",
       "    <tr>\n",
       "      <th>Borderline SMOTE</th>\n",
       "      <td>0.693126</td>\n",
       "      <td>0.761729</td>\n",
       "      <td>0.762596</td>\n",
       "    </tr>\n",
       "    <tr>\n",
       "      <th>SVM SMOTE</th>\n",
       "      <td>0.691002</td>\n",
       "      <td>0.695407</td>\n",
       "      <td>0.696066</td>\n",
       "    </tr>\n",
       "    <tr>\n",
       "      <th>KMeans SMOTE</th>\n",
       "      <td>0.675263</td>\n",
       "      <td>0.714075</td>\n",
       "      <td>0.714888</td>\n",
       "    </tr>\n",
       "    <tr>\n",
       "      <th>ADASYN</th>\n",
       "      <td>0.732942</td>\n",
       "      <td>0.695407</td>\n",
       "      <td>0.696066</td>\n",
       "    </tr>\n",
       "  </tbody>\n",
       "</table>\n",
       "</div>"
      ],
      "text/plain": [
       "                    AUC-PR  Cohen-Kappa  Matthews Corr\n",
       "Borderline SMOTE  0.693126     0.761729       0.762596\n",
       "SVM SMOTE         0.691002     0.695407       0.696066\n",
       "KMeans SMOTE      0.675263     0.714075       0.714888\n",
       "ADASYN            0.732942     0.695407       0.696066"
      ]
     },
     "execution_count": 44,
     "metadata": {},
     "output_type": "execute_result"
    }
   ],
   "source": [
    "metrics_smote"
   ]
  },
  {
   "cell_type": "markdown",
   "metadata": {},
   "source": [
    "На самом деле тут нет какого-то однозначного лидера, но если смотреть по нашим новым метрикам $\\kappa$ и $\\text{MCC}$, то лучше всех показывает себя Borderline SMOTE. В то же время ADASYN показал лучшее качество по AUC-PR. SVM и Kmeans особо ничем не выделяются, работают даже хуже обычного SMOTE."
   ]
  },
  {
   "cell_type": "markdown",
   "metadata": {
    "id": "xvVG5osbs9BU"
   },
   "source": [
    "**Задание 3. (1 балл)**. До этого момента все наши решения концентрировались на работе с минорным классом. Теперь давайте попробуем зайти с другой стороны. Может быть, для восстановления закономерностей нам не нужно столько объектов мажорного класса, и они просто засоряют нам выборку лишней информацией?\n",
    "\n",
    "Для решения этой проблемы существуют методы андерсэмплинга. Самое простое, что можно придумать - удалять точки мажорного класса, пока мы не получим приемлемый баланс. Протестируйте следующий метод и постройте графики достигаемых значений метрик от баланса классов и от отношения размеров исходной и пересэмпленной выборки:"
   ]
  },
  {
   "cell_type": "code",
   "execution_count": 45,
   "metadata": {
    "id": "GZQymG9Rs9BU"
   },
   "outputs": [],
   "source": [
    "from imblearn.under_sampling import RandomUnderSampler"
   ]
  },
  {
   "cell_type": "code",
   "execution_count": 46,
   "metadata": {},
   "outputs": [],
   "source": [
    "def get_metrics_under(X = X_train, y = y_train, X_val = X_val, y_val = y_val, X_test = X_test, y_test = y_test):\n",
    "    prs = []\n",
    "    cks = []\n",
    "    matts = []\n",
    "    ratios_samples = []\n",
    "    sample_size = X.shape[0]\n",
    "    ratios = [0.05, 0.1, 0.15, 0.2, 0.3]\n",
    "    \n",
    "    for ratio in ratios:     # преобразуем нашу выборку, строим на ней прогноз\n",
    "        X_new, y_new = RandomUnderSampler(random_state = 52, sampling_strategy = ratio).fit_resample(X, y)\n",
    "        model = CatBoostClassifier(random_state = 52)\n",
    "        model.fit(X_new, y_new, eval_set = (X_val, y_val), use_best_model = True, verbose = False)\n",
    "        pred_prob = model.predict_proba(X_test)[:, 1]\n",
    "        pred = (pred_prob > 0.5) * 1\n",
    "        \n",
    "        # считаем метрики и сохраняем результаты\n",
    "        pr_smote = average_precision_score(y_test, pred_prob)\n",
    "        ck_smote = cohen_kappa_score(y_test, pred)\n",
    "        matt_smote = matthews_corrcoef(y_test, pred)\n",
    "        prs.append(pr_smote)\n",
    "        cks.append(ck_smote)\n",
    "        matts.append(matt_smote)\n",
    "        ratios_samples.append(sample_size / X_new.shape[0])\n",
    "        \n",
    "    return prs, cks, matts, ratios, ratios_samples\n",
    "prs, cks, matts, ratios, ratios_samples = get_metrics_under()"
   ]
  },
  {
   "cell_type": "code",
   "execution_count": 48,
   "metadata": {},
   "outputs": [
    {
     "data": {
      "text/plain": [
       "''"
      ]
     },
     "execution_count": 48,
     "metadata": {},
     "output_type": "execute_result"
    },
    {
     "data": {
      "image/png": "[encoded data removed]",
      "text/plain": [
       "<Figure size 1152x576 with 2 Axes>"
      ]
     },
     "metadata": {},
     "output_type": "display_data"
    }
   ],
   "source": [
    "plt.figure(figsize = (16, 8))\n",
    "\n",
    "plt.subplot(1, 2, 1)\n",
    "plt.title('Зависимость метрик от баланса классов')\n",
    "plt.xlabel('Отношение числа аномалий к норм. объектам')\n",
    "plt.ylabel('Значения метрик')\n",
    "plt.plot(ratios, prs, label = 'AUC-PR')\n",
    "plt.plot(ratios, cks, label = 'Cohen-Kappa')\n",
    "plt.plot(ratios, matts, label = 'Matthews Corr')\n",
    "plt.legend(title = 'Метрика')\n",
    "\n",
    "plt.subplot(1, 2, 2)\n",
    "plt.title('Зависимость метрик от отношения размеров выборок')\n",
    "plt.xlabel('Отношение размера старой выборки к новой')\n",
    "plt.ylabel('Значения метрик')\n",
    "plt.plot(ratios_samples, prs, label = 'AUC-PR')\n",
    "plt.plot(ratios_samples, cks, label = 'Cohen-Kappa')\n",
    "plt.plot(ratios_samples, matts, label = 'Matthews Corr')\n",
    "plt.legend(title = 'Метрика')\n",
    ";"
   ]
  },
  {
   "cell_type": "markdown",
   "metadata": {},
   "source": [
    "В целом мы видим, что выкидывание объектов нулевого класса вредит метрикам, однако в начале, когда мы выбрасываем не так много получаются еще более-менее неплохие результаты. Возможно, объекты, которые мы выбрасываем все же являются информативными и в нашем случае лучше добавить новых, чем избавляться от старых."
   ]
  },
  {
   "cell_type": "markdown",
   "metadata": {
    "id": "w-onGH2ts9BU"
   },
   "source": [
    "Даже такой наивный подход может дать относительно неплохие результаты и улучшить наши метрики. Тем не менее, сейчас мы никак не используем информацию о распределении объектов в выборке. Оказывается, что даже относительно простые эвристические правила могут заметно поднять нам качество - например, мы можем при отбрасывании использовать близость отдельных объектов мажорного класса к минорному и отбрасывать самые близкие. Протестируйте алгоритм [Near-Miss](https://www.site.uottawa.ca/~nat/Workshop2003/jzhang.pdf) на наших данных и постройте графики, аналогичные предыдущему пункту (также добавьте график с зависимостью качества от числа соседей)."
   ]
  },
  {
   "cell_type": "code",
   "execution_count": 49,
   "metadata": {
    "id": "FXhxPmEUs9BU"
   },
   "outputs": [],
   "source": [
    "from imblearn.under_sampling import NearMiss\n",
    "\n",
    "def get_metrics_near_miss(X = X_train, y = y_train, X_val = X_val, y_val = y_val, X_test = X_test, y_test = y_test):\n",
    "    prs = []\n",
    "    cks = []\n",
    "    matts = []\n",
    "    k_neighbors = [3, 6, 9, 12, 15]\n",
    "    ratios = [0.01, 0.025, 0.05, 0.1, 0.15]\n",
    "    \n",
    "    # сначала для долей, фиксируем n_neighbors по дефолту\n",
    "    for ratio in ratios:\n",
    "        X_new, y_new = NearMiss(sampling_strategy = ratio).fit_resample(X, y)\n",
    "        model = CatBoostClassifier(random_state = 52)\n",
    "        model.fit(X_new, y_new, eval_set = (X_val, y_val), use_best_model = True, verbose = False)\n",
    "        pred_prob = model.predict_proba(X_test)[:, 1]\n",
    "        pred = (pred_prob > 0.5) * 1\n",
    "        # чтобы сократить число строчек кода, сразу закидываю метрики в массивы\n",
    "        prs.append(average_precision_score(y_test, pred_prob)) \n",
    "        cks.append(cohen_kappa_score(y_test, pred))\n",
    "        matts.append(matthews_corrcoef(y_test, pred))\n",
    "        \n",
    "    # теперь перебираем n_neighbors для дефолтной доли\n",
    "    for k in k_neighbors:\n",
    "        X_new, y_new = NearMiss(n_neighbors = k).fit_resample(X, y)\n",
    "        model = CatBoostClassifier(random_state = 52)\n",
    "        model.fit(X_new, y_new, eval_set = (X_val, y_val), use_best_model = True, verbose = False)\n",
    "        pred_prob = model.predict_proba(X_test)[:, 1]\n",
    "        pred = (pred_prob > 0.5) * 1\n",
    "\n",
    "        prs.append(average_precision_score(y_test, pred_prob)) \n",
    "        cks.append(cohen_kappa_score(y_test, pred))\n",
    "        matts.append(matthews_corrcoef(y_test, pred))    \n",
    "        \n",
    "    return prs, cks, matts, ratios, k_neighbors\n",
    "prs, cks, matts, ratios, k_neighbors = get_metrics_near_miss()"
   ]
  },
  {
   "cell_type": "code",
   "execution_count": 50,
   "metadata": {},
   "outputs": [
    {
     "data": {
      "text/plain": [
       "''"
      ]
     },
     "execution_count": 50,
     "metadata": {},
     "output_type": "execute_result"
    },
    {
     "data": {
      "image/png": "[encoded data removed]",
      "text/plain": [
       "<Figure size 1152x576 with 2 Axes>"
      ]
     },
     "metadata": {},
     "output_type": "display_data"
    }
   ],
   "source": [
    "plt.figure(figsize = (16, 8))\n",
    "\n",
    "plt.subplot(1, 2, 1)\n",
    "plt.title('Зависимость метрик от баланса классов для NearMiss')\n",
    "plt.xlabel('Отношение числа аномалий к норм. объектам')\n",
    "plt.ylabel('Значения метрик')\n",
    "plt.plot(ratios, prs[:5], label = 'AUC-PR')\n",
    "plt.plot(ratios, cks[:5], label = 'Cohen-Kappa')\n",
    "plt.plot(ratios, matts[:5], label = 'Matthews Corr')\n",
    "plt.legend(title = 'Метрика')\n",
    "\n",
    "plt.subplot(1, 2, 2)\n",
    "plt.title('Зависимость метрик от k ближайших соседей для NearMiss')\n",
    "plt.xlabel('Число ближайших соседей')\n",
    "plt.ylabel('Значения метрик')\n",
    "plt.plot(k_neighbors, prs[5:], label = 'AUC-PR')\n",
    "plt.plot(k_neighbors, cks[5:], label = 'Cohen-Kappa')\n",
    "plt.plot(k_neighbors, matts[5:], label = 'Matthews Corr')\n",
    "plt.legend(title = 'Метрика')\n",
    ";"
   ]
  },
  {
   "cell_type": "markdown",
   "metadata": {},
   "source": [
    "Снова все получилось так себе, но тут потом говорится, что методы балансировок могут приводить и к таким себе результам. В данном случае так получается из-за того, что сложно подобрать оптимальные параметры. Например, даже доля аномалий в 0.01 дает довольно низкое качество, а с увеличением оно только падает. Разве что AUC-PR может где-то расти, а потом сразу падать. Такая же тенденция и для числа ближайших соседей.\n",
    "\n",
    "Также я не стал дублировать график для отношения размеров выборок, потому что он по сути дублирует график для баланса классов, просто значения по оси Х другие"
   ]
  },
  {
   "cell_type": "markdown",
   "metadata": {
    "id": "9z_OwXkps9BV"
   },
   "source": [
    "**Бонус (1 балл)**. imblearn также предлагает много различных методов для андерсэмплинга. Выберите что-нибудь еще из предлагаемого на свой вкус, опишите идею метода и протестируйте его.\n"
   ]
  },
  {
   "cell_type": "markdown",
   "metadata": {},
   "source": [
    "В общем я решил выбрать [InstanceHardnessThreshold](https://imbalanced-learn.org/stable/references/generated/imblearn.under_sampling.InstanceHardnessThreshold.html). Сам по себе алгоритм IHT работает так: сначала обучается бинарный классификатор (например, логрег), он определяет \"сложность\" объекта (насколько низкие вероятности принадлежности к классу), а дальше удаляет наиболее сложные объекты."
   ]
  },
  {
   "cell_type": "code",
   "execution_count": 51,
   "metadata": {},
   "outputs": [],
   "source": [
    "from imblearn.under_sampling import InstanceHardnessThreshold\n",
    "from sklearn.linear_model import LogisticRegression"
   ]
  },
  {
   "cell_type": "code",
   "execution_count": 52,
   "metadata": {},
   "outputs": [
    {
     "data": {
      "text/plain": [
       "{'AUC-PR': 0.6305781806728479,\n",
       " 'Cohen-Kappa': 0.13705084596917227,\n",
       " 'Matthews Corr': 0.22758263713254512}"
      ]
     },
     "execution_count": 52,
     "metadata": {},
     "output_type": "execute_result"
    }
   ],
   "source": [
    "X_IHT, y_IHT = InstanceHardnessThreshold(estimator = LogisticRegression(max_iter = 10**5, random_state = 52),\n",
    "                                         sampling_strategy = 0.05).fit_resample(X_train, y_train)\n",
    "model = CatBoostClassifier(random_state = 52)\n",
    "model.fit(X_IHT, y_IHT, eval_set = (X_val, y_val), use_best_model = True, verbose = False)\n",
    "pred_prob_IHT = model.predict_proba(X_test)[:, 1]\n",
    "pred_IHT = (pred_prob_IHT > 0.5) * 1\n",
    "\n",
    "prs_IHT = average_precision_score(y_test, pred_prob_IHT)\n",
    "cks_IHT = cohen_kappa_score(y_test, pred_IHT)\n",
    "matts_IHT = matthews_corrcoef(y_test, pred_IHT)\n",
    "\n",
    "{'AUC-PR': prs_IHT, 'Cohen-Kappa': cks_IHT, 'Matthews Corr': matts_IHT} # полученные метрики"
   ]
  },
  {
   "cell_type": "markdown",
   "metadata": {},
   "source": [
    "Мда, все равно результаты так себе:( В общем oversampling тут работает лучше"
   ]
  },
  {
   "cell_type": "markdown",
   "metadata": {
    "id": "gBf-rrmcs9BV"
   },
   "source": [
    "# Часть 2. Поиск аномалий. "
   ]
  },
  {
   "cell_type": "markdown",
   "metadata": {
    "id": "3UBhTHszs9BV"
   },
   "source": [
    "Как вы могли заметить, методы балансировки выборок очень часто могут привести к не самым лучшим результатам из-за того, что они по сути искажают информацию о реальном распределении данных - в реальности обычно требуется долгий подбор в принципе работоспособных для задачи методов и их аккуратная настройка. "
   ]
  },
  {
   "cell_type": "markdown",
   "metadata": {
    "id": "HSYVXvmxs9BV"
   },
   "source": [
    "Теперь давайте попробуем слегка сменить постановку задачи и переключиться на задачу \"одноклассовой\" классификации, то есть - поиска *аномалий* в выборке. В общем-то, это вполне согласуется с нашей областью работы - мы действительно можем назвать мошеннические транзакции аномальньми (как интуитивно, так и на основании наблюдаемой балансировки данных). \n",
    "\n",
    "Стоит отметить, что методы обнаружения аномалий чаще всего относятся к классу методов обучения без учителя. Это дает некоторый положительный эффект - нам не обязательно нужно тратить время на разметку данных (тем не менее, для контроля качества какую-то часть разметить все-таки придется). Впрочем, чаще всего перфоманс таких методов оказывается заметно хуже, чем у честного обучения с учителем (если мы можем себе его позволить).\n",
    "\n"
   ]
  },
  {
   "cell_type": "markdown",
   "metadata": {
    "id": "mrRy0uOAs9BW"
   },
   "source": [
    "**Задание 4. (3 балла).** На занятиях вы разбирали схожий с Random Forest подход для детекции аномалий без известной разметки данных, называемый Isolation Forest. Напомним суть: на этапе обучения мы создаем ансамбль из решающих деревьев, в котором признак и порог на каждую вершину подбираются случайно. Затем мы считаем для объектов оценку аномальности через длину пути до соответствующего листа в каждом дереве.\n",
    "\n",
    "В данном задании вам предлагается реализовать модификацию данного алгоритма, известную как Extended Isolation Forest. В ней мы на каждом шаге будем определять не порог для признака, а полноценную случайную гиперплоскость, разбивающую выборку на 2 части. С детальным описанием вы можете ознакомиться [здесь](https://arxiv.org/pdf/1811.02141.pdf).\n",
    "\n",
    "Ниже приведен шаблон кода. Постарайтесь работать в его рамках (минорные изменения вполне допустимы, главное не переворачивайте всю структуру с ног на голову). \n",
    "\n",
    "**NB**: будем считать, что в нашем датасете нет категориальных признаков - можете не заморачиваться с их обработкой (но в общем случае, это будет важно).\n",
    "\n",
    "**Советы**:\n",
    " - Численные признаки лучше предобработать надлежащим образом.\n",
    " - Возможно, вам поможет выбрасывание некоторых признаков.\n",
    " - Внимательно следите за знаками.\n",
    " - Не игнорируйте документирующие строки.\n",
    " - Вероятнее всего, вы не сможете приблизиться по качеству к supervised-решениям. Если у вас не получается это сделать (но вы уверены в своей правоте), не стоит тратить слишком много времени на поиск ошибок.\n",
    "- При желании, можете вынести этот код в отдельный файл и приложить его к ноутбуку. Он довольно громоздкий и в ноутбуке такое плохо читается.\n",
    "\n",
    "\n",
    "**Бонусы (каждый по 0.5)**:\n",
    "- Сделайте ваш EIF параллельным (`multiprocessing`, `joblib`).\n",
    "- Добавьте возможность откатиться к дефолтному варианту Isolation Forest. (порассуждайте, как можно реализовать это в данной модели?):\n"
   ]
  },
  {
   "cell_type": "markdown",
   "metadata": {},
   "source": [
    "Из бонуса вроде как сделал второй пункт. В статье как раз описывалось, что, если мы построим случайный вектор нормали, а потом занулим одну из координат, то extension-level сократится на 1, и так если мы оставим только одну координату в векторе это будет как раз эквивалентно разбиению по одному признаку в обычном Isolation Forest"
   ]
  },
  {
   "cell_type": "code",
   "execution_count": 53,
   "metadata": {
    "id": "HsFj1XR2s9BW"
   },
   "outputs": [],
   "source": [
    "def c_factor(n):\n",
    "    \"\"\"\n",
    "    Computes average path length for an unsuccessful search in a binary search tree.\n",
    "    Params:\n",
    "        n: int - number of data points for BST\n",
    "    \"\"\"\n",
    "    if n <= 1:\n",
    "        return np.float32(0)\n",
    "    \n",
    "    H_i = np.float32(np.log(n - 1) + 0.5772156649)\n",
    "    c = np.float32(2 * H_i - 2 * (n - 1) / n)\n",
    "    \n",
    "    return c\n",
    "\n",
    "def calc_height(X, depth, node):\n",
    "    \"\"\"\n",
    "    Calculates anomaly scores for sample in a recursive manner.\n",
    "    Params:\n",
    "        X: np.array - current sample, available to node\n",
    "        \n",
    "        depth: int - path length up to current node\n",
    "        \n",
    "        node: Node - current tree node\n",
    "        \n",
    "    Returns:\n",
    "        scores: int, float or np.array - anomaly scores for sample\n",
    "    \"\"\"\n",
    "    scores = np.zeros(X.shape[0], dtype = np.float32)\n",
    "    \n",
    "    # если попали в итоговую вершину, то считаем по формуле глубину\n",
    "    if node.kind == 'external':\n",
    "        scores += c_factor(node.size) + depth\n",
    "        return scores\n",
    "    \n",
    "    # если не попали, то находим индексы объектов, которые идут влево и вправо и рекурсивно запускаем функцию\n",
    "    crit_right = (X - node.b) @ node.w > 0\n",
    "    scores[~crit_right] = calc_height(X[~crit_right], depth + 1, node.left)\n",
    "    scores[crit_right] = calc_height(X[crit_right], depth + 1, node.right)\n",
    "    \n",
    "    return scores\n",
    "\n",
    "class Node(object):\n",
    "    \"\"\"\n",
    "    A single node object for each tree. Contains information on height, current data,\n",
    "    splitting hyperplane and children nodes.\n",
    "    \n",
    "    Attributes:\n",
    "        X: np.array - data available to current node\n",
    "        size: int - length of available data\n",
    "        \n",
    "        depth: int - depth of node\n",
    "\n",
    "        left: Node - left child\n",
    "        right: Node - right child\n",
    "\n",
    "        kind: str - either \"internal\" or \"external\", indicates the type of current node\n",
    "\n",
    "        w: np.array - normal vector for the splitting hyperplane\n",
    "        b: float - intercept term for the splitting hyperplane\n",
    "    \"\"\"\n",
    "    def __init__(self, X, depth, left, right, kind, w, b):\n",
    "        \"\"\"\n",
    "        Node(h, left, right, kind, w, b)\n",
    "        Represents the node object.\n",
    "        \n",
    "        Params:\n",
    "            X: np.array - data available to current node\n",
    "            depth: int - depth of node\n",
    "            \n",
    "            left: Node - left child\n",
    "            right: Node - right child\n",
    "            \n",
    "            kind: str - either \"internal\" or \"external\", indicates the type of current node\n",
    "            \n",
    "            w: np.array - normal vector for the splitting hyperplane\n",
    "            b: float - intercept term for the splitting hyperplane\n",
    "            \n",
    "        \"\"\"\n",
    "        self.size = len(X)\n",
    "        \n",
    "        self.depth = depth\n",
    "        \n",
    "        self.left = left\n",
    "        self.right = right\n",
    "        \n",
    "        self.kind = kind\n",
    "    \n",
    "        self.w = w\n",
    "        self.b = b\n",
    "    \n",
    "    def __repr__(self):\n",
    "        \"\"\"\n",
    "        For convenience only.\n",
    "        \"\"\"\n",
    "        return f\"Node(size={self.size}, depth={self.depth}, kind={self.kind})\"\n",
    "\n",
    "class RandomizedTree(object):\n",
    "    \"\"\"\n",
    "    Single randomized tree object. Stores root and its depth (tree is built recursively).\n",
    "    Attributes:\n",
    "        depth: int - current tree depth\n",
    "        \n",
    "        max_depth: int - maximum tree depth\n",
    "        \n",
    "        root: Node - root node \n",
    "\n",
    "        internal_count: int - number of internal nodes\n",
    "\n",
    "        external_count: int - number of external nodes\n",
    "        \n",
    "    \"\"\"\n",
    "    def __init__(self, X, max_depth, standard = False):\n",
    "        \"\"\"\n",
    "        Single randomized tree object. Stores root and its depth (tree is built recursively).\n",
    "        Params:\n",
    "            X: np.array - train sample\n",
    "            max_depth: int - maximum tree depth\n",
    "\n",
    "        \"\"\"\n",
    "        self.standard = standard\n",
    "        self.depth = 0\n",
    "        self.max_depth = max_depth\n",
    "        \n",
    "        self.internal_count = 0\n",
    "        self.external_count = 0\n",
    "\n",
    "        self.root = self.grow(X, 0)\n",
    "        \n",
    "    def __repr__(self):\n",
    "        \"\"\"\n",
    "        For convenience only.\n",
    "        \"\"\"\n",
    "        \n",
    "        return f\"RandomizedTree(depth={self.depth}, max_depth={self.max_depth}, n_internal={self.internal_count}, n_external={self.external_count})\"\n",
    "\n",
    "        \n",
    "        \n",
    "    def grow(self, X, depth):\n",
    "        \"\"\"\n",
    "        Grow tree in a recursive manner.\n",
    "        Params:\n",
    "            X: np.array - available train sample\n",
    "            \n",
    "            depth: int - current tree depth\n",
    "            \n",
    "        Returns:\n",
    "            node: Node - a trained node with separating hyperplane data.\n",
    "                         Node provides access to children if necessary (these are built recursively)\n",
    "        \"\"\"\n",
    "        # если выполнен критерий останова, возвращаем external node\n",
    "        if (depth >= self.max_depth) or (X.shape[0] <= 1):\n",
    "            self.external_count += 1\n",
    "            return Node(X, depth, None, None, 'external', None, None)\n",
    "        \n",
    "        # пока критерий не выполнен, строим дерево\n",
    "        w = np.random.normal(size = X.shape[1]).astype(np.float32)\n",
    "        b = np.random.uniform(X.min(axis = 0), X.max(axis = 0), size = X.shape[1]).astype(np.float32)\n",
    "        \n",
    "        # если нужно, откатываемся к обычному IF\n",
    "        if self.standard == True:\n",
    "            idx_null = np.random.choice(np.arange(X.shape[1]), size = X.shape[1] - 1, replace = False)\n",
    "            w[idx_null] = 0\n",
    "        \n",
    "        crit_right = (X - b) @ w > 0\n",
    "        left = self.grow(X[~crit_right], depth + 1)\n",
    "        right = self.grow(X[crit_right] , depth + 1)\n",
    "        self.internal_count += 1\n",
    "        \n",
    "        return Node(X, depth, left, right, 'internal', w, b)\n",
    "\n",
    "    def score_samples(self, X):\n",
    "        \"\"\"\n",
    "        Calculate anomaly scores for given data. You may utilize outer function `calc_height`.\n",
    "        Params:\n",
    "            X: np.array - data to be evaluated\n",
    "            \n",
    "        Returns:\n",
    "            scores: np.array - estimated anomaly scores\n",
    "        \"\"\"\n",
    "        return calc_height(X, 0, self.root)\n",
    "        \n",
    "    \n",
    "class ExtendedIsolationForest(object):\n",
    "    \"\"\"\n",
    "    Extended Isolation Forest object. Stores training data and trained randomized trees.\n",
    "    Attributes:\n",
    "        n_trees: int - number of Randomized Trees\n",
    "        \n",
    "        max_depth: int - maximum depth of each tree\n",
    "        \n",
    "        subsample_rate: float - draw `subsample_rate * X.shape[0]` samples for each tree\n",
    "        \n",
    "        trees: list - container for trained trees \n",
    "        \n",
    "        contamination: float - estimated fraction of anomaly samples in data. Used for thresholding\n",
    "        \n",
    "    \"\"\"\n",
    "    \n",
    "    def __init__(self, n_trees, subsample_rate, max_depth=None, contamination=0.01, standard = False):\n",
    "        \"\"\"\n",
    "        Extended Isolation Forest object. Stores training data and trained randomized trees.\n",
    "        Params:\n",
    "            n_trees: int - number of Randomized Trees\n",
    "\n",
    "            subsample_rate: float - draw `subsample_rate * X.shape[0]` samples for each tree\n",
    "\n",
    "            max_depth: int or None - maximum depth of each tree. Defaults to ceil(log_2(subsample_size)) if not provided\n",
    "\n",
    "            contamination: float - estimated fraction of anomaly samples in data. Used for thresholding\n",
    "\n",
    "        \"\"\"\n",
    "        self.n_trees = n_trees\n",
    "        self.max_depth = max_depth\n",
    "        self.subsample_rate = subsample_rate\n",
    "        self.trees = []\n",
    "        self.contamination = contamination\n",
    "        self.is_fit = False\n",
    "        self.standard = standard\n",
    "        \n",
    "    def __repr__(self):\n",
    "        \"\"\"For convenience only.\"\"\"\n",
    "        \n",
    "        return f\"ExtendedIsolationForest(n_trees={self.n_trees}, max_depth={self.max_depth}, subsample_rate={self.subsample_rate}, contamination={self.contamination}, is_fit={self.is_fit})\"\n",
    "        \n",
    "    def fit(self, X):\n",
    "        \"\"\"\n",
    "        Fit EIF to new data.\n",
    "        Params:\n",
    "            X: np.array - 2d array of samples\n",
    "        \"\"\"\n",
    "        X = X.astype(np.float32)\n",
    "        for i in range(self.n_trees):\n",
    "            idx_batch = np.random.choice(np.arange(X.shape[0], dtype = np.int32),\n",
    "                        round(self.subsample_rate * X.shape[0]), replace = False)\n",
    "            X_batch = X[idx_batch]\n",
    "            \n",
    "            self.trees.append(RandomizedTree(X_batch, self.max_depth, self.standard))\n",
    "        return self\n",
    "    \n",
    "    def score_samples(self, X):\n",
    "        \"\"\"\n",
    "        Estimate (normalized) anomaly score for each given sample\n",
    "        Params:\n",
    "            X: np.array - new samples\n",
    "\n",
    "        Returns:\n",
    "            scores: np.array - anomaly scores (larger value means higher probability of a sample being an outlier)\n",
    "        \"\"\"\n",
    "        # для каждого дерева считаем скоры, закидываем в scores_mean\n",
    "        scores_mean = np.zeros(X.shape[0], dtype = np.float32)\n",
    "        for tree in self.trees:\n",
    "            scores_mean += tree.score_samples(X)\n",
    "        \n",
    "        # считаем среднее по деревьям и нормализуем\n",
    "        scores_mean = scores_mean / self.n_trees\n",
    "        scores = 2 ** (-scores_mean / c_factor(round(self.subsample_rate * X.shape[0])))    \n",
    "\n",
    "        return scores\n",
    "\n",
    "    \n",
    "    def predict(self, X):\n",
    "        \"\"\"\n",
    "        Predict if given samples are outliers.\n",
    "        Params:\n",
    "            X: np.array - new samples\n",
    "\n",
    "        Returns:\n",
    "            labels: np.array - anomaly labels (1 for outliers, 0 for inliers)\n",
    "        \"\"\"\n",
    "        X = X.astype(np.float32)\n",
    "        scores = self.score_samples(X)\n",
    "        labels = np.zeros(len(scores), dtype = np.int32)\n",
    "        threshold = 1 - self.contamination\n",
    "        threshold_value = np.percentile(scores, threshold * 100)\n",
    "        \n",
    "        labels[scores > threshold_value] = 1\n",
    "        \n",
    "        #возвращаем метки и оценки аномальности (типо predict proba)\n",
    "        return labels, scores"
   ]
  },
  {
   "cell_type": "markdown",
   "metadata": {},
   "source": [
    "При написании кода здесь я пользовался GPT. Промптом было условие + шаблон и я просил его написать некоторые функции, чтобы не писать с нуля. Но все равно как обычно приходилось исправлять его ошибки, например даже в формуле критерия для разбиения вместо (X - b)w у него была какая-то странная хрень, вообще не как в статье, ну и таких ошибок было много. \n",
    "\n",
    "Также код местами может быть нечитаемым, я старался как можно меньше создавать переменных и менять тип данных, чтобы у меня не взорвался ноут"
   ]
  },
  {
   "cell_type": "markdown",
   "metadata": {
    "id": "s9ikebErs9BX"
   },
   "source": [
    "**Задание 5. (1 балл).** Протестируйте вашу реализацию EIF и подберите оптимальные гиперпараметры (наш метод не использует разметку, поэтому можете попробовать делать это на обучающей выборке). Сравните ее с обычным IF из `sklearn` (желательно делать это на одних и тех же параметрах). Удалось ли сделать лучше?"
   ]
  },
  {
   "cell_type": "code",
   "execution_count": 54,
   "metadata": {},
   "outputs": [],
   "source": [
    "# отмасштабируем данные как нам советовали\n",
    "from sklearn.preprocessing import StandardScaler\n",
    "scaller = StandardScaler()\n",
    "X_train_scaled = scaller.fit_transform(X_train)\n",
    "X_test_scaled = scaller.transform(X_test)\n",
    "X_val_scaled = scaller.transform(X_val)"
   ]
  },
  {
   "cell_type": "code",
   "execution_count": 66,
   "metadata": {},
   "outputs": [],
   "source": [
    "# подбор параметров, работает минут 15\n",
    "def objective_forest(trial):\n",
    "    n_trees = trial.suggest_int('n_trees', 100, 400)\n",
    "    subsample_rate = trial.suggest_float('subsample_rate', 0.1, 0.7)\n",
    "    max_depth = trial.suggest_int('max_depth', 6, 12)\n",
    "    #contamination = trial.suggest_float('contamination', 0.005, 0.05)\n",
    "    \n",
    "    model_forest = ExtendedIsolationForest(n_trees, subsample_rate, max_depth)\n",
    "    model_forest.fit(X_train_scaled)\n",
    "    pred_forest = model_forest.predict(X_train_scaled)[1]\n",
    "    score = average_precision_score(y_train, pred_forest)\n",
    "    \n",
    "    return score\n",
    "\n",
    "study = optuna.create_study(direction='maximize')\n",
    "study.optimize(objective_forest, n_trials = 10)\n",
    "\n",
    "best_params_forest = study.best_trial.params"
   ]
  },
  {
   "cell_type": "code",
   "execution_count": 68,
   "metadata": {},
   "outputs": [
    {
     "data": {
      "text/plain": [
       "{'AUC-PR': 0.030848166182771693,\n",
       " 'Cohen-Kappa': 0.07032791986647324,\n",
       " 'Matthews Corr': 0.13687708343042446}"
      ]
     },
     "execution_count": 68,
     "metadata": {},
     "output_type": "execute_result"
    }
   ],
   "source": [
    "# оценивание модели\n",
    "model_forest = ExtendedIsolationForest(best_params_forest['n_trees'], best_params_forest['subsample_rate'],\n",
    "                                      best_params_forest['max_depth'])\n",
    "model_forest.fit(X_train_scaled)\n",
    "pred_forest, pred_proba_forest = model_forest.predict(X_test_scaled)\n",
    "\n",
    "pr_forest = average_precision_score(y_test, pred_proba_forest)\n",
    "mat_forest = matthews_corrcoef(y_test, pred_forest)\n",
    "ck_forest = cohen_kappa_score(y_test, pred_forest)\n",
    "\n",
    "{'AUC-PR': pr_forest, 'Cohen-Kappa': ck_forest, 'Matthews Corr': mat_forest} # полученные метрики"
   ]
  },
  {
   "cell_type": "markdown",
   "metadata": {},
   "source": [
    "По сравнению с supervised методами все конечно так себе. Сравним с обычным IF:"
   ]
  },
  {
   "cell_type": "code",
   "execution_count": 69,
   "metadata": {},
   "outputs": [],
   "source": [
    "from sklearn.ensemble import IsolationForest"
   ]
  },
  {
   "cell_type": "code",
   "execution_count": 70,
   "metadata": {},
   "outputs": [
    {
     "data": {
      "text/plain": [
       "{'AUC-PR': 0.01994828056492866,\n",
       " 'Cohen-Kappa': 0.06606206306656892,\n",
       " 'Matthews Corr': 0.13784372125810926}"
      ]
     },
     "execution_count": 70,
     "metadata": {},
     "output_type": "execute_result"
    }
   ],
   "source": [
    "model_if = IsolationForest(n_estimators=best_params_forest['n_trees'],\n",
    "                           max_samples = best_params_forest['subsample_rate'],\n",
    "                           contamination=0.01)  # глубину тут не нашел\n",
    "model_if.fit(X_train_scaled)\n",
    "pred_if = (model_if.predict(X_test_scaled) == -1) * 1            # выдает -1 на аномалиях\n",
    "\n",
    "pr_if = average_precision_score(y_test, pred_if)\n",
    "mat_if = matthews_corrcoef(y_test, pred_if)\n",
    "ck_if = cohen_kappa_score(y_test, pred_if)\n",
    "\n",
    "{'AUC-PR': pr_if, 'Cohen-Kappa': ck_if, 'Matthews Corr': mat_if} # полученные метрики"
   ]
  },
  {
   "cell_type": "markdown",
   "metadata": {},
   "source": [
    "Ну, в целом немного лучше по двум метрикам. На самом деле мне кажется, что я где-то туплю и подбираю не те параметры. Еще я заметил, что в тесте у нас всего 26 аномалий и на валидации модель работает получше"
   ]
  },
  {
   "cell_type": "markdown",
   "metadata": {
    "id": "G00BCRJj4Sz3"
   },
   "source": [
    "Возможно, ваш алгоритм выдал большие оценки объектам с негативной разметкой. Постарайтесь выбрать несколько таких объектов и доступно объяснить (= с кодом и графиками), почему так вышло:"
   ]
  },
  {
   "cell_type": "code",
   "execution_count": 71,
   "metadata": {
    "id": "ds6Rz3a-4s9V"
   },
   "outputs": [],
   "source": [
    "# берем два таких примера\n",
    "ex_1, ex_2 = np.where((pred_proba_forest > 0.6) & (y_test == 0))[0][[0, -1]]"
   ]
  },
  {
   "cell_type": "markdown",
   "metadata": {},
   "source": [
    "Еще в самом начале мы смотрели на самые важные признаки и их распределение. Наверное, стоит посмотреть на то, какие значения этих признаков принимают наши примеры. (Примеры сестрам задевают:))\n",
    "\n",
    "Красная линия - первый пример, зеленая - второй"
   ]
  },
  {
   "cell_type": "code",
   "execution_count": 72,
   "metadata": {},
   "outputs": [
    {
     "data": {
      "text/plain": [
       "''"
      ]
     },
     "execution_count": 72,
     "metadata": {},
     "output_type": "execute_result"
    },
    {
     "data": {
      "image/png": "[encoded data removed]",
      "text/plain": [
       "<Figure size 1152x864 with 3 Axes>"
      ]
     },
     "metadata": {},
     "output_type": "display_data"
    }
   ],
   "source": [
    "plt.figure(figsize=(16, 12))\n",
    "plt.suptitle('Распределение важных признаков по классам')\n",
    "\n",
    "plt.subplot(2, 2, 1)\n",
    "plt.hist(df[df['Class'] == 1]['V12'], density=True, alpha=0.4, label='скам')\n",
    "plt.hist(df[df['Class'] == 0]['V12'], density=True, alpha=0.4, label='не скам')\n",
    "plt.axvline(x = X_test.iloc[ex_1]['V12'], color = 'red')\n",
    "plt.axvline(x = X_test.iloc[ex_2]['V12'], color = 'green')\n",
    "\n",
    "plt.title('Распределение V12')\n",
    "plt.xlabel('Значение признака')\n",
    "plt.ylabel('Плотность')\n",
    "plt.legend()\n",
    "\n",
    "plt.subplot(2, 2, 2)\n",
    "plt.hist(df[df['Class'] == 1]['V14'], density=True, alpha=0.4, label='скам')\n",
    "plt.hist(df[df['Class'] == 0]['V14'], density=True, alpha=0.4, label='не скам')\n",
    "plt.axvline(x = X_test.iloc[ex_1]['V14'], color = 'red')\n",
    "plt.axvline(x = X_test.iloc[ex_2]['V14'], color = 'green')\n",
    "plt.title('Распределение V14')\n",
    "plt.xlabel('Значение признака')\n",
    "plt.ylabel('Плотность')\n",
    "plt.legend()\n",
    "\n",
    "plt.subplot(2, 2, 3)\n",
    "plt.hist(df[df['Class'] == 1]['V17'], density=True, alpha=0.4, label='скам')\n",
    "plt.hist(df[df['Class'] == 0]['V17'], density=True, alpha=0.4, label='не скам')\n",
    "plt.axvline(x = X_test.iloc[ex_1]['V17'], color = 'red')\n",
    "plt.axvline(x = X_test.iloc[ex_2]['V17'], color = 'green')\n",
    "plt.title('Распределение V17')\n",
    "plt.xlabel('Значение признака')\n",
    "plt.ylabel('Плотность')\n",
    "plt.legend()\n",
    ";"
   ]
  },
  {
   "cell_type": "markdown",
   "metadata": {},
   "source": [
    "Как мы видим, для этих объектов действительно свойственно попадать в \"зоны скама\". Возможно именно поэтому модель их и относит к аномалиям."
   ]
  },
  {
   "cell_type": "markdown",
   "metadata": {
    "id": "oLpfrhGFs9BX"
   },
   "source": [
    "**Задание 6. (1 балл).** `sklearn` также предлагает нам и другие методы для поиска аномалий. В этом задании мы предлагаем вам сделать следующее:\n",
    "\n",
    "Для начала попробуйте использовать методы Local Outlier Factor и One-Class SVM. Сравните результаты с IF и EIF.  "
   ]
  },
  {
   "cell_type": "code",
   "execution_count": 73,
   "metadata": {
    "id": "vs8q00tXs9BX"
   },
   "outputs": [],
   "source": [
    "from sklearn.neighbors import LocalOutlierFactor\n",
    "from sklearn.svm import OneClassSVM"
   ]
  },
  {
   "cell_type": "code",
   "execution_count": 74,
   "metadata": {},
   "outputs": [],
   "source": [
    "# модели учатся очень долго, поэтому обучаю на подвыборке\n",
    "idx_random = np.random.choice(np.arange(X_train_scaled.shape[0]), 50000, replace = False)\n",
    "model_lof = LocalOutlierFactor(algorithm = 'kd_tree', novelty = True, contamination=0.01)\n",
    "model_lof.fit(X_train_scaled[idx_random])\n",
    "model_svm = OneClassSVM(nu = 0.01)\n",
    "model_svm.fit(X_train_scaled[idx_random])\n",
    "\n",
    "pred_lof = model_lof.predict(X_test_scaled)\n",
    "pred_svm = model_svm.predict(X_test_scaled)\n",
    "\n",
    "pr_lof = average_precision_score(y_test, pred_lof)\n",
    "mat_lof = matthews_corrcoef(y_test, pred_lof)\n",
    "ck_lof = cohen_kappa_score(y_test, pred_lof)\n",
    "\n",
    "pr_svm = average_precision_score(y_test, pred_svm)\n",
    "mat_svm = matthews_corrcoef(y_test, pred_svm)\n",
    "ck_svm = cohen_kappa_score(y_test, pred_svm)"
   ]
  },
  {
   "cell_type": "markdown",
   "metadata": {},
   "source": [
    "Метрики для Local Outlier Factor:"
   ]
  },
  {
   "cell_type": "code",
   "execution_count": 75,
   "metadata": {},
   "outputs": [
    {
     "data": {
      "text/plain": [
       "{'AUC-PR': 0.0008283935892375073,\n",
       " 'Cohen-Kappa': 5.203849558788054e-05,\n",
       " 'Matthews Corr': 0.002958724398445839}"
      ]
     },
     "execution_count": 75,
     "metadata": {},
     "output_type": "execute_result"
    }
   ],
   "source": [
    "{'AUC-PR': pr_lof, 'Cohen-Kappa': ck_lof, 'Matthews Corr': mat_lof}"
   ]
  },
  {
   "cell_type": "markdown",
   "metadata": {},
   "source": [
    "Метрики для One-class SVM:"
   ]
  },
  {
   "cell_type": "code",
   "execution_count": 76,
   "metadata": {},
   "outputs": [
    {
     "data": {
      "text/plain": [
       "{'AUC-PR': 0.0006380990775225,\n",
       " 'Cohen-Kappa': -0.0005727455003674553,\n",
       " 'Matthews Corr': -0.0586913665651454}"
      ]
     },
     "execution_count": 76,
     "metadata": {},
     "output_type": "execute_result"
    }
   ],
   "source": [
    "{'AUC-PR': pr_svm, 'Cohen-Kappa': ck_svm, 'Matthews Corr': mat_svm}"
   ]
  },
  {
   "cell_type": "markdown",
   "metadata": {
    "id": "BGY_u8nts9BX"
   },
   "source": [
    "У вас началась депрессия из-за плохих метрик? Не беда! Сейчас давайте сделаем так: все методы, опробованные в этой части, попробуем задействовать для создания дополнительных признаков в данных. Проделайте это (не забудьте, что обучаться здесь нужно на трейне). Теперь возьмите лучшую модель из предыдущей части и обучите на новых данных. Смогли ли unsupervised-методы повысить вам качество?"
   ]
  },
  {
   "cell_type": "code",
   "execution_count": 77,
   "metadata": {
    "id": "Q3QpV-Hgs9BY"
   },
   "outputs": [],
   "source": [
    "# обучаю на дефолтных признаках, т.к. мы подбирали параметры на трейне, а это не очень хорошо (переобучение все дела)\n",
    "model_1 = ExtendedIsolationForest(n_trees = 300, subsample_rate = 0.5, max_depth = 8)\n",
    "model_2 = IsolationForest()\n",
    "\n",
    "model_1.fit(X_train_scaled)\n",
    "model_2.fit(X_train_scaled)\n",
    "\n",
    "models = [model_1, model_2, model_lof, model_svm]\n",
    "for i in range(4):\n",
    "    if i == 0:       # для EIF надо взять именно labels [0] \n",
    "        new_feature_train = models[i].predict(X_train_scaled)[0]\n",
    "        new_feature_test = models[i].predict(X_test_scaled)[0]\n",
    "        new_feature_val = models[i].predict(X_val_scaled)[0]\n",
    "        X_train[f'feature_{i}'] = new_feature_train\n",
    "        X_test[f'feature_{i}'] = new_feature_test\n",
    "        X_val[f'feature_{i}'] = new_feature_val\n",
    "    else:\n",
    "        new_feature_train = models[i].predict(X_train_scaled)\n",
    "        new_feature_test = models[i].predict(X_test_scaled)\n",
    "        new_feature_val = models[i].predict(X_val_scaled)\n",
    "        X_train[f'feature_{i}'] = new_feature_train\n",
    "        X_test[f'feature_{i}'] = new_feature_test\n",
    "        X_val[f'feature_{i}'] = new_feature_val"
   ]
  },
  {
   "cell_type": "markdown",
   "metadata": {},
   "source": [
    "Лучший метод по AUC-PR вроде как был бустинг на ADASYN. Метрика тут составила 0.732942\t"
   ]
  },
  {
   "cell_type": "code",
   "execution_count": 82,
   "metadata": {},
   "outputs": [],
   "source": [
    "X_train_adasyn, y_train_adasyn = ADASYN().fit_resample(X_train, y_train)\n",
    "model = CatBoostClassifier(random_state = 52)\n",
    "model.fit(X_train_adasyn, y_train_adasyn, eval_set = (X_val, y_val), use_best_model = True, verbose = False)\n",
    "pred_prob = model.predict_proba(X_test)[:, 1]\n",
    "pred = (pred_prob > 0.5) * 1\n",
    "\n",
    "pr = average_precision_score(y_test, pred_prob)\n",
    "ck = cohen_kappa_score(y_test, pred)\n",
    "matt  = matthews_corrcoef(y_test, pred)"
   ]
  },
  {
   "cell_type": "code",
   "execution_count": 83,
   "metadata": {},
   "outputs": [
    {
     "data": {
      "text/plain": [
       "{'AUC-PR': 0.7340362491494793,\n",
       " 'Cohen-Kappa': 0.5710262074505472,\n",
       " 'Matthews Corr': 0.5846324363139551}"
      ]
     },
     "execution_count": 83,
     "metadata": {},
     "output_type": "execute_result"
    }
   ],
   "source": [
    "{'AUC-PR': pr, 'Cohen-Kappa': ck, 'Matthews Corr': matt}"
   ]
  },
  {
   "cell_type": "markdown",
   "metadata": {},
   "source": [
    "Как мы видим, по AUC-PR есть небольшое улучшение, но остальные метрики съехали :("
   ]
  },
  {
   "cell_type": "markdown",
   "metadata": {
    "id": "NiGbNcXHs9BY"
   },
   "source": [
    "**Бонус. (0.1 балла).**\n",
    "\n",
    "При сдаче проверяющий запустит следующую клетку один раз. Если она даст положительный результат, вы получите 0.1 бонусных балла. Если она даст отрицательный результат, вы получите -0.1 бонусных балла. \n",
    "\n",
    "Если вы хотите отказаться от сдачи данного задания, допишите \"хочу\" после двоеточия: `хочу`\n",
    "\n",
    "Ниже вы можете попрактиковаться и оценить ваши силы (изменять код ячейки запрещается!)"
   ]
  },
  {
   "cell_type": "code",
   "execution_count": null,
   "metadata": {
    "id": "mfgJoZ_ns9BY"
   },
   "outputs": [],
   "source": [
    "import random\n",
    "\n",
    "rng = random.SystemRandom(0)\n",
    "rng.uniform(-1.0, 1.0)"
   ]
  }
 ],
 "metadata": {
  "colab": {
   "collapsed_sections": [],
   "name": "imbalanced-hw-clean.ipynb",
   "provenance": []
  },
  "kernelspec": {
   "display_name": "Python 3 (ipykernel)",
   "language": "python",
   "name": "python3"
  },
  "language_info": {
   "codemirror_mode": {
    "name": "ipython",
    "version": 3
   },
   "file_extension": ".py",
   "mimetype": "text/x-python",
   "name": "python",
   "nbconvert_exporter": "python",
   "pygments_lexer": "ipython3",
   "version": "3.9.12"
  }
 },
 "nbformat": 4,
 "nbformat_minor": 4
}
