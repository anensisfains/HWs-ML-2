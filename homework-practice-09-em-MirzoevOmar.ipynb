{
 "cells": [
  {
   "cell_type": "markdown",
   "metadata": {
    "pycharm": {
     "name": "#%% md\n"
    }
   },
   "source": [
    "# Машинное обучение, ФКН ВШЭ\n",
    "\n",
    "# Практическое задание 9. EM-алгоритм\n",
    "\n",
    "## Общая информация\n",
    "\n",
    "Дата выдачи: 18.02.2025\n",
    "\n",
    "Мягкий дедлайн: 11.03.2025 23:59 MSK\n",
    "\n",
    "Жёсткий дедлайн: 16.03.2025 23:59 MSK\n",
    "\n",
    "## Оценивание и штрафы\n",
    "Каждая из задач имеет определенную «стоимость» (указана в скобках около задачи). Максимальная оценка за работу (без учёта бонусов) — 15 баллов.\n",
    "\n",
    "Сдавать задание после указанного жёсткого срока сдачи нельзя. При выставлении неполного балла за задание в связи с наличием ошибок на усмотрение проверяющего предусмотрена возможность исправить работу на указанных в ответном письме условиях.\n",
    "\n",
    "Задание выполняется самостоятельно. «Похожие» решения считаются плагиатом и все задействованные студенты (в том числе те, у кого списали) не могут получить за него больше 0 баллов (подробнее о плагиате см. на странице курса). Если вы нашли решение какого-то из заданий (или его часть) в открытом источнике, необходимо указать ссылку на этот источник в отдельном блоке в конце вашей работы (скорее всего вы будете не единственным, кто это нашел, поэтому чтобы исключить подозрение в плагиате, необходима ссылка на источник).\n",
    "\n",
    "Неэффективная реализация кода может негативно отразиться на оценке.\n",
    "\n",
    "## Формат сдачи\n",
    "Задания сдаются через систему anytask. Посылка должна содержать:\n",
    "* Ноутбук homework-practice-09-em-Username.ipynb\n",
    "* Модули preprocessing.py, metrics.py, models.py, содержащие написанный вами код\n",
    "* Ссылки на посылки в Яндекс.Контест для всех функций и классов, которые вы реализовали\n",
    "\n",
    "Ссылка на Яндекс.Контест: https://contest.yandex.ru/contest/60281\n",
    "\n",
    "Username — ваша фамилия и имя на латинице именно в таком порядке"
   ]
  },
  {
   "cell_type": "markdown",
   "metadata": {
    "pycharm": {
     "name": "#%% md\n"
    }
   },
   "source": [
    "# Generative model of Labels, Abilities, and Difficulties (GLAD)\n",
    "\n",
    "В [семинаре 16](https://github.com/esokolov/ml-course-hse/blob/master/2022-spring/seminars/sem16-em.pdf) мы рассмотрели задачу восстановления истинной разметки по меткам от экспертов (которым мы не можем доверять в полной мере, более того, их предсказания могут расходиться).\n",
    "\n",
    "Рассмотрим следующую вероятностную модель:\n",
    "\n",
    "$$ p(L, Z | \\alpha, \\beta) = \\prod_{i=1}^{n} \\prod_{j=1}^m \\sigma(\\alpha_j\\beta_i)^{[l_{ij}=z_i]}\\sigma(-\\alpha_j\\beta_i)^{1-[l_{ij}=z_i]} p(z_j)$$\n",
    "\n",
    "где $l_{ij} -$ ответ $j$-го эксперта на задачу $i$, $z_j -$ истинная разметка, $\\alpha_i, \\beta_j-$ уровень экспертизы и сложность задачи соответственно. Для более подробного описания модели можно прочитать материалы семинара, а также [оригинальную статью](http://papers.nips.cc/paper/3644-whose-vote-should-count-more-optimal-integration-of-labels-from-labelers-of-unknown-expertise.pdf). Априорное распределение положим равномерным: $p(z_i) = 0.5$."
   ]
  },
  {
   "cell_type": "code",
   "execution_count": 1,
   "metadata": {
    "pycharm": {
     "name": "#%%\n"
    }
   },
   "outputs": [],
   "source": [
    "import numpy as np\n",
    "import matplotlib.pyplot as plt\n",
    "import pandas as pd\n",
    "import seaborn as sns\n",
    "import warnings\n",
    "warnings.simplefilter('ignore')\n",
    "\n",
    "seed = 0xDEADF00D\n",
    "np.random.seed(seed)"
   ]
  },
  {
   "cell_type": "code",
   "execution_count": 2,
   "metadata": {
    "pycharm": {
     "name": "#%%\n"
    }
   },
   "outputs": [],
   "source": [
    "L = np.load('L.npy')\n",
    "n, m = L.shape"
   ]
  },
  {
   "cell_type": "markdown",
   "metadata": {
    "pycharm": {
     "name": "#%% md\n"
    }
   },
   "source": [
    "**Задание 1. (2 балла)** Реализуйте EM-алгоритм для заданной выше модели. Вы можете воспользоваться предложенными шаблонами или написать свои. \n",
    "\n",
    "Обратите внимание, что правдоподобие моделирует не вероятность метки $l_{ij}$ принять значение 1 или 0, а вероятность того, что она равна скрытой переменной $z_i$, т.е. $p(l_{ij} = z_j|z_j, \\alpha_j, \\beta_i) \\neq p(l_{ij} = 1|\\alpha_j, \\beta_i) $. При этом заранее неизвестно, какая из скрытых переменных соответствует метке 1. Не забывайте, что параметры $\\beta_i$ должны быть неотрицательными; для этого оптимизируйте $\\log \\beta$. На M-шаге можете использовать как один шаг градиентного спуска, так и несколько: разумные результаты у вас должны получаться вне зависимости от числа итераций.\n",
    "\n",
    "Также при работе с вероятностями не забывайте о точности:\n",
    "1. Используйте логарифмы вероятностей.\n",
    "2. $\\log \\sigma(a)$ лучше преобразовать в $\\log \\sigma(a) = -\\log(1 + \\exp(-a)) = -\\mathrm{softplus}(-a) $\n",
    "3. Ещё полезные функции: `scipy.special.expit`, `scipy.special.logsumexp`, `np.log1p`\n",
    "\n",
    "Для отладки может быть полезно проверить градиент с помощью `scipy.optimize.check_grad`."
   ]
  },
  {
   "cell_type": "code",
   "execution_count": 3,
   "metadata": {},
   "outputs": [],
   "source": [
    "from scipy.special import expit, logsumexp, softmax"
   ]
  },
  {
   "cell_type": "code",
   "execution_count": 4,
   "metadata": {
    "pycharm": {
     "name": "#%%\n"
    }
   },
   "outputs": [],
   "source": [
    "def softplus(x):\n",
    "    '''stable version of log(1 + exp(x))'''\n",
    "    c = (x > 20) * 1.\n",
    "    return np.log1p(np.exp(x * (1-c)) * (1-c)) + x * c"
   ]
  },
  {
   "cell_type": "code",
   "execution_count": 5,
   "metadata": {
    "pycharm": {
     "name": "#%%\n"
    }
   },
   "outputs": [],
   "source": [
    "def posterior(alpha, beta, L):\n",
    "    \"\"\" Posterior over true labels z p(z|l, \\alpha, \\beta)\n",
    "    Args:\n",
    "        alpha: ndarray of shape (n_experts).\n",
    "        beta: ndarray of shape (n_problems).\n",
    "        L: ndarray of shape (n_problems, n_experts).\n",
    "    \"\"\"\n",
    "    p_z = 0.5 # поэтому можно не учитывать, оно просто сократится в формуле\n",
    "    alpha_beta = alpha[None, :] * beta[:, None] # матрица из всех нужных произведений альф и бет\n",
    "    gamma_0 = np.sum(-softplus(-alpha_beta) * (L == 0) + (-softplus(alpha_beta) * (L == 1)), axis = 1)\n",
    "    gamma_1 = np.sum(-softplus(-alpha_beta) * (L == 1) + (-softplus(alpha_beta) * (L == 0)), axis = 1)\n",
    "    q = softmax(np.array([gamma_0, gamma_1]).T, axis = 1)\n",
    "    return q\n",
    "\n",
    "def log_likelihood(alpha, beta, L, z):\n",
    "    \"\"\" p(l=z|z, \\alpha, \\beta)\n",
    "    Args:\n",
    "        alpha: ndarray of shape (n_experts).\n",
    "        beta: ndarray of shape (n_problems).\n",
    "        L: ndarray of shape (n_problems, n_experts).\n",
    "        z: ndarray of shape (n_problems).\n",
    "    \"\"\"\n",
    "    pass\n",
    "\n",
    "\n",
    "def alpha_grad_lb(alpha, beta, L, q):\n",
    "    \"\"\" Gradient of lower bound wrt alpha\n",
    "    Args:\n",
    "        alpha: ndarray of shape (n_experts).\n",
    "        beta: ndarray of shape (n_problems).\n",
    "        L: ndarray of shape (n_problems, n_experts).\n",
    "        q: ndarray of shape (2, n_problems).\n",
    "    \"\"\"\n",
    "    alpha_beta = alpha[None, :] * beta[:, None]\n",
    "    # считаем первую и вторую скобку из формул семинара в зависимости от t\n",
    "    bracket_0 = expit(-alpha_beta)*(L==0) - expit(alpha_beta)*(L==1)\n",
    "    bracket_1 = expit(-alpha_beta)*(L==1) - expit(alpha_beta)*(L==0)\n",
    "    # дальше уже считаем градиент также по формуле \n",
    "    grad_alpha = (q[None, :, 0] * beta)[0][:, None] * bracket_0 + (q[None, :, 1] * beta)[0][:, None] * bracket_1\n",
    "    grad_alpha = np.sum(grad_alpha, axis = 0)\n",
    "    return grad_alpha\n",
    "\n",
    "def logbeta_grad_lb(alpha, beta, L, q):\n",
    "    \"\"\" Gradient of lower bound wrt alpha\n",
    "    Args:\n",
    "        alpha: ndarray of shape (n_experts).\n",
    "        beta: ndarray of shape (n_problems).\n",
    "        L: ndarray of shape (n_problems, n_experts).\n",
    "        q: ndarray of shape (2, n_problems).\n",
    "    \"\"\"\n",
    "    alpha_beta = alpha[None, :] * beta[:, None]\n",
    "    bracket_0 = expit(-alpha_beta)*(L==0) - expit(alpha_beta)*(L==1)\n",
    "    bracket_1 = expit(-alpha_beta)*(L==1) - expit(alpha_beta)*(L==0)\n",
    "    grad_beta = q[None, :, 0][0][:, None] * (alpha * bracket_0) + q[None, :, 1][0][:, None] * (alpha * bracket_1)\n",
    "    grad_beta = np.sum(grad_beta, axis = 1)\n",
    "    return grad_beta\n",
    "\n",
    "def lower_bound(alpha, beta, L, q):\n",
    "    \"\"\" Lower bound\n",
    "    Args:\n",
    "        alpha: ndarray of shape (n_experts).\n",
    "        beta: ndarray of shape (n_problems).\n",
    "        L: ndarray of shape (n_problems, n_experts).\n",
    "        q: ndarray of shape (2, n_problems).\n",
    "    \"\"\"\n",
    "    pass\n"
   ]
  },
  {
   "cell_type": "code",
   "execution_count": 6,
   "metadata": {
    "pycharm": {
     "name": "#%%\n"
    }
   },
   "outputs": [],
   "source": [
    "def em(L, n_steps=1000, lr=1e-3):\n",
    "    # initialize parameters\n",
    "    alpha, logbeta = np.random.randn(m), np.random.randn(n)\n",
    "\n",
    "    for step in range(n_steps):\n",
    "        # E-step\n",
    "        q = posterior(alpha, np.exp(logbeta), L)\n",
    "        \n",
    "        # M-step\n",
    "        for i in range(2):\n",
    "            alpha_grad = alpha_grad_lb(alpha, logbeta, L, q)\n",
    "            beta_grad = logbeta_grad_lb(alpha, logbeta, L, q)\n",
    "            alpha = alpha + lr * alpha_grad\n",
    "            logbeta = logbeta + lr * beta_grad\n",
    "\n",
    "    return alpha, np.exp(logbeta), q"
   ]
  },
  {
   "cell_type": "code",
   "execution_count": 7,
   "metadata": {
    "pycharm": {
     "name": "#%%\n"
    }
   },
   "outputs": [],
   "source": [
    "alpha, beta, q = em(L)"
   ]
  },
  {
   "cell_type": "code",
   "execution_count": 8,
   "metadata": {},
   "outputs": [],
   "source": [
    "pred = q.argmax(axis = 1)"
   ]
  },
  {
   "cell_type": "markdown",
   "metadata": {
    "pycharm": {
     "name": "#%% md\n"
    }
   },
   "source": [
    "**Задание 2. (1 балл)** Загрузите настоящую разметку. Посчитайте `accuracy` разметки, полученной с помощью обычного голосования по большинству среди экспертов, и сравните его с качеством, полученным с помощью EM-алгоритма. Помните, что алгоритму не важно, какая метка 0, а какая 1, поэтому если получите качество <0.5, то просто поменяйте метки классов (не забудьте также поменять знак у $\\alpha$). "
   ]
  },
  {
   "cell_type": "code",
   "execution_count": 9,
   "metadata": {
    "pycharm": {
     "name": "#%%\n"
    }
   },
   "outputs": [],
   "source": [
    "y = np.load('y.npy')"
   ]
  },
  {
   "cell_type": "code",
   "execution_count": 10,
   "metadata": {},
   "outputs": [
    {
     "name": "stdout",
     "output_type": "stream",
     "text": [
      "Accuracy для разметки при помощи EM: 0.045\n"
     ]
    }
   ],
   "source": [
    "acc_em = (y == pred).mean()\n",
    "print(f'Accuracy для разметки при помощи EM: {acc_em}')"
   ]
  },
  {
   "cell_type": "code",
   "execution_count": 11,
   "metadata": {},
   "outputs": [
    {
     "name": "stdout",
     "output_type": "stream",
     "text": [
      "Accuracy для разметки при помощи EM: 0.955\n"
     ]
    }
   ],
   "source": [
    "# меняем метки\n",
    "pred = (pred == 0) * 1\n",
    "alpha = -alpha\n",
    "\n",
    "acc_em = (y == pred).mean()\n",
    "print(f'Accuracy для разметки при помощи EM: {acc_em}')"
   ]
  },
  {
   "cell_type": "markdown",
   "metadata": {},
   "source": [
    "Как мы видим, качество получилось довольно хорошее, и заметно лучше голосования по большинству:"
   ]
  },
  {
   "cell_type": "code",
   "execution_count": 12,
   "metadata": {},
   "outputs": [
    {
     "name": "stdout",
     "output_type": "stream",
     "text": [
      "Accuracy для разметки при помощи голосования: 0.904\n"
     ]
    }
   ],
   "source": [
    "pred_maj = 1 * (L.mean(axis = 1) > 0.5)\n",
    "acc_maj = (y == pred_maj).mean()\n",
    "print(f'Accuracy для разметки при помощи голосования: {acc_maj}')"
   ]
  },
  {
   "cell_type": "markdown",
   "metadata": {
    "pycharm": {
     "name": "#%% md\n"
    }
   },
   "source": [
    "**Задание 3. (0.5 балла)** Попробуйте проинтерпретировать полученные коэфициенты $\\alpha$. Есть ли в выборке эксперты, которые намеренно голосуют неверно? Как это можно понять по альфам? Продемонстрируйте, что эксперты действительно чаще голосуют за неверный класс. Постройте график зависимости доли врено размеченных экспертом объектов от коэффициента $\\alpha$. Прокомментируйте результаты."
   ]
  },
  {
   "cell_type": "code",
   "execution_count": 13,
   "metadata": {
    "pycharm": {
     "name": "#%%\n"
    }
   },
   "outputs": [
    {
     "data": {
      "text/plain": [
       "array([ 1.00984716,  1.19398232,  8.95990114,  0.86764911,  0.99376507,\n",
       "        8.78002708,  0.99532861,  7.98926224, -8.39529352,  1.04481309,\n",
       "       -8.97262766, -8.73871338,  8.45627468,  0.88890938,  1.03902083,\n",
       "        0.85184644,  1.04010947,  8.21507661, -8.08438979,  8.12346125])"
      ]
     },
     "execution_count": 13,
     "metadata": {},
     "output_type": "execute_result"
    }
   ],
   "source": [
    "alpha # смотрим на коэффициенты"
   ]
  },
  {
   "cell_type": "markdown",
   "metadata": {},
   "source": [
    "В общем мне кажется, что проверить можно так: возьмем максимальное значение альфы, это где-то 8.95. Получается, что это уровень экспертности самого крутого разметчика, который супер хорошо размечает данные. Тогда если взять эту альфу с отрицательным знаком, то получится супер глупый эксперт, который как будто специально размечает данные наоборот. И как мы видим, такие альфы действительно есть (например -8.97). Поэтому я бы сказал, что в выборке действительно есть эксперты, которые намеренно голосуют неверно."
   ]
  },
  {
   "cell_type": "code",
   "execution_count": 14,
   "metadata": {},
   "outputs": [
    {
     "data": {
      "text/plain": [
       "array([0.697 , 0.709 , 0.919 , 0.6745, 0.6965, 0.917 , 0.686 , 0.9065,\n",
       "       0.0905, 0.704 , 0.0825, 0.082 , 0.911 , 0.681 , 0.6835, 0.679 ,\n",
       "       0.7015, 0.909 , 0.088 , 0.9105])"
      ]
     },
     "execution_count": 14,
     "metadata": {},
     "output_type": "execute_result"
    }
   ],
   "source": [
    "acc = []\n",
    "for i in range(len(alpha)):\n",
    "    preds_i = L[:, i]\n",
    "    acc_i = (preds_i == y).mean()\n",
    "    acc.append(acc_i)\n",
    "    \n",
    "np.array(acc) # массив с долей верно размеченных объектов для каждого эксперта"
   ]
  },
  {
   "cell_type": "markdown",
   "metadata": {},
   "source": [
    "Как мы видим, среди экспертов на самом деле есть те, кто очень плохо размечает данные (доля верных разметок меньше 0.1). Посмотрим на зависимость этой доли от альфы:"
   ]
  },
  {
   "cell_type": "code",
   "execution_count": 15,
   "metadata": {},
   "outputs": [
    {
     "data": {
      "image/png": "[encoded data removed]",
      "text/plain": [
       "<Figure size 864x576 with 1 Axes>"
      ]
     },
     "metadata": {
      "needs_background": "light"
     },
     "output_type": "display_data"
    }
   ],
   "source": [
    "plt.figure(figsize = (12, 8))\n",
    "plt.title('Зависимость доли верных разметок от alpha', fontsize = 14)\n",
    "plt.xlabel('Коэффициент alpha', fontsize = 12)\n",
    "plt.ylabel('Доля верных разметок', fontsize = 12)\n",
    "plt.scatter(alpha, acc)\n",
    "plt.grid()"
   ]
  },
  {
   "cell_type": "markdown",
   "metadata": {},
   "source": [
    "Из графика видна разумная закономерность: чем больше альфа (то есть экспертность разметчика), тем выше доля верно размеченных объектов"
   ]
  },
  {
   "cell_type": "markdown",
   "metadata": {
    "pycharm": {
     "name": "#%% md\n"
    }
   },
   "source": [
    "**Задание 4. (бонус, 2 балла)**  Как уже было замечено выше, модели не важно, какой класс 1, а какой 0. Скажем, если все эксперты оказались максимально противными и ставят метку с точностью наоборот, то у вас будет полная согласованность между экспертами, при этом невозможно понять правильно они разметили выборку или нет, смотря только на такую разметку. Чтобы избежать этого, можно включать в выборку вопрос с заведомо известным ответом, тогда вы сможете определить, ставит ли эксперт специально неверные метки.\n",
    "\n",
    "Чтобы обощить данную модель на случай заданий с заведомо известной меткой, достоточно не делать для них E-шаг, а всегда полагать апостериорное распределение вырожденным в истинном классе. Реализуйте данную модель и используйте истинную разметку *для нескольких* задач из обучения. Проинтерпретируйте полученные результаты."
   ]
  },
  {
   "cell_type": "code",
   "execution_count": 16,
   "metadata": {},
   "outputs": [],
   "source": [
    "tasks = [5, 777, 1990] # пусть мы знаем метки для трех этих задач\n",
    "\n",
    "def posterior_new(alpha, beta, L, tasks = tasks, real_z = y[tasks]):\n",
    "    \"\"\" Posterior over true labels z p(z|l, \\alpha, \\beta)\n",
    "    Args:\n",
    "        alpha: ndarray of shape (n_experts).\n",
    "        beta: ndarray of shape (n_problems).\n",
    "        L: ndarray of shape (n_problems, n_experts).\n",
    "    \"\"\"\n",
    "    p_z = 0.5 # поэтому можно не учитывать, оно просто сократится в формуле\n",
    "    alpha_beta = alpha[None, :] * beta[:, None]\n",
    "    gamma_0 = np.sum(-softplus(-alpha_beta) * (L == 0) + (-softplus(alpha_beta) * (L == 1)), axis = 1)\n",
    "    gamma_1 = np.sum(-softplus(-alpha_beta) * (L == 1) + (-softplus(alpha_beta) * (L == 0)), axis = 1)\n",
    "    q = softmax(np.array([gamma_0, gamma_1]).T, axis = 1)\n",
    "    \n",
    "    # для известных задач оставляем настоящие метки (пропускаем E-шаг)\n",
    "    # но приходится задавать наоборот, так как модель путает метки, и потом мы берем обратный прогноз\n",
    "    q[tasks, 0] = 1 * (real_z == 1)\n",
    "    q[tasks, 1] = 1 * (real_z == 0)\n",
    "    return q\n",
    "\n",
    "def em_new(L, n_steps=1000, lr=1e-3):\n",
    "    alpha, logbeta = np.random.randn(m), np.random.randn(n)\n",
    "    for step in range(n_steps):\n",
    "\n",
    "        q = posterior_new(alpha, np.exp(logbeta), L)\n",
    "        \n",
    "        for i in range(2):\n",
    "            alpha_grad = alpha_grad_lb(alpha, logbeta, L, q)\n",
    "            beta_grad = logbeta_grad_lb(alpha, logbeta, L, q)\n",
    "            alpha = alpha + lr * alpha_grad\n",
    "            logbeta = logbeta + lr * beta_grad\n",
    "\n",
    "    return alpha, np.exp(logbeta), q"
   ]
  },
  {
   "cell_type": "code",
   "execution_count": 17,
   "metadata": {},
   "outputs": [],
   "source": [
    "alpha_new, beta_new, q_new = em_new(L)\n",
    "pred_new = q_new.argmax(axis = 1)"
   ]
  },
  {
   "cell_type": "code",
   "execution_count": 18,
   "metadata": {},
   "outputs": [
    {
     "name": "stdout",
     "output_type": "stream",
     "text": [
      "Accuracy разметки для нового EM : 0.9555\n"
     ]
    }
   ],
   "source": [
    "acc_new = (y == pred_new).mean()\n",
    "if acc_new < 0.5:\n",
    "    acc_new = 1-acc_new\n",
    "    alpha_new = -alpha_new\n",
    "print(f'Accuracy разметки для нового EM : {acc_new}')"
   ]
  },
  {
   "cell_type": "markdown",
   "metadata": {},
   "source": [
    "Как мы видим, accuracy немного выросло, видимо я добавил ответ для задачи, на которой мы раньше ошибались. Также можно увидеть что альфы увеличились по модулю. То есть модель лучше различает разметчиков по их экспертности (например, если бы у нас были 0.1 и -0.1 то между ними не было бы большой разницы)"
   ]
  },
  {
   "cell_type": "code",
   "execution_count": 19,
   "metadata": {},
   "outputs": [
    {
     "data": {
      "text/plain": [
       "array([ 1.00984716,  1.19398232,  8.95990114,  0.86764911,  0.99376507,\n",
       "        8.78002708,  0.99532861,  7.98926224, -8.39529352,  1.04481309,\n",
       "       -8.97262766, -8.73871338,  8.45627468,  0.88890938,  1.03902083,\n",
       "        0.85184644,  1.04010947,  8.21507661, -8.08438979,  8.12346125])"
      ]
     },
     "execution_count": 19,
     "metadata": {},
     "output_type": "execute_result"
    }
   ],
   "source": [
    "alpha"
   ]
  },
  {
   "cell_type": "code",
   "execution_count": 20,
   "metadata": {},
   "outputs": [
    {
     "data": {
      "text/plain": [
       "array([ 1.02783716,  1.22314047,  9.10198456,  0.87981699,  1.01461586,\n",
       "        8.91813854,  1.00695598,  8.12512343, -8.52861249,  1.06063237,\n",
       "       -9.1136274 , -8.88139895,  8.59660295,  0.90029861,  1.05416117,\n",
       "        0.86169737,  1.05472887,  8.35217309, -8.22170358,  8.25708395])"
      ]
     },
     "execution_count": 20,
     "metadata": {},
     "output_type": "execute_result"
    }
   ],
   "source": [
    "alpha_new"
   ]
  },
  {
   "cell_type": "markdown",
   "metadata": {
    "pycharm": {
     "name": "#%% md\n"
    }
   },
   "source": [
    "# Выравнивание слов (Word Alignment)"
   ]
  },
  {
   "cell_type": "markdown",
   "metadata": {
    "pycharm": {
     "name": "#%% md\n"
    }
   },
   "source": [
    "EM-алгоритм также применяют на практике для настройки параметров модели выравнивания слов, более сложные модификации которой используются в статистическом машинном переводе. Мы не будем подробно обсуждать применение word alignment для перевода и ограничимся следующей целью: пусть у нас есть параллельный корпус из предложений на исходном языке и их переводов на целевой язык (в этом задании используются английский и чешский соответственно). \n",
    "\n",
    "Первая задача — определить с помощью этого корпуса, как переводится каждое отдельное слово на целевом языке. Вторая задача — для произвольной пары из предложения и его перевода установить, переводом какого слова в исходном предложении является каждое слово в целевом предложении. Оказывается, у обеих задач существует элегантное и эффективное решение при введении правильной вероятностной модели: в этой части задания вам предстоит его реализовать и оценить результаты работы. Но обо всём по порядку :)\n",
    "\n",
    "---\n",
    "\n",
    "Перед тем, как заниматься машинным обучением, давайте разберёмся с данными и метриками в интересующей нас задаче. В ячейке ниже загружается и разархивируется параллельный английско-чешский корпус, в котором есть разметка выравнивания слов. Нетрудно заметить, что формат XML-файла, использованный его авторами, не вполне стандартный: нет готовой команды , которая позволила бы получить список пар предложений вместе с выравниваниями. Это значит, что нужно разобраться с форматом и написать парсер самостоятельно, используя встроенные средства Python, например, модуль [xml](https://docs.python.org/3.7/library/xml.html)."
   ]
  },
  {
   "cell_type": "code",
   "execution_count": 21,
   "metadata": {
    "pycharm": {
     "name": "#%%\n"
    }
   },
   "outputs": [
    {
     "name": "stdout",
     "output_type": "stream",
     "text": [
      "<?xml version=\"1.0\" encoding=\"utf-8\" ?>\n",
      "<sentences>\n",
      "<s id=\"project_syndicate_bacchetta1-s1\">\n",
      "  <english>Are the Dollar 's Days Numbered ?</english>\n",
      "  <czech>Jsou dny dolaru sečteny ?</czech>\n",
      "  <sure>1-1 3-3 5-2 6-4 7-5</sure>\n",
      "  <possible>2-2 4-3</possible>\n",
      "</s>\n",
      "<s id=\"project_syndicate_bacchetta1-s2\">\n",
      "  <english>Philippe Bacchetta and Eric van Wincoop</english>\n",
      "  <czech>Philippe Bacchetta and Eric van Wincoop</czech>\n",
      "  <sure>1-1 2-2 3-3 4-4 5-5 6-6</sure>\n",
      "  <possible></possible>\n",
      "</s>\n",
      "<s id=\"project_syndicate_bacchetta1-s3\">\n",
      "  <english>A year ago , the dollar bestrode the world like a colossus .</english>\n",
      "  <czech>Ještě před rokem dolar dominoval světu jako imperátor .</czech>\n",
      "  <sure>10-7 12-8 13-9 2-3 3-2 6-4 7-5 9-6</sure>\n",
      "  <possible>1-3 11-8 3-1 5-4 8-6</possible>\n",
      "</s>\n"
     ]
    }
   ],
   "source": [
    "%%bash\n",
    "wget -q https://lindat.mff.cuni.cz/repository/xmlui/bitstream/handle/11234/1-1804/CzEnAli_1.0.tar.gz -O CzEnAli_1.0.tar.gz\n",
    "mkdir -p data\n",
    "tar -xzf CzEnAli_1.0.tar.gz -C data/\n",
    "head -n 20 data/merged_data/project_syndicate/project_syndicate_bacchetta1.wa"
   ]
  },
  {
   "cell_type": "markdown",
   "metadata": {
    "pycharm": {
     "name": "#%% md\n"
    }
   },
   "source": [
    "**Задание -2. (0.5 балла)** Реализуйте функцию `extract_sentences`, которая принимает на вход путь к файлу с XML-разметкой, используемой в этом датасете, и возвращает список параллельных предложений, а также список из «уверенных» (sure) и «возможных» (possible) пар выравниваний. Отправьте вашу реализацию в Яндекс.Контест, чтобы убедиться в её корректности; в следующей ячейке ноутбука соберите все пары размеченных предложений из датасета в два списка `all_sentences` (список `SentencePair`) и `all_targets` (список LabeledAlignment).\n",
    "\n",
    "Здесь и далее соблюдайте сигнатуры функций и пользуйтесь объявленными в модуле `preprocessing.py` классами для организации данных. Стоит заметить, что предложения уже токенизированы (даже отделена пунктуация), поэтому предобработку текстов совершать не нужно. Обратите внимание на формат хранения выравниваний: нумерация начинается с 1 (в таком виде и нужно сохранять), первым в паре идёт слово из англоязычного предложения."
   ]
  },
  {
   "cell_type": "markdown",
   "metadata": {},
   "source": [
    "При парсинге пользовался гайдом отсюда: https://docs.python.org/3/library/xml.etree.elementtree.html"
   ]
  },
  {
   "cell_type": "code",
   "execution_count": 22,
   "metadata": {},
   "outputs": [],
   "source": [
    "%load_ext autoreload\n",
    "%autoreload 2"
   ]
  },
  {
   "cell_type": "code",
   "execution_count": 23,
   "metadata": {
    "pycharm": {
     "name": "#%%\n"
    }
   },
   "outputs": [],
   "source": [
    "import glob\n",
    "from preprocessing import extract_sentences\n",
    "\n",
    "all_sentences = []\n",
    "all_targets = []\n",
    "files = glob.glob('data/merged_data/**/*.wa', recursive=True)\n",
    "\n",
    "for name in files:\n",
    "    sentences_cur, targets_cur = extract_sentences(name)\n",
    "    all_sentences.extend(sentences_cur)\n",
    "    all_targets.extend(targets_cur)"
   ]
  },
  {
   "cell_type": "code",
   "execution_count": 24,
   "metadata": {},
   "outputs": [
    {
     "data": {
      "text/plain": [
       "[SentencePair(source=['Are', 'the', 'Dollar', \"'s\", 'Days', 'Numbered', '?'], target=['Jsou', 'dny', 'dolaru', 'sečteny', '?']),\n",
       " SentencePair(source=['Philippe', 'Bacchetta', 'and', 'Eric', 'van', 'Wincoop'], target=['Philippe', 'Bacchetta', 'and', 'Eric', 'van', 'Wincoop'])]"
      ]
     },
     "execution_count": 24,
     "metadata": {},
     "output_type": "execute_result"
    }
   ],
   "source": [
    "all_sentences[:2]"
   ]
  },
  {
   "cell_type": "markdown",
   "metadata": {},
   "source": [
    "Ссылка на успешную посылку: https://contest.yandex.ru/contest/60281/run-report/134224131/\n",
    "\n",
    "никнейм: ommirzoev@edu.hse.ru"
   ]
  },
  {
   "cell_type": "markdown",
   "metadata": {
    "pycharm": {
     "name": "#%% md\n"
    }
   },
   "source": [
    "**Задание -1. (0.5 балла)** Реализуйте функции `get_token_to_index` и `tokenize_sents` из модуля `preprocessing.py`, постройте словари token->index для обоих языков и постройте список из `TokenizedSentencePair` по выборке. Реализации функций также отправьте в Яндекс.Контест."
   ]
  },
  {
   "cell_type": "code",
   "execution_count": 25,
   "metadata": {
    "pycharm": {
     "name": "#%%\n"
    }
   },
   "outputs": [],
   "source": [
    "from preprocessing import get_token_to_index, tokenize_sents\n",
    "\n",
    "t_idx_src, t_idx_tgt = get_token_to_index(all_sentences)\n",
    "tokenized_sentences = tokenize_sents(all_sentences, t_idx_src, t_idx_tgt)"
   ]
  },
  {
   "cell_type": "code",
   "execution_count": 26,
   "metadata": {},
   "outputs": [
    {
     "data": {
      "text/plain": [
       "[TokenizedSentencePair(source_tokens=array([0, 1, 2, 3, 4, 5, 6]), target_tokens=array([0, 1, 2, 3, 4])),\n",
       " TokenizedSentencePair(source_tokens=array([ 7,  8,  9, 10, 11, 12]), target_tokens=array([ 5,  6,  7,  8,  9, 10])),\n",
       " TokenizedSentencePair(source_tokens=array([13, 14, 15, 16,  1, 17, 18,  1, 19, 20, 21, 22, 23]), target_tokens=array([11, 12, 13, 14, 15, 16, 17, 18, 19]))]"
      ]
     },
     "execution_count": 26,
     "metadata": {},
     "output_type": "execute_result"
    }
   ],
   "source": [
    "tokenized_sentences[:3]"
   ]
  },
  {
   "cell_type": "markdown",
   "metadata": {},
   "source": [
    "Ссылка на успешную посылку: https://contest.yandex.ru/contest/60281/run-report/134250955/\n",
    "\n",
    "никнейм: ommirzoev@edu.hse.ru"
   ]
  },
  {
   "cell_type": "markdown",
   "metadata": {
    "pycharm": {
     "name": "#%% md\n"
    }
   },
   "source": [
    "В качестве бейзлайна для этой задачи мы возьмём способ выравнивания слов по коэффициенту Дайса: слово в исходном языке является переводом слова на целевом языке, если они часто встречаются в одних и тех же предложениях и редко встречаются по отдельности. \n",
    "\n",
    "Математически это записывается по аналогии с мерой Жаккара: пусть $c(x,y)$ — число параллельных предложений, в которых есть и $x$ (на исходном языке), и $y$ (на целевом языке), а $c(x)$ и $c(y)$ — суммарное количество предложений, в которых встречается слово $x$ и $y$ соответственно. Тогда $\\textrm{Dice}(x,y)=\\frac{2 \\cdot c(x,y)}{c(x) + c(y)}$ — характеристика «похожести» слов $x$ и $y$. Она равна 1, если слова встречаются только в контексте друг друга (не бывает предложений только со словом $x$ без $y$ в переводе и наоборот), равна 0, если слова никогда не встречаются в параллельных предложениях и находится между пороговыми значениями в остальных случаях.\n",
    "\n",
    "В файле `models.py` описан абстрактный класс `BaseAligner`, наследником которого должны являться все модели в задании, а также приведён пример реализации `DiceAligner` выравнивания слов описанным выше путём. Ниже вы можете увидеть, как применять эту модель."
   ]
  },
  {
   "cell_type": "code",
   "execution_count": 27,
   "metadata": {
    "pycharm": {
     "name": "#%%\n"
    }
   },
   "outputs": [],
   "source": [
    "from models import DiceAligner\n",
    "\n",
    "baseline = DiceAligner(len(t_idx_src), len(t_idx_tgt), threshold=0.01)\n",
    "baseline.fit(tokenized_sentences)"
   ]
  },
  {
   "cell_type": "markdown",
   "metadata": {
    "pycharm": {
     "name": "#%% md\n"
    }
   },
   "source": [
    "Чтобы оценить качество модели выравнивания, пользуясь имеющейся разметкой, существует ряд автоматических метрик. Они подразумевают, что в разметке есть два вида выравниваний — «уверенные» (sure) и «возможные» (possible). Обозначим для конкретного предложения первое множество выравниваний $S$, второе — $P$, а предсказанные выравнивания — $A$; причём, в отличие от разметки в файле, $S\\subseteq P$. Тогда можно предложить три метрики, используя только операции над этими множествами:\n",
    "\n",
    "Precision $=\\frac{|A\\cap P|}{|A|}$. Отражает, какая доля предсказанных нами выравниваний вообще корректна; если мы дадим в качестве ответа все возможные пары слов в предложении, эта метрика сильно просядет.\n",
    "\n",
    "Recall $=\\frac{|A\\cap S|}{|S|}$. Эта метрика показывает, какую долю «уверенных» выравниваний мы обнаружили. Если мы попытаемся сделать слишком консервативную модель, которая выдаёт 0 или 1 предсказание на нетривиальных предложениях, полнота получится крайне низкая. \n",
    "\n",
    "Alignment Error Rate (AER) $=1-\\frac{|A\\cap P|+|A\\cap S|}{|A|+|S|}$. Метрика является комбинацией двух предыдущих и отслеживает общее качество работы системы, штрафуя оба описанных выше вида нежелаемого поведения модели. \n",
    "\n",
    "**Задание 0. (0.5 балла)** Реализуйте функции compute_precision, compute_recall, compute_aer из модуля metrics.py. Оцените качество бейзлайнового метода. Обратите внимание, что нужно использовать микро-усреднение во всех функциях: необходимо просуммировать числитель и знаменатель по всем предложениям и только потом делить."
   ]
  },
  {
   "cell_type": "code",
   "execution_count": 28,
   "metadata": {
    "pycharm": {
     "name": "#%%\n"
    }
   },
   "outputs": [
    {
     "data": {
      "text/plain": [
       "0.8074618330841489"
      ]
     },
     "execution_count": 28,
     "metadata": {},
     "output_type": "execute_result"
    }
   ],
   "source": [
    "from metrics import compute_aer\n",
    "\n",
    "compute_aer(all_targets,baseline.align(tokenized_sentences))"
   ]
  },
  {
   "cell_type": "markdown",
   "metadata": {},
   "source": [
    "Ссылка на успешную посылку: https://contest.yandex.ru/contest/60281/run-report/134280648/\n",
    "\n",
    "никнейм: ommirzoev@edu.hse.ru"
   ]
  },
  {
   "cell_type": "markdown",
   "metadata": {
    "pycharm": {
     "name": "#%% md\n"
    }
   },
   "source": [
    "Теперь мы можем перейти к базовой вероятностной модели для выравнивания слов. Пусть $S=(s_1,\\ldots,s_n)$ исходное предложение, $T=(t_1,\\ldots,t_m)$ — его перевод. В роли латентных переменных будут выступать выравнивания $A=(a_1,\\ldots,a_m)$ каждого слова в целевом предложении, причём $a_i\\in\\{1,\\ldots,n\\}$ (считаем, что каждое слово в $t$ является переводом какого-то слова из $s$). Параметрами модели является матрица условных вероятностей перевода: каждый её элемент $\\theta(y|x)=p(y|x)$ отражает вероятность того, что переводом слова $x$ с исходного языка на целевой является слово $y$ (нормировка, соответственно, совершается по словарю целевого языка). Правдоподобие латентных переменных и предложения на целевом языке в этой модели записывается так:\n",
    "\n",
    "$$\n",
    "p(A,T|S)=\\prod_{i=1}^m p(a_i)p(t_i|a_i,S)=\\prod_{i=1}^m \\frac{1}{n}\\theta(t_i|s_{a_i}).\n",
    "$$ "
   ]
  },
  {
   "cell_type": "markdown",
   "metadata": {
    "pycharm": {
     "name": "#%% md\n"
    }
   },
   "source": [
    "**Задание 1. (2 балла)** Выведите шаги EM-алгоритма для этой модели, а также получите выражение для подсчёта нижней оценки правдоподобия ($\\mathcal{L}$ в обозначениях лекции и семинара). **Обратите внимание, что на M-шаге нужно найти аналитический максимум по параметрам.**"
   ]
  },
  {
   "cell_type": "markdown",
   "metadata": {
    "pycharm": {
     "name": "#%% md\n"
    }
   },
   "source": [
    "**E-step:**\n",
    "\n",
    "на E-шаге нам нужно найти распределение на скрытых переменных:\n",
    "\n",
    "$$\n",
    "p(A|S,T) = \\frac{p(A,T|S)}{p(T|S)} = \\frac {\\prod_{i=1}^m \\frac{1}{n}\\theta(t_i|s_{a_i})}{\\sum_{A}\\prod_{i=1}^m \\frac{1}{n}\\theta(t_i|s_{a_i})} \n",
    "$$\n",
    "\n",
    "Теперь надо понять, как раскрывается сумма в знаменателе. Когда мы знаем выравнивание, то мы просто берем для каждого столбца подходящее слово на исходном языке (ищем по строчкам) и перемножаем m таких элементов. Но теперь нам надо проходиться по всем возможным выравниваниям для всех возможных таргетов, повторять эту процедуру и суммировать. То есть\n",
    "\n",
    "$$ \\sum_{A} = \\sum_{a1}\\sum_{a2}...$$ \n",
    "\n",
    "По сути, каждый элемент внутри столбца умножается на все остальные, кроме элементов своего столбца, то есть можно просто взять сумму по столбцам и потом перемножить. Типо:\n",
    "$$ ac + ad + bc + bd = (a+b)(c+d)$$\n",
    "\n",
    "Тогда \n",
    "\n",
    "$$\n",
    "{\\sum_{A}\\prod_{i=1}^m \\frac{1}{n}\\theta(t_i|s_{a_i})} = \\prod_{i=1}^m \\sum_{k=1}^n \\frac{1}{n}\\theta(t_i|s_{k})\n",
    "$$\n",
    "\n",
    "И итоговая формула E-шага:\n",
    "\n",
    "$$\n",
    "p(A|S,T) = \\frac {\\prod_{i=1}^m \\frac{1}{n}\\theta(t_i|s_{a_i})}{ \\prod_{i=1}^m \\sum_{k=1}^n \\frac{1}{n}\\theta(t_i|s_{k})} = \\prod_{i=1}^m \\frac {\\frac{1}{n}\\theta(t_i|s_{a_i})}{\\sum_{k=1}^n \\frac{1}{n}\\theta(t_i|s_{k})} = \\prod_{i=1}^m \\frac {\\theta(t_i|s_{a_i})}{\\sum_{k=1}^n \\theta(t_i|s_{k})}\n",
    "$$\n",
    "\n",
    "Если мы предполагаем независимость там и все дела, то:\n",
    "\n",
    "$$\n",
    "q_i^* = \\frac {\\theta(t_i|s_{a_i})}{\\sum_{k=1}^n \\theta(t_i|s_{k})}\n",
    "$$\n",
    "\n",
    "**M-step:**\n",
    "\n",
    "Найдя распределение q мы занулили KL-дивергенцию, поэтому теперь максимизируем нижнюю оценку:\n",
    "\n",
    "$$\n",
    "\\mathcal{L} = \\int q(A)\\log \\frac{p(A,T|S)}{q(A)}dA\n",
    "$$\n",
    "\n",
    "Интеграл берется по всем возможным значениям, поэтому надо проходиться по предложениям и всем выравниваниям там\n",
    "\n",
    "$$\n",
    "\\mathcal{L} = \\sum_{S,T}\\sum_{a} q^*\\log\\prod_{i=1}^m\\frac{\\frac{1}{n}\\theta(t_i|s_{a_i})}{q_i^*(a_i)} = \n",
    "\\sum_{S,T}\\sum_{a} q^*( \\sum_{i=1}^m\\log \\frac{1}{n}\\theta(t_i|s_{a_i}) - \\log q_i(a_i)^*) = \n",
    "$$ \n",
    "\n",
    "$$\n",
    " =\\sum_{S,T}\\sum_{i=1}^m \\sum_{j=1}^n q_i^*(j) \\log \\frac{1}{n}\\theta(t_i|s_{j}) - \\sum_{S,T}\\sum_{i=1}^m\\sum_{j=1}^n {q_i^*(j)}\\log q_i^*(j) = \n",
    "$$\n",
    "\n",
    "$$\n",
    "\\sum_{S,T}\\sum_{i=1}^m \\sum_{j=1}^n q_i^*(j) \\log\\theta(t_i|s_{j}) + \\sum_{S,T} m\\log\\frac{1}{n} - \\sum_{S,T}\\sum_{i=1}^m\\sum_{j=1}^n {q_i^*(j)}\\log q_i^*(j)\n",
    "$$\n",
    "\n",
    "Максимизировать же нужно по параметрам поэтому два последних слагаемых можно отбросить\n",
    "\n",
    "$$\n",
    "\\sum_{S,T}\\sum_{i=1}^m \\sum_{j=1}^n q_i^*(j) \\log\\theta(t_i|s_{j}) ->\\max\n",
    "$$\n",
    "\n",
    "Максимизируем правдоподобие при условии ограничения (сумма вероятностей равна 1):\n",
    "\n",
    "$$\n",
    "L = \\sum_{S,T}\\sum_{i=1}^m \\sum_{j=1}^n q_i^*(j) \\log\\theta(t_i|s_{j}) -\\sum_S(\\sum_T\\theta(t|s) - 1) ->\\max\n",
    "$$\n",
    "\n",
    "$$\n",
    "L'_{\\theta_i} = \\sum_{S,T}\\sum_{i=1}^m \\frac{q_i^*(j)}{\\theta(t_i|s_{j})} -\\lambda_S = 0\n",
    "$$\n",
    "\n",
    "$$\n",
    "\\theta(t_i|s_{j}) = \\frac{1}{\\lambda_S}\\sum_{S,T}\\sum_{i=1}^m q_i^*(j) => \\sum_{T}\\frac{1}{\\lambda_S}\\sum_{S,T}\\sum_{i=1}^m q_i^*(j) = 1 =>\n",
    "$$\n",
    "\n",
    "$$\n",
    "=> \\sum_{T}\\frac{1}{\\lambda_S}\\sum_{S,T}\\sum_{i=1}^m q_i^*(j) = 1 => \\lambda_S = \\sum_{T}\\sum_{S,T}\\sum_{i=1}^m q_i^*(j) \n",
    "$$\n",
    "\n",
    "$$\n",
    "\\theta(t_i|s_{j}) = \\frac{\\sum_{S,T}\\sum_{i=1}^m q_i^*(j)}{\\sum_{T}\\sum_{S,T}\\sum_{i=1}^m q_i^*(j) }\n",
    "$$\n"
   ]
  },
  {
   "cell_type": "markdown",
   "metadata": {},
   "source": [
    "В формулах M-step пользовался GPT, так как окончательно в них запутался. Я закинул условие задания а также свою формулу E-step. Сначала он мне выдал какие-то непонятные формулы с индикаторами, пришлось повозиться с промптом. Также в формуле раскрытия ELBO он не учитывал константу $\\sum_{S,T} m\\log\\frac{1}{n}$\n",
    "\n",
    "В общем, сделав 5-6 повторных запросов и исправив его формулы получилось все-таки вывести правильную. Главное, что мне помогло это то, что я понял, что надо проходиться уже по всему корпусу и еще я понял, что надо оптимизировать лагранжиан а не просто нижнюю оценку"
   ]
  },
  {
   "cell_type": "markdown",
   "metadata": {
    "pycharm": {
     "name": "#%% md\n"
    }
   },
   "source": [
    "**Задание 2. (2.5 балла)** Реализуйте все методы класса `WordAligner` в соответствии с полученными вами формулами. Протестируйте вашу реализацию через Яндекс.Контест, а здесь обучите модель и посчитайте её AER на истинной разметке. Чтобы предсказать выравнивание для пары предложений в этой модели, следует выбирать в соответствие для слова в целевом предложении с индексом $i$ позицию, соответствующую максимуму апостериорного распределения $p(a_i|T,S)$."
   ]
  },
  {
   "cell_type": "markdown",
   "metadata": {},
   "source": [
    "17 посылок мне потребовалось, чтобы понять, что += не учитывает дубликаты в отличие от np.add.at :("
   ]
  },
  {
   "cell_type": "code",
   "execution_count": 29,
   "metadata": {
    "pycharm": {
     "name": "#%%\n"
    }
   },
   "outputs": [],
   "source": [
    "from models import WordAligner\n",
    "\n",
    "word_aligner = WordAligner(len(t_idx_src), len(t_idx_tgt), 20)\n",
    "word_aligner.fit(tokenized_sentences);"
   ]
  },
  {
   "cell_type": "code",
   "execution_count": 30,
   "metadata": {},
   "outputs": [
    {
     "data": {
      "text/plain": [
       "0.5747378387000504"
      ]
     },
     "execution_count": 30,
     "metadata": {},
     "output_type": "execute_result"
    }
   ],
   "source": [
    "compute_aer(all_targets, word_aligner.align(tokenized_sentences))"
   ]
  },
  {
   "cell_type": "markdown",
   "metadata": {},
   "source": [
    "Ссылка на успешную посылку: https://contest.yandex.ru/contest/60281/run-report/135272743/\n",
    "\n",
    "никнейм: ommirzoev@edu.hse.ru"
   ]
  },
  {
   "cell_type": "markdown",
   "metadata": {},
   "source": [
    "Качество стало уже сильно лучше"
   ]
  },
  {
   "cell_type": "markdown",
   "metadata": {
    "pycharm": {
     "name": "#%% md\n"
    }
   },
   "source": [
    "Заметим, что таблицу вероятностей перевода можно использовать и саму по себе для построения словарей. Пример работы показан ниже: метод хоть и работает, но мягко говоря, неидально — слишком мало данных."
   ]
  },
  {
   "cell_type": "code",
   "execution_count": 31,
   "metadata": {
    "pycharm": {
     "name": "#%%\n"
    }
   },
   "outputs": [],
   "source": [
    "idx_token_tgt = {index:token for token, index in t_idx_tgt.items()}"
   ]
  },
  {
   "cell_type": "code",
   "execution_count": 32,
   "metadata": {
    "pycharm": {
     "name": "#%%\n"
    }
   },
   "outputs": [
    {
     "data": {
      "text/plain": [
       "['Pan', 'řekl', 'pan']"
      ]
     },
     "execution_count": 32,
     "metadata": {},
     "output_type": "execute_result"
    }
   ],
   "source": [
    "[idx_token_tgt[i] for i in word_aligner.translation_probs[t_idx_src['Mr']].argsort()[-3:]]"
   ]
  },
  {
   "cell_type": "code",
   "execution_count": 33,
   "metadata": {
    "pycharm": {
     "name": "#%%\n"
    }
   },
   "outputs": [
    {
     "data": {
      "text/plain": [
       "['-', 'Mannová', 'paní']"
      ]
     },
     "execution_count": 33,
     "metadata": {},
     "output_type": "execute_result"
    }
   ],
   "source": [
    "[idx_token_tgt[i] for i in word_aligner.translation_probs[t_idx_src['Mrs']].argsort()[-3:]]"
   ]
  },
  {
   "cell_type": "code",
   "execution_count": 34,
   "metadata": {
    "pycharm": {
     "name": "#%%\n"
    },
    "scrolled": true
   },
   "outputs": [
    {
     "data": {
      "text/plain": [
       "['z', 'pro', 'vody']"
      ]
     },
     "execution_count": 34,
     "metadata": {},
     "output_type": "execute_result"
    }
   ],
   "source": [
    "[idx_token_tgt[i] for i in word_aligner.translation_probs[t_idx_src['water']].argsort()[-3:]]"
   ]
  },
  {
   "cell_type": "code",
   "execution_count": 35,
   "metadata": {
    "pycharm": {
     "name": "#%%\n"
    }
   },
   "outputs": [
    {
     "data": {
      "text/plain": [
       "['jež', 'překupničením', 'koni']"
      ]
     },
     "execution_count": 35,
     "metadata": {},
     "output_type": "execute_result"
    }
   ],
   "source": [
    "[idx_token_tgt[i] for i in word_aligner.translation_probs[t_idx_src['depended']].argsort()[-3:]]"
   ]
  },
  {
   "cell_type": "code",
   "execution_count": 36,
   "metadata": {
    "pycharm": {
     "name": "#%%\n"
    }
   },
   "outputs": [
    {
     "data": {
      "text/plain": [
       "['.', 'se', 'na']"
      ]
     },
     "execution_count": 36,
     "metadata": {},
     "output_type": "execute_result"
    }
   ],
   "source": [
    "[idx_token_tgt[i] for i in word_aligner.translation_probs[t_idx_src['on']].argsort()[-3:]]"
   ]
  },
  {
   "cell_type": "markdown",
   "metadata": {
    "pycharm": {
     "name": "#%% md\n"
    }
   },
   "source": [
    "**Задание 3. (0.5 балла)** Мы смогли получить матрицу условных вероятностей перевода исходного языка в целевой. Можно ли, пользуясь этой матрицей и ещё какими-то статистиками по параллельному корпусу, получить вероятности перевода целевого языка в исходный? Реализуйте такой метод и приведите ниже пример его работы, показав пару удачных переводов."
   ]
  },
  {
   "cell_type": "markdown",
   "metadata": {
    "pycharm": {
     "name": "#%%\n"
    }
   },
   "source": [
    "$$\n",
    "\\theta(s|t)=\\frac{\\theta(s,t)}{\\theta(t)} = \\frac{\\theta(t|s)\\theta(s)}{\\theta(t)}\n",
    "$$\n",
    "\n",
    "Получается, что новую матрицу можно получить из старой с учетом $\\theta(t)$ и $\\theta(s)$. По сути, это вероятности встретить слово (на исходном языке для s и на целевом для t). Их можно определить просто как сколько раз встретилось слово поделить на общее число слов"
   ]
  },
  {
   "cell_type": "code",
   "execution_count": 37,
   "metadata": {},
   "outputs": [],
   "source": [
    "probs_t = np.zeros(len(t_idx_tgt))\n",
    "probs_s = np.zeros(len(t_idx_src))\n",
    "for el in tokenized_sentences:\n",
    "    np.add.at(probs_s, el.source_tokens, 1)\n",
    "    np.add.at(probs_t, el.target_tokens, 1)\n",
    "probs_t /= probs_t.sum()\n",
    "probs_s /= probs_s.sum()\n",
    "\n",
    "probs_reverse = ((word_aligner.translation_probs * probs_s.reshape(-1, 1)) / probs_t).T"
   ]
  },
  {
   "cell_type": "markdown",
   "metadata": {},
   "source": [
    "Можем посмотреть прям на те же слова, только уже с чешского на английский:"
   ]
  },
  {
   "cell_type": "code",
   "execution_count": 38,
   "metadata": {},
   "outputs": [
    {
     "data": {
      "text/plain": [
       "['disorganized', 'depended', 'haggling']"
      ]
     },
     "execution_count": 38,
     "metadata": {},
     "output_type": "execute_result"
    }
   ],
   "source": [
    "idx_token_src = {index:token for token, index in t_idx_src.items()}\n",
    "\n",
    "[idx_token_src[i] for i in probs_reverse[t_idx_tgt['záviselo']].argsort()[-3:]]"
   ]
  },
  {
   "cell_type": "code",
   "execution_count": 39,
   "metadata": {},
   "outputs": [
    {
     "data": {
      "text/plain": [
       "['volume', 'reimmersion', 'water']"
      ]
     },
     "execution_count": 39,
     "metadata": {},
     "output_type": "execute_result"
    }
   ],
   "source": [
    "[idx_token_src[i] for i in probs_reverse[t_idx_tgt['vody']].argsort()[-3:]]"
   ]
  },
  {
   "cell_type": "code",
   "execution_count": 40,
   "metadata": {},
   "outputs": [
    {
     "data": {
      "text/plain": [
       "['737', 'supposed', 'plane']"
      ]
     },
     "execution_count": 40,
     "metadata": {},
     "output_type": "execute_result"
    }
   ],
   "source": [
    "[idx_token_src[i] for i in probs_reverse[t_idx_tgt['letadlo']].argsort()[-3:]] # летадло - самолет, прикол:)"
   ]
  },
  {
   "cell_type": "markdown",
   "metadata": {
    "pycharm": {
     "name": "#%% md\n"
    }
   },
   "source": [
    "**Задание 4. (0.5 балла)** Визуализируйте полученные выравнивания для нескольких предложений в виде heatmap: по одной из осей располагаются токены исходного текста, по другой — токены его перевода, на пересечении позиций $i$ и $j$ — 0 либо 1 в зависимости от того, является ли в обученной модели $a_i$ равным $j$. Можете ли вы их проинтерпретировать? Постройте аналогичный график, но без дискретизации, а визуализируя напрямую апостериорное распределение. Можете ли вы найти ситуации, в которых модель не уверена, переводом какого слова является слово $i$?"
   ]
  },
  {
   "cell_type": "code",
   "execution_count": 41,
   "metadata": {},
   "outputs": [],
   "source": [
    "examples = word_aligner.align(tokenized_sentences[100:102])\n",
    "# функция, которая составляет датасет из нужной матрицы \n",
    "def get_df(alignment):\n",
    "    sources = []\n",
    "    targets = []\n",
    "    for el in alignment:  # составляем списки уникальных токенов для предложения \n",
    "        if el[0] not in sources:\n",
    "            sources.append(el[0])\n",
    "        if el[1] not in targets:\n",
    "            targets.append(el[1])\n",
    "\n",
    "    align_matrix = np.zeros((len(sources), len(targets))) # нужная нам матрица, если пара встретилась в \n",
    "    for i in range(len(sources)):                         # выравнивании, ставим 1\n",
    "        for j in range(len(targets)):\n",
    "            if (sources[i], targets[j]) in alignment:\n",
    "                align_matrix[i, j] += 1\n",
    "    df = pd.DataFrame(align_matrix, columns = [[idx_token_tgt[i] for i in targets]], \n",
    "                index = [[idx_token_src[i] for i in sources]])\n",
    "    return df\n",
    "\n",
    "df_1 = get_df(examples[0])\n",
    "df_2 = get_df(examples[1])"
   ]
  },
  {
   "cell_type": "code",
   "execution_count": 42,
   "metadata": {
    "pycharm": {
     "name": "#%%\n"
    }
   },
   "outputs": [
    {
     "data": {
      "image/png": "[encoded data removed]",
      "text/plain": [
       "<Figure size 864x720 with 2 Axes>"
      ]
     },
     "metadata": {
      "needs_background": "light"
     },
     "output_type": "display_data"
    }
   ],
   "source": [
    "plt.figure(figsize = (12, 10))\n",
    "sns.set(font_scale = 1.2)\n",
    "\n",
    "sns.heatmap(df_1, square=True, annot=True, linewidths=0.4, cmap=\"RdBu\").set(\n",
    "            title = 'Матрица переводов для некоторой пары предложений',\n",
    "            xlabel = 'Target', ylabel = 'Source');"
   ]
  },
  {
   "cell_type": "code",
   "execution_count": 43,
   "metadata": {},
   "outputs": [
    {
     "data": {
      "image/png": "[encoded data removed]",
      "text/plain": [
       "<Figure size 1008x720 with 2 Axes>"
      ]
     },
     "metadata": {},
     "output_type": "display_data"
    }
   ],
   "source": [
    "plt.figure(figsize = (14, 10))\n",
    "sns.set(font_scale = 1.2)\n",
    "\n",
    "sns.heatmap(df_2, square=True, annot=True, linewidths=0.4, cmap=\"RdBu\").set(\n",
    "            title = 'Матрица переводов для некоторой пары предложений',\n",
    "            xlabel = 'Target', ylabel = 'Source');"
   ]
  },
  {
   "cell_type": "markdown",
   "metadata": {},
   "source": [
    "На самом деле интерпретировать это дело немного сложно. Вроде все как и должно быть, модель берет слово на чешском и находит для него наиболее вероятный перевод среди представленных. Единственное, можно заметить, что часто слов на чешском языке больше чем на английском, поэтому кажется, что модель распределяет слова, в которых больше уверенна, а потом выбирает какое-то одно слово на английском, которому ставит в соответствие все оставшиеся слова из чешского языка. Также посмотрим на апостериорное распределение:"
   ]
  },
  {
   "cell_type": "code",
   "execution_count": 44,
   "metadata": {},
   "outputs": [],
   "source": [
    "def get_df_posterior(alignment):\n",
    "    sources = []\n",
    "    targets = []\n",
    "    for el in alignment:\n",
    "        if el[0] not in sources:\n",
    "            sources.append(el[0])\n",
    "        if el[1] not in targets:\n",
    "            targets.append(el[1])\n",
    "\n",
    "    align_matrix = word_aligner.translation_probs[np.array(sources)[:, None], np.array(targets)]\n",
    "    df = pd.DataFrame(align_matrix, columns = [[idx_token_tgt[i] for i in targets]], \n",
    "                index = [[idx_token_src[i] for i in sources]])\n",
    "    return df\n",
    "df_1 = get_df_posterior(examples[0])\n",
    "df_2 = get_df_posterior(examples[1])"
   ]
  },
  {
   "cell_type": "code",
   "execution_count": 45,
   "metadata": {},
   "outputs": [
    {
     "data": {
      "image/png": "[encoded data removed]",
      "text/plain": [
       "<Figure size 864x720 with 2 Axes>"
      ]
     },
     "metadata": {},
     "output_type": "display_data"
    }
   ],
   "source": [
    "plt.figure(figsize = (12, 10))\n",
    "sns.set(font_scale = 1.2)\n",
    "\n",
    "sns.heatmap(df_1, square=True, annot=True, fmt=\".1f\", linewidths=0.4, cmap=\"RdBu\").set(\n",
    "            title = 'Матрица переводов для некоторой пары предложений',\n",
    "            xlabel = 'Target', ylabel = 'Source');"
   ]
  },
  {
   "cell_type": "code",
   "execution_count": 46,
   "metadata": {},
   "outputs": [
    {
     "data": {
      "image/png": "[encoded data removed]",
      "text/plain": [
       "<Figure size 1008x720 with 2 Axes>"
      ]
     },
     "metadata": {},
     "output_type": "display_data"
    }
   ],
   "source": [
    "plt.figure(figsize = (14, 10))\n",
    "sns.set(font_scale = 1.2)\n",
    "\n",
    "sns.heatmap(df_2, square=True, annot=True, fmt=\".1f\", linewidths=0.4, cmap=\"RdBu\").set(\n",
    "            title = 'Матрица переводов для некоторой пары предложений',\n",
    "            xlabel = 'Target', ylabel = 'Source');"
   ]
  },
  {
   "cell_type": "markdown",
   "metadata": {},
   "source": [
    "Как мы видим, действительно часто встречаются ситуации, где модель неуверенна. Возьмем последний график, для слов Days и Numbered есть по три слова на чешском языке с одинаковой вероятностью перевода, ну и таких примеров много."
   ]
  },
  {
   "cell_type": "markdown",
   "metadata": {
    "pycharm": {
     "name": "#%% md\n"
    }
   },
   "source": [
    "Заметим, что при задании модели мы сделали довольно сильное предположение о том, что вероятности выбора слова для выравнивания никак не зависят от позиции слова в целевом предложении. Можно сделать эти вероятности настраиваемыми параметрами, получив прямоугольную матрицу $\\phi_{m,n}(j|i)=p(a_i=j|m,n)$ для каждой пары длин предложений $m,n$: по-прежнему мы получаем распределение над индексами в исходном предложении. Тогда модель приобретает вид\n",
    "$$\n",
    "p(A,T|S)=\\prod_{i=1}^m p(a_i|m,n)p(t_i| a_i, S)=\\prod_{i=1}^m \\phi_{m,n}(a_i|i)\\theta(t_i|s_{a_i}).\n",
    "$$"
   ]
  },
  {
   "cell_type": "markdown",
   "metadata": {
    "pycharm": {
     "name": "#%% md\n"
    }
   },
   "source": [
    "**Задание 5. (1.5 балла)** Выведите шаги EM-алгоритма для этой модели, а также получите выражение для подсчёта нижней оценки правдоподобия."
   ]
  },
  {
   "cell_type": "markdown",
   "metadata": {
    "pycharm": {
     "name": "#%% md\n"
    }
   },
   "source": [
    "Блин, это так интересно, но я просто не успеваю :( Успел только unicode-нормализацию"
   ]
  },
  {
   "cell_type": "markdown",
   "metadata": {
    "pycharm": {
     "name": "#%% md\n"
    }
   },
   "source": [
    "**Задание 6. (2 балла)** Реализуйте все методы класса `WordPositionAligner`, протестируйте их корректность через Яндекс.Контест. Обучите модель, оцените её качество на истинной разметке и сравните его с качеством предыдущей более простой модели. Проиллюстрируйте влияние стартовых параметров на результат, проинициализировав эту модель параметрами модели из задания 2 (важно, чтобы суммарное число эпох обучения в обоих сценариях оставалось тем же)."
   ]
  },
  {
   "cell_type": "code",
   "execution_count": null,
   "metadata": {
    "pycharm": {
     "name": "#%%\n"
    }
   },
   "outputs": [],
   "source": [
    "from models import WordPositionAligner\n",
    "# (≧ ◡ ≦)━★☆.*･｡ﾟ"
   ]
  },
  {
   "cell_type": "markdown",
   "metadata": {
    "pycharm": {
     "name": "#%% md\n"
    }
   },
   "source": [
    "**Задание 7. (1 балл)** В предыдущих пунктах мы никак не заостряли внимание на предобработке текстов, что может негативно влиять на результаты обученной модели. Например, сейчас метод выравнивания учитывает регистр, а слова на чешском языке вдобавок обладают богатой морфологией и большим количеством диакритических знаков. Если сократить количество параметров модели (различных слов), можно ускорить обучение и добиться лучших результатов, потому что статистики по словам будут считаться по большему числу параллельных предложений.\n",
    "\n",
    "Примените к исходным данным [Unicode-нормализацию](https://en.wikipedia.org/wiki/Unicode_equivalence#Normalization), приведите их к нижнему регистру и обучите модель выравнивания заново. Сравните качество и скорость обучения с предыдущими результатами и сделайте выводы. Если вы найдете в данных ещё какие-то проблемы, которые можно исправить более грамотной предобработкой, также продемонстрируйте, как их решение влияет на качество.\n",
    "\n",
    "**Важно:** здесь и далее в процессе обработки данных у вас может получаться, что из тестовых данных будут удалены предложения из-за отсутствия слов в словаре. Если такое всё же произошло, для корректности сравнения считайте AER вашей модели на удалённых предложениях равным 1."
   ]
  },
  {
   "cell_type": "code",
   "execution_count": 47,
   "metadata": {
    "pycharm": {
     "name": "#%%\n"
    }
   },
   "outputs": [],
   "source": [
    "import unicodedata\n",
    "def transform_word(word): # Функция для преобразования слов\n",
    "    new_word = ''\n",
    "    normalized = unicodedata.normalize('NFD', word)\n",
    "    for letter in normalized:\n",
    "        if unicodedata.combining(letter) == 0:\n",
    "            new_word += letter\n",
    "    return new_word"
   ]
  },
  {
   "cell_type": "code",
   "execution_count": 48,
   "metadata": {},
   "outputs": [
    {
     "data": {
      "text/plain": [
       "[SentencePair(source=['are', 'the', 'dollar', \"'s\", 'days', 'numbered', '?'], target=['jsou', 'dny', 'dolaru', 'secteny', '?']),\n",
       " SentencePair(source=['philippe', 'bacchetta', 'and', 'eric', 'van', 'wincoop'], target=['philippe', 'bacchetta', 'and', 'eric', 'van', 'wincoop'])]"
      ]
     },
     "execution_count": 48,
     "metadata": {},
     "output_type": "execute_result"
    }
   ],
   "source": [
    "import copy\n",
    "all_sentences_new = copy.deepcopy(all_sentences)\n",
    "for pair in range(len(all_sentences_new)):\n",
    "    for s in range(len(all_sentences_new[pair].source)):\n",
    "        all_sentences_new[pair].source[s] = transform_word(all_sentences_new[pair].source[s]).lower()\n",
    "    for t in range(len(all_sentences_new[pair].target)):\n",
    "        all_sentences_new[pair].target[t] = transform_word(all_sentences_new[pair].target[t]).lower()\n",
    "all_sentences_new[:2]"
   ]
  },
  {
   "cell_type": "code",
   "execution_count": 49,
   "metadata": {},
   "outputs": [
    {
     "data": {
      "text/plain": [
       "0.5577989770821112"
      ]
     },
     "execution_count": 49,
     "metadata": {},
     "output_type": "execute_result"
    }
   ],
   "source": [
    "t_idx_src_new, t_idx_tgt_new = get_token_to_index(all_sentences_new)\n",
    "tokenized_sentences_new = tokenize_sents(all_sentences_new, t_idx_src_new, t_idx_tgt_new)\n",
    "\n",
    "word_aligner_new = WordAligner(len(t_idx_src_new), len(t_idx_tgt_new), 20)\n",
    "word_aligner_new.fit(tokenized_sentences_new);\n",
    "compute_aer(all_targets, word_aligner_new.align(tokenized_sentences_new))"
   ]
  },
  {
   "cell_type": "code",
   "execution_count": 50,
   "metadata": {},
   "outputs": [
    {
     "data": {
      "text/plain": [
       "(2501, 2501)"
      ]
     },
     "execution_count": 50,
     "metadata": {},
     "output_type": "execute_result"
    }
   ],
   "source": [
    "len(all_sentences_new), len(all_sentences)"
   ]
  },
  {
   "cell_type": "markdown",
   "metadata": {},
   "source": [
    "Качество действительно улучшилось, а число предложений не изменилось"
   ]
  },
  {
   "cell_type": "markdown",
   "metadata": {
    "pycharm": {
     "name": "#%% md\n"
    }
   },
   "source": [
    "**Задание 7. (бонус, до 3 баллов)** \n",
    "\n",
    "Улучшите качество получившейся системы настолько, насколько сможете. За каждые 5 процентов, на которые AER на тех же данных получается меньше, чем минимум ошибки всех предыдущих моделей, вы получите по 1 бонусному баллу.\n",
    "\n",
    "Ниже приведены несколько идей, которые могут помочь вам повысить \n",
    "\n",
    "* Модифицировать модель: как вы можете понять, недостатком второго реализованного вами подхода является избыточное число параметров из-за необходимости подерживать отдельную матрицу для каждой различной пары длин предложений в корпусе. В статье https://www.aclweb.org/anthology/N13-1073.pdf приведён способ снижения числа параметров, задающих априорное распределение позиций выравнивания, который позволяет в десять раз быстрее обучать модель и получать лучшее качество.\n",
    "* Агрегация по двум направлениям: в статье https://www.aclweb.org/anthology/J03-1002/ утверждается, что асимметричность выравниваний вредит качеству, потому что из-за выбранной модели одному слову в целевом предложении не может соответствовать два слова в исходном предложении. Для решения этой проблемы (и улучшения метрик, разумеется) авторы предлагают несколько алгоритмов, которые можно попробовать применить в этом задании.\n",
    "* Использовать больше обучающих данных. В корпусе, которым мы пользуемся, только пара тысяч предложений, чего может не хватать для по-настоящему хорошей модели выравнивания. Разумеется, неразмеченных параллельных английско-чешских корпусов гораздо больше, поэтому можно воспользоваться ими. Хорошая точка для старта — данные с соревнования по машинному переводу  [воркшопа WMT](http://www.statmt.org/wmt20/translation-task.html).\n",
    "* В языках часто существуют слова наподобие артиклей или предлогов, которым не соответствует ни одно слово в переводе. Все рассмотренные в рамках задания модели это не учитывают, возможно, добавление возможности перевода в «нулевой» токен улучшит качество модели (при тестировании такие выравнивания имеет смысл выбрасывать)"
   ]
  },
  {
   "cell_type": "code",
   "execution_count": null,
   "metadata": {
    "pycharm": {
     "name": "#%%\n"
    }
   },
   "outputs": [],
   "source": [
    "# ┐_(ツ)_┌━☆ﾟ.*･｡ﾟ"
   ]
  }
 ],
 "metadata": {
  "kernelspec": {
   "display_name": "Python 3 (ipykernel)",
   "language": "python",
   "name": "python3"
  },
  "language_info": {
   "codemirror_mode": {
    "name": "ipython",
    "version": 3
   },
   "file_extension": ".py",
   "mimetype": "text/x-python",
   "name": "python",
   "nbconvert_exporter": "python",
   "pygments_lexer": "ipython3",
   "version": "3.9.12"
  }
 },
 "nbformat": 4,
 "nbformat_minor": 4
}
