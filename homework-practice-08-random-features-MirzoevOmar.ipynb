{
 "cells": [
  {
   "cell_type": "markdown",
   "metadata": {
    "id": "RYp0bXOFK-hP"
   },
   "source": [
    "# Машинное обучение, ФКН ВШЭ\n",
    "\n",
    "## Практическое задание 8. Метод опорных векторов и аппроксимация ядер\n",
    "\n",
    "### Общая информация\n",
    "\n",
    "Дата выдачи: 30.01.2025\n",
    "\n",
    "Мягкий дедлайн: 23:59MSK 16.02.2025\n",
    "\n",
    "Жесткий дедлайн: 23:59MSK 23.02.2025\n",
    "\n",
    "### Оценивание и штрафы\n",
    "Каждая из задач имеет определенную «стоимость» (указана в скобках около задачи). Максимальная оценка за работу (без учёта бонусов) — 10 баллов.\n",
    "\n",
    "Сдавать задание после указанного жёсткого срока сдачи нельзя. При выставлении неполного балла за задание в связи с наличием ошибок на усмотрение проверяющего предусмотрена возможность исправить работу на указанных в ответном письме условиях.\n",
    "\n",
    "Задание выполняется самостоятельно. «Похожие» решения считаются плагиатом и все задействованные студенты (в том числе те, у кого списали) не могут получить за него больше 0 баллов (подробнее о плагиате см. на странице курса). Если вы нашли решение какого-то из заданий (или его часть) в открытом источнике, необходимо указать ссылку на этот источник в отдельном блоке в конце вашей работы (скорее всего вы будете не единственным, кто это нашел, поэтому чтобы исключить подозрение в плагиате, необходима ссылка на источник). \n",
    "\n",
    "Использование генеративных языковых моделей разрешено только в случае явного указания на это. Необходимо прописать (в соответствующих пунктах, где использовались, либо в начале/конце работы):\n",
    "- какая языковая модель использовалась\n",
    "- какие использовались промпты и в каких частях работы\n",
    "- с какими сложностями вы столкнулись при использовании генеративных моделей, с чем они помогли больше всего\n",
    "\n",
    "Неэффективная реализация кода может негативно отразиться на оценке.\n",
    "\n",
    "### Формат сдачи\n",
    "Задания сдаются через систему anytask. Посылка должна содержать:\n",
    "* Ноутбук homework-practice-08-random-features-Username.ipynb\n",
    "\n",
    "Username — ваша фамилия и имя на латинице именно в таком порядке"
   ]
  },
  {
   "cell_type": "markdown",
   "metadata": {
    "id": "vY8vT0W_K-hR"
   },
   "source": [
    "### О задании\n",
    "\n",
    "На занятиях мы подробно обсуждали метод опорных векторов (SVM). В базовой версии в нём нет чего-то особенного — мы всего лишь используем специальную функцию потерь, которая не требует устремлять отступы к бесконечности; ей достаточно, чтобы отступы были не меньше +1. Затем мы узнали, что SVM можно переписать в двойственном виде, который, позволяет заменить скалярные произведения объектов на ядра. Это будет соответствовать построению модели в новом пространстве более высокой размерности, координаты которого представляют собой нелинейные модификации исходных признаков.\n",
    "\n",
    "Ядровой SVM, к сожалению, довольно затратен по памяти (нужно хранить матрицу Грама размера $d \\times d$) и по времени (нужно решать задачу условной оптимизации с квадратичной функцией, а это не очень быстро). Мы обсуждали, что есть способы посчитать новые признаки $\\tilde \\varphi(x)$ на основе исходных так, что скалярные произведения этих новых $\\langle \\tilde \\varphi(x), \\tilde \\varphi(z) \\rangle$ приближают ядро $K(x, z)$.\n",
    "\n",
    "Мы будем исследовать аппроксимации методом Random Fourier Features (RFF, также в литературе встречается название Random Kitchen Sinks) для гауссовых ядер. Будем использовать формулы, которые немного отличаются от того, что было на лекциях (мы добавим сдвиги внутрь тригонометрических функций и будем использовать только косинусы, потому что с нужным сдвигом косинус превратится в синус):\n",
    "$$\\tilde \\varphi(x) = (\n",
    "\\cos (w_1^T x + b_1),\n",
    "\\dots,\n",
    "\\cos (w_n^T x + b_n)\n",
    "),$$\n",
    "где $w_j \\sim \\mathcal{N}(0, 1/\\sigma^2)$, $b_j \\sim U[-\\pi, \\pi]$.\n",
    "\n",
    "На новых признаках $\\tilde \\varphi(x)$ мы будем строить любую линейную модель.\n",
    "\n",
    "Можно считать, что это некоторая новая парадигма построения сложных моделей. Можно направленно искать сложные нелинейные закономерности в данных с помощью градиентного бустинга или нейронных сетей, а можно просто нагенерировать большое количество случайных нелинейных признаков и надеяться, что быстрая и простая модель (то есть линейная) сможет показать на них хорошее качество. В этом задании мы изучим, насколько работоспособна такая идея.\n",
    "\n",
    "### Алгоритм\n",
    "\n",
    "Вам потребуется реализовать следующий алгоритм:\n",
    "1. Понизить размерность выборки до new_dim с помощью метода главных компонент.\n",
    "2. Для полученной выборки оценить гиперпараметр $\\sigma^2$ с помощью эвристики (рекомендуем считать медиану не по всем парам объектов, а по случайному подмножеству из где-то миллиона пар объектов): $$\\sigma^2 = \\text{median}_{i, j = 1, \\dots, \\ell, i \\neq j} \\left\\{\\sum_{k = 1}^{d} (x_{ik} - x_{jk})^2 \\right\\}$$\n",
    "3. Сгенерировать n_features наборов весов $w_j$ и сдвигов $b_j$.\n",
    "4. Сформировать n_features новых признаков по формулам, приведённым выше.\n",
    "5. Обучить линейную модель (логистическую регрессию или SVM) на новых признаках.\n",
    "6. Повторить преобразования (PCA, формирование новых признаков) к тестовой выборке и применить модель."
   ]
  },
  {
   "cell_type": "code",
   "execution_count": 1,
   "metadata": {},
   "outputs": [],
   "source": [
    "%load_ext autoreload\n",
    "%autoreload 2"
   ]
  },
  {
   "cell_type": "code",
   "execution_count": 2,
   "metadata": {},
   "outputs": [],
   "source": [
    "import numpy as np\n",
    "import pandas as pd\n",
    "import matplotlib.pyplot as plt\n",
    "from tqdm.notebook import tqdm\n",
    "import warnings\n",
    "warnings.simplefilter('ignore')"
   ]
  },
  {
   "cell_type": "markdown",
   "metadata": {
    "id": "N_sGunb7K-hS"
   },
   "source": [
    "Тестировать алгоритм мы будем на данных Fashion MNIST. Ниже код для их загрузки и подготовки."
   ]
  },
  {
   "cell_type": "code",
   "execution_count": 3,
   "metadata": {
    "id": "YyG6dBfjK-hS"
   },
   "outputs": [],
   "source": [
    "from sklearn.datasets import fetch_openml\n",
    "def load_fashion_mnist():\n",
    "    X, y = fetch_openml('Fashion-MNIST', version=1, return_X_y=True, as_frame=False)\n",
    "    X = X.reshape(-1, 28, 28).astype('uint8')\n",
    "    y = y.astype('int64')\n",
    "    x_train, x_test = X[:60000], X[60000:]\n",
    "    y_train, y_test = y[:60000], y[60000:]\n",
    "    return (x_train, y_train), (x_test, y_test)\n",
    "(x_train_pics, y_train), (x_test_pics, y_test) = load_fashion_mnist()\n",
    "\n",
    "x_train = x_train_pics.reshape(y_train.shape[0], -1)\n",
    "x_test = x_test_pics.reshape(y_test.shape[0], -1)"
   ]
  },
  {
   "cell_type": "markdown",
   "metadata": {},
   "source": [
    "__Задание 0. (0.25 баллов)__\n",
    "\n",
    "**Вопрос:** зачем в алгоритме нужен метод главных компонент? \n",
    "\n",
    "**Ответ:** Возможно, для того, чтобы оставить небольшое число именно информативных признаков. То есть мы сужаем наше пространство до небольшой размерности и при этом сохраняем большую часть дисперсии, и дальше модели будет удобнее с этим работать. Ну и плюсом можно снизить время работы алгоритма, так как число объектов в исходном датасете может быть довольно большое."
   ]
  },
  {
   "cell_type": "markdown",
   "metadata": {
    "id": "rJNN55F7K-hT"
   },
   "source": [
    "__Задание 1. (3 балла)__\n",
    "\n",
    "Реализуйте алгоритм, описанный выше. Можете воспользоваться шаблоном класса в `homework_practice_08_rff.py` или написать свой интерфейс.\n",
    "\n",
    "Ваша реализация должна поддерживать следующие опции:\n",
    "1. Возможность задавать значения гиперпараметров new_dim (по умолчанию 50) и n_features (по умолчанию 1000).\n",
    "2. Возможность включать или выключать предварительное понижение размерности с помощью метода главных компонент.\n",
    "3. Возможность выбирать тип линейной модели (логистическая регрессия или SVM с линейным ядром).\n",
    "\n",
    "Протестируйте на данных Fashion MNIST, сформированных кодом выше. Если на тесте у вас получилась доля верных ответов не ниже 0.84 с гиперпараметрами по умолчанию, то вы всё сделали правильно."
   ]
  },
  {
   "cell_type": "code",
   "execution_count": 4,
   "metadata": {
    "id": "jP8yepx8K-hT",
    "scrolled": true
   },
   "outputs": [],
   "source": [
    "from homework_practice_08_rff import RFFPipeline, RandomFeatureCreator\n",
    "\n",
    "pipeline = RFFPipeline(n_features=1000, new_dim=50, feature_creator_class=RandomFeatureCreator)"
   ]
  },
  {
   "cell_type": "code",
   "execution_count": 5,
   "metadata": {},
   "outputs": [],
   "source": [
    "pipeline.fit(x_train, y_train)\n",
    "\n",
    "pred = pipeline.predict(x_test)"
   ]
  },
  {
   "cell_type": "code",
   "execution_count": 6,
   "metadata": {},
   "outputs": [
    {
     "data": {
      "text/plain": [
       "0.8593"
      ]
     },
     "execution_count": 6,
     "metadata": {},
     "output_type": "execute_result"
    }
   ],
   "source": [
    "(pred == y_test).mean() # Accuracy для стандартного RFF"
   ]
  },
  {
   "cell_type": "markdown",
   "metadata": {},
   "source": [
    "Ураа, вроде все правильно. В коде немного пользовался GPT, так как я не очень понял, как правильно найти дисперсию. Промптом было условие алгоритма и я попросил найти $\\sigma$. Дальше он уже скинул код для этого, который был сходу правильный"
   ]
  },
  {
   "cell_type": "markdown",
   "metadata": {
    "id": "HYqQUEi-K-hU"
   },
   "source": [
    "__Задание 2. (2.5 балла)__\n",
    "\n",
    "Сравните подход со случайными признаками с обучением SVM на исходных признаках. Попробуйте вариант с обычным (линейным) SVM и с ядровым SVM. Ядровой SVM может очень долго обучаться, поэтому можно делать любые разумные вещи для ускорения: брать подмножество объектов из обучающей выборки, например.\n",
    "\n",
    "Сравните подход со случайными признаками с вариантом, в котором вы понижаете размерность с помощью PCA и обучите градиентный бустинг. Используйте одну из реализаций CatBoost/LightGBM/XGBoost. \n",
    "\n",
    "Сделайте выводы — насколько идея со случайными признаками работает? Сравните как с точки зрения качества, так и с точки зрения скорости обучения и применения."
   ]
  },
  {
   "cell_type": "code",
   "execution_count": 7,
   "metadata": {
    "id": "qN8LUlJgK-hV"
   },
   "outputs": [],
   "source": [
    "from sklearn.svm import SVC"
   ]
  },
  {
   "cell_type": "markdown",
   "metadata": {},
   "source": [
    "Сначала смотрим на линейный SVM:"
   ]
  },
  {
   "cell_type": "code",
   "execution_count": 8,
   "metadata": {},
   "outputs": [
    {
     "name": "stdout",
     "output_type": "stream",
     "text": [
      "Accuracy для Linear SVM на тесте: 0.6844\n"
     ]
    }
   ],
   "source": [
    "svm_lin = SVC(kernel = 'linear', max_iter = 1000, random_state = 52)\n",
    "svm_lin.fit(x_train, y_train)\n",
    "pred_lin_svm = svm_lin.predict(x_test)\n",
    "acc_lin_svm = (pred_lin_svm == y_test).mean()\n",
    "print(f'Accuracy для Linear SVM на тесте: {acc_lin_svm}')"
   ]
  },
  {
   "cell_type": "markdown",
   "metadata": {},
   "source": [
    "Ожидаемо, линейный SVM работает сильно хуже. Теперь посмотрим на ядровой (с Гауссовым ядром):"
   ]
  },
  {
   "cell_type": "code",
   "execution_count": 9,
   "metadata": {},
   "outputs": [
    {
     "name": "stdout",
     "output_type": "stream",
     "text": [
      "Accuracy для ядрового SVM на тесте: 0.8539\n"
     ]
    }
   ],
   "source": [
    "batch = np.random.choice(x_train.shape[0], 10000, replace = False)\n",
    "x_batch = x_train[batch]\n",
    "y_batch = y_train[batch]\n",
    "\n",
    "svm_gaus = SVC(kernel = 'rbf', max_iter = 1000)\n",
    "svm_gaus.fit(x_batch, y_batch)\n",
    "pred_gaus_svm = svm_gaus.predict(x_test)\n",
    "acc_gaus_svm = (pred_gaus_svm == y_test).mean()\n",
    "print(f'Accuracy для ядрового SVM на тесте: {acc_gaus_svm}')"
   ]
  },
  {
   "cell_type": "markdown",
   "metadata": {},
   "source": [
    "В целом кажется, что ядровой SVM работает довольно хорошо, учитывая, что я обучал его на подвыборке из 10000 объектов. Очевидно, что скорее всего при обучении на всей выборке и без всяких ограничений (типа max_iter) он сработает лучше чем RFF, но это и неудивительно, т.к. RFF это как раз аппроксимация. Но в то же время RFF будет работать намного быстрее, поэтому тут нужно смотреть на соотношение качество/время обучения "
   ]
  },
  {
   "cell_type": "code",
   "execution_count": 10,
   "metadata": {},
   "outputs": [],
   "source": [
    "from lightgbm import LGBMClassifier"
   ]
  },
  {
   "cell_type": "code",
   "execution_count": 11,
   "metadata": {},
   "outputs": [
    {
     "name": "stdout",
     "output_type": "stream",
     "text": [
      "[LightGBM] [Info] Auto-choosing col-wise multi-threading, the overhead of testing was 0.007158 seconds.\n",
      "You can set `force_col_wise=true` to remove the overhead.\n",
      "[LightGBM] [Info] Total Bins 12750\n",
      "[LightGBM] [Info] Number of data points in the train set: 60000, number of used features: 50\n",
      "[LightGBM] [Info] Start training from score -2.302585\n",
      "[LightGBM] [Info] Start training from score -2.302585\n",
      "[LightGBM] [Info] Start training from score -2.302585\n",
      "[LightGBM] [Info] Start training from score -2.302585\n",
      "[LightGBM] [Info] Start training from score -2.302585\n",
      "[LightGBM] [Info] Start training from score -2.302585\n",
      "[LightGBM] [Info] Start training from score -2.302585\n",
      "[LightGBM] [Info] Start training from score -2.302585\n",
      "[LightGBM] [Info] Start training from score -2.302585\n",
      "[LightGBM] [Info] Start training from score -2.302585\n",
      "Accuracy для бустинга на тесте: 0.8659\n"
     ]
    }
   ],
   "source": [
    "from sklearn.decomposition import PCA\n",
    "boosting = LGBMClassifier()\n",
    "pca = PCA(n_components = 50)\n",
    "x_train_pca = pca.fit_transform(x_train)\n",
    "x_test_pca = pca.transform(x_test)\n",
    "\n",
    "boosting.fit(x_train_pca, y_train)\n",
    "pred_lgb = boosting.predict(x_test_pca)\n",
    "acc_lgb = (pred_lgb == y_test).mean()\n",
    "print(f'Accuracy для бустинга на тесте: {acc_lgb}')"
   ]
  },
  {
   "cell_type": "markdown",
   "metadata": {},
   "source": [
    "А бустинг-то тоже неплох:) Обучается по времени почти моментально, а качество еще и немного лучше. Если сравнивать ядровой SVM и RFF, то однозначно идея со случайными признаками работает, так как за меньшее время обучения удается добиться соразмерного качества. Однако перед таким сильным методом, как бустинг, у RFF уже нет особых преимуществ (ни по времени, ни по качеству), но возможно он сработал бы лучше в другой задаче. \n",
    "\n",
    "В общем идея рабочая, но возможно не самая лучшая :)"
   ]
  },
  {
   "cell_type": "markdown",
   "metadata": {
    "id": "e6umjhWuK-hV"
   },
   "source": [
    "__Задание 3. (2 балла)__\n",
    "\n",
    "Проведите эксперименты:\n",
    "1. Помогает ли предварительное понижение размерности с помощью PCA? \n",
    "2. Как зависит итоговое качество от n_features? Выходит ли оно на плато при росте n_features?\n",
    "3. Важно ли, какую модель обучать — логистическую регрессию или SVM?"
   ]
  },
  {
   "cell_type": "markdown",
   "metadata": {
    "id": "c2QIHIMbK-hW"
   },
   "source": [
    "1) Сначала смотрим на влияние PCA:"
   ]
  },
  {
   "cell_type": "code",
   "execution_count": 12,
   "metadata": {},
   "outputs": [
    {
     "name": "stdout",
     "output_type": "stream",
     "text": [
      "Accuracy для RFF без PCA: 0.1087\n"
     ]
    }
   ],
   "source": [
    "pipeline_new = RFFPipeline(n_features=1000, new_dim=x_train.shape[1], \n",
    "                           feature_creator_class=RandomFeatureCreator, use_PCA = False)\n",
    "pipeline_new.fit(x_train, y_train)\n",
    "pred_new = pipeline_new.predict(x_test)\n",
    "\n",
    "acc_new = (pred_new == y_test).mean()\n",
    "print(f'Accuracy для RFF без PCA: {acc_new}')"
   ]
  },
  {
   "cell_type": "markdown",
   "metadata": {},
   "source": [
    "Как мы видим, с точки зрения качества PCA прям очень сильно влияет на результат. С понижением размерности качество было намного лучше\n",
    "\n",
    "2) Теперь посмотрим на n_features:"
   ]
  },
  {
   "cell_type": "code",
   "execution_count": 13,
   "metadata": {},
   "outputs": [
    {
     "data": {
      "application/vnd.jupyter.widget-view+json": {
       "model_id": "8e30c4ec5a364245bae67a7bb0b08a74",
       "version_major": 2,
       "version_minor": 0
      },
      "text/plain": [
       "  0%|          | 0/11 [00:00<?, ?it/s]"
      ]
     },
     "metadata": {},
     "output_type": "display_data"
    }
   ],
   "source": [
    "features_grid = np.arange(1000, 2100, 100)\n",
    "acc_history = []\n",
    "\n",
    "for el in tqdm(features_grid):\n",
    "    pipeline_grid = RFFPipeline(n_features=el, new_dim=50, feature_creator_class=RandomFeatureCreator)\n",
    "    pipeline_grid.fit(x_train, y_train)\n",
    "    pred_grid = pipeline_grid.predict(x_test)\n",
    "    acc_grid = (pred_grid == y_test).mean()\n",
    "    acc_history.append(acc_grid)"
   ]
  },
  {
   "cell_type": "code",
   "execution_count": 14,
   "metadata": {},
   "outputs": [
    {
     "data": {
      "text/plain": [
       "''"
      ]
     },
     "execution_count": 14,
     "metadata": {},
     "output_type": "execute_result"
    },
    {
     "data": {
      "image/png": "[encoded data removed]",
      "text/plain": [
       "<Figure size 864x576 with 1 Axes>"
      ]
     },
     "metadata": {
      "needs_background": "light"
     },
     "output_type": "display_data"
    }
   ],
   "source": [
    "plt.figure(figsize = (12, 8))\n",
    "plt.xlabel('Значение n_features', fontsize = 12)\n",
    "plt.ylabel('Значение accuracy', fontsize = 12)\n",
    "plt.title('Зависимость качества от n_features', fontsize = 14)\n",
    "plt.plot(features_grid, acc_history)\n",
    "plt.grid()\n",
    ";"
   ]
  },
  {
   "cell_type": "markdown",
   "metadata": {},
   "source": [
    "Из графика видно, что качество колеблется в каком-то маленьком промежутке и несильно меняется в зависимости от числа новых признаков. Однако и какого-то явного плато тоже нельзя заметить, возможно оно найдется где-то справа при более высоких значениях n_features. В целом можно сказать, что качество несильно зависит от числа новых признаков"
   ]
  },
  {
   "cell_type": "markdown",
   "metadata": {},
   "source": [
    "3) Сравниваем логрег и SVM:"
   ]
  },
  {
   "cell_type": "code",
   "execution_count": 15,
   "metadata": {},
   "outputs": [
    {
     "name": "stdout",
     "output_type": "stream",
     "text": [
      "Accuracy для RFF c SVM: 0.7995\n"
     ]
    }
   ],
   "source": [
    "pipeline_svc = RFFPipeline(n_features=1000, new_dim=50, feature_creator_class=RandomFeatureCreator,\n",
    "                      classifier_class=SVC, classifier_params = {'kernel': 'linear', 'max_iter': 10**4})\n",
    "pipeline_svc.fit(x_train, y_train)\n",
    "pred_svc = pipeline_svc.predict(x_test)\n",
    "acc_svc = (pred_svc == y_test).mean()\n",
    "print(f'Accuracy для RFF c SVM: {acc_svc}')"
   ]
  },
  {
   "cell_type": "markdown",
   "metadata": {},
   "source": [
    "RFF с SVM в качестве классификатора обучается прям сильно дольше, а качество показывает поменьше. Так что, да, важно, какую модель обучать, и в данной задаче логрег показывает себя лучше (и по времени, и по качеству)"
   ]
  },
  {
   "cell_type": "markdown",
   "metadata": {
    "id": "QVDWHCdrK-hX"
   },
   "source": [
    "__Задание 4. (Максимум 1.5 балла)__\n",
    "\n",
    "Как вы, должно быть, помните с курса МО-1, многие алгоритмы машинного обучения работают лучше, если признаки данных некоррелированы. Оказывается, что для RFF существует модификация, позволяющая получать ортогональные случайные признаки (Orthogonal Random Features, ORF). Об этом методе можно прочитать в [статье](https://proceedings.neurips.cc/paper/2016/file/53adaf494dc89ef7196d73636eb2451b-Paper.pdf). Реализуйте класс для вычисления ORF по аналогии с основным заданием. Обратите внимание, что ваш класс должен уметь работать со случаем n_features > new_dim (в статье есть замечание на этот счет), n_features=new_dim и n_features < new_dim также должны работать, убедитесь в этом. Проведите эксперименты, сравнивающие RFF и ORF, сделайте выводы. \n"
   ]
  },
  {
   "cell_type": "markdown",
   "metadata": {},
   "source": [
    "При написании класса пользовался GPT, чтобы повысить качество, так как изначально оно было не очень. Промптом была моя реализация по шаблону + условие задания + информация из статьи. В итоге я понял, как правильно обработать случай D > d (создать массив из матриц а потом сделать vstack), нашел функцию np.linalg.qr. И самое главное, GPT подсказал, что нужно брать корень из Хи-квадрат распределения и качество выросло с 0.65 до 0.8+ (интересно, почему про это не говорилось в статье?)"
   ]
  },
  {
   "cell_type": "code",
   "execution_count": 17,
   "metadata": {},
   "outputs": [],
   "source": [
    "from homework_practice_08_rff import OrthogonalRandomFeatureCreator"
   ]
  },
  {
   "cell_type": "code",
   "execution_count": 18,
   "metadata": {},
   "outputs": [
    {
     "name": "stdout",
     "output_type": "stream",
     "text": [
      "Accuracy для ORF: 0.8589\n"
     ]
    }
   ],
   "source": [
    "pipeline_ORF = RFFPipeline(n_features=1000, new_dim=50, feature_creator_class=OrthogonalRandomFeatureCreator)\n",
    "pipeline_ORF.fit(x_train, y_train)\n",
    "pred_ORF = pipeline_ORF.predict(x_test)\n",
    "acc_ORF = (pred_ORF == y_test).mean()\n",
    "print(f'Accuracy для ORF: {acc_ORF}')"
   ]
  },
  {
   "cell_type": "markdown",
   "metadata": {},
   "source": [
    "Тут видно, что ORF в случае D>d работает прям самую малость хуже RFF (там было 0.8593), вряд ли это значимая разница. То есть метод вроде как тоже рабочий. Убедимся, что код работает и для других случаев. Сначала D<d:"
   ]
  },
  {
   "cell_type": "code",
   "execution_count": 19,
   "metadata": {},
   "outputs": [
    {
     "name": "stdout",
     "output_type": "stream",
     "text": [
      "Accuracy для ORF (случай D<d): 0.803\n"
     ]
    }
   ],
   "source": [
    "pipeline_less = RFFPipeline(n_features=100, new_dim=500, feature_creator_class=OrthogonalRandomFeatureCreator)\n",
    "pipeline_less.fit(x_train, y_train)\n",
    "pred_less = pipeline_less.predict(x_test)\n",
    "acc_less = (pred_less == y_test).mean()\n",
    "print(f'Accuracy для ORF (случай D<d): {acc_less}')"
   ]
  },
  {
   "cell_type": "code",
   "execution_count": 20,
   "metadata": {},
   "outputs": [
    {
     "name": "stdout",
     "output_type": "stream",
     "text": [
      "Accuracy для RFF (случай D<d): 0.8156\n"
     ]
    }
   ],
   "source": [
    "pipeline_less_RFF = RFFPipeline(n_features=100, new_dim=500, feature_creator_class=RandomFeatureCreator)\n",
    "pipeline_less_RFF.fit(x_train, y_train)\n",
    "pred_less_RFF = pipeline_less_RFF.predict(x_test)\n",
    "acc_less_RFF = (pred_less_RFF == y_test).mean()\n",
    "print(f'Accuracy для RFF (случай D<d): {acc_less_RFF}')"
   ]
  },
  {
   "cell_type": "markdown",
   "metadata": {},
   "source": [
    "Для этого случая RFF также лучше. Теперь D = d:"
   ]
  },
  {
   "cell_type": "code",
   "execution_count": 21,
   "metadata": {},
   "outputs": [
    {
     "name": "stdout",
     "output_type": "stream",
     "text": [
      "Accuracy для ORF (случай D=d): 0.8534\n"
     ]
    }
   ],
   "source": [
    "pipeline_equal = RFFPipeline(n_features=500, new_dim=500, feature_creator_class=OrthogonalRandomFeatureCreator)\n",
    "pipeline_equal.fit(x_train, y_train)\n",
    "pred_equal = pipeline_equal.predict(x_test)\n",
    "acc_equal = (pred_equal == y_test).mean()\n",
    "print(f'Accuracy для ORF (случай D=d): {acc_equal}')"
   ]
  },
  {
   "cell_type": "code",
   "execution_count": 22,
   "metadata": {},
   "outputs": [
    {
     "name": "stdout",
     "output_type": "stream",
     "text": [
      "Accuracy для RFF (случай D=d): 0.8554\n"
     ]
    }
   ],
   "source": [
    "pipeline_equal_RFF = RFFPipeline(n_features=500, new_dim=500, feature_creator_class=RandomFeatureCreator)\n",
    "pipeline_equal_RFF.fit(x_train, y_train)\n",
    "pred_equal_RFF = pipeline_equal_RFF.predict(x_test)\n",
    "acc_equal_RFF = (pred_equal_RFF == y_test).mean()\n",
    "print(f'Accuracy для RFF (случай D=d): {acc_equal_RFF}')"
   ]
  },
  {
   "cell_type": "markdown",
   "metadata": {},
   "source": [
    "В общем методы работают практически одинаково, какого-то значимого улучшения от ORF в этой задаче нет"
   ]
  },
  {
   "cell_type": "markdown",
   "metadata": {
    "id": "4pc7-1jmK-hY"
   },
   "source": [
    "__Задание 5. (Максимум 1 балл)__\n",
    "\n",
    "Существует большое количество работ, где идея RFF развивается, предлагаются её обобщения (которые, по сути, выливаются в другие преобразования признаков, не обязательно уже тригонометрические). Возьмите любую из таких работ, кратко опишите идею, имплементируйте её и сравните качество с ORF и RFF, которые вы запрограммировали выше.\n",
    "\n",
    "Ссылки на статьи, где обсуждаются вариации RFF для разных ядер, можно найти в окрестности таблицы 1 в работе https://arxiv.org/pdf/1407.5599  \n",
    "\n",
    "___ссылка на работу:___ https://proceedings.neurips.cc/paper_files/paper/2022/file/718a3c5cf135894db6e718725f52ef9a-Paper-Conference.pdf\n",
    "\n",
    "___описание идеи:___ В общем среди представленных работ я, к сожалению, не нашел ничего адекватного, что я бы смог применить, поэтому я просто загуглил какие еще есть способы аппроксимировать Гауссово ядро, и нашел, что можно брать знак. Дальше уже искал статьи на эту тему и нашел эту. Но тут почему-то берется знак после косинуса. Когда я попробовал так, то качество было не очень (что-то типо 0.65). Когда я убрал косинус, а оставил просто знак, качество получилось уже сопоставимое с обычным RFF."
   ]
  },
  {
   "cell_type": "code",
   "execution_count": 24,
   "metadata": {},
   "outputs": [],
   "source": [
    "from homework_practice_08_rff import SignRFF, RandomLaplaceFeatureCreator"
   ]
  },
  {
   "cell_type": "code",
   "execution_count": 25,
   "metadata": {
    "id": "dWj-O2vjK-hY"
   },
   "outputs": [
    {
     "name": "stdout",
     "output_type": "stream",
     "text": [
      "Accuracy для Sign RFF: 0.8317\n"
     ]
    }
   ],
   "source": [
    "pipeline_sign = RFFPipeline(n_features=1000, new_dim=50, feature_creator_class=SignRFF)\n",
    "pipeline_sign.fit(x_train, y_train)\n",
    "pred_sign = pipeline_sign.predict(x_test)\n",
    "acc_sign = (pred_sign == y_test).mean()\n",
    "print(f'Accuracy для Sign RFF: {acc_sign}')"
   ]
  },
  {
   "cell_type": "markdown",
   "metadata": {},
   "source": [
    "Как мы видим, качество чуть похуже, чем для тригонометрической аппроксимации, но в целом тоже неплохо"
   ]
  },
  {
   "cell_type": "markdown",
   "metadata": {},
   "source": [
    "Если же нужно взять прям из того, что предложили, то есть также эта [статья](https://vikas.sindhwani.org/RandomLaplace.pdf), где предлагают просто генерировать w не из нормального, а из лапласовского распределения. Все-таки я подумал, что задание именно про другую аппроксимацию, а не другое ядро, поэтому решил взять статью со знаком"
   ]
  },
  {
   "cell_type": "code",
   "execution_count": 26,
   "metadata": {},
   "outputs": [
    {
     "name": "stdout",
     "output_type": "stream",
     "text": [
      "Accuracy для RLF: 0.8697\n"
     ]
    }
   ],
   "source": [
    "pipeline_RLF = RFFPipeline(n_features=1000, new_dim=50, feature_creator_class=RandomLaplaceFeatureCreator)\n",
    "pipeline_RLF.fit(x_train, y_train)\n",
    "pred_RLF = pipeline_RLF.predict(x_test)\n",
    "acc_RLF = (pred_RLF == y_test).mean()\n",
    "print(f'Accuracy для RLF: {acc_RLF}')"
   ]
  },
  {
   "cell_type": "markdown",
   "metadata": {},
   "source": [
    "Интересненько, здесь качество получше, чем для стандартного RFF (0.8593)"
   ]
  },
  {
   "cell_type": "markdown",
   "metadata": {},
   "source": [
    "__Задание 6. (Максимум 2.5 балла)__\n",
    "\n",
    "Реализуйте класс ядровой Ridge регрессии (Лекция 13, $\\S 1.2$), для оптимизации используте градиентный спуск **[1 балл максимум]**, также добавьте возможность использовать аналитическую формулу **[1 балл максимум]**. Для градиентного спуска выпишите градиент ниже **[0.5 баллов максимум]**. \n",
    "Подумайте о том, как в формулах правильно учесть свободный коэффициент. \n",
    "\n",
    "Затем адаптируйте вашу реализацию RFF под задачу регрессии. Сравните вашу ядровую регрессию и RFF на синтетических данных."
   ]
  },
  {
   "cell_type": "markdown",
   "metadata": {},
   "source": [
    "Функция потерь: \n",
    "$$\n",
    "Q(w) = \\frac{1}{2} ||\\Phi \\Phi^T w - y||^2 + \\frac{\\lambda}{2} w^T \\Phi \\Phi^T w \\rightarrow \\min_w,\n",
    "$$\n",
    "где $\\Phi \\Phi^T = K$, $K = (k(x_i, x_j))_{i, j = 1}^{\\ell}$.\n",
    "\n",
    "Предсказание: \n",
    "$\n",
    "y(x) = k(x)^T w,\n",
    "$\n",
    "где $k(x)$ — вектор функций ядра от пар объектов $(x, x_i)_{i=1}^{\\ell}$.\n",
    "\n",
    "___Выведите градиент:___ \n",
    "\n",
    "$$\n",
    "dQ(w) = \\frac{1}{2}(d((Kw-y)^T)(Kw-y) + (Kw-y)^Td(Kw-y)) + \\frac{\\lambda}{2}(d(w^T)Kw + w^Td(Kw))\n",
    "$$\n",
    "\n",
    "$$\n",
    "dQ(w) = \\frac{1}{2}((Kw-y)^TKdw + (Kw-y)^TKdw) + \\frac{\\lambda}{2}(w^TK^Tdw + w^TKdw)\n",
    "$$\n",
    "\n",
    "$$\n",
    "dQ(w) = ((Kw-y)^TK + \\frac{\\lambda}{2}(w^TK^T + w^TK))dw\n",
    "$$\n",
    "\n",
    "$$\n",
    "\\nabla Q(w) = K^T(Kw-y) + \\frac{\\lambda}{2}(Kw+K^Tw)\n",
    "$$\n",
    "\n",
    "В силу симметричности $K$:\n",
    "\n",
    "$$\n",
    "\\nabla Q(w) = K^T(Kw-y) + \\lambda Kw\n",
    "$$\n",
    "\n",
    "Дальше приравниваем к нулю и получаем решение:\n",
    "\n",
    "$$\n",
    "K^T(Kw-y) + \\lambda Kw = 0\n",
    "$$\n",
    "\n",
    "$$\n",
    "w^* = (K+\\lambda I)^{-1}y\n",
    "$$\n",
    "\n",
    "Вы можете изменять представленный шаблон в файле `homework_practice_08_kernel_regression.py` по своему усмотрению."
   ]
  },
  {
   "cell_type": "markdown",
   "metadata": {},
   "source": [
    "По сути, адаптировать ничего и не нужно, просто вместо логрега или SVM будем указывать линейную регрессию."
   ]
  },
  {
   "cell_type": "code",
   "execution_count": 27,
   "metadata": {},
   "outputs": [],
   "source": [
    "from homework_practice_08_kernel_regression import KernelRidgeRegression\n",
    "from sklearn.linear_model import Ridge"
   ]
  },
  {
   "cell_type": "code",
   "execution_count": 28,
   "metadata": {},
   "outputs": [],
   "source": [
    "from sklearn.datasets import make_regression\n",
    "from sklearn.model_selection import train_test_split\n",
    "\n",
    "X, y = make_regression(\n",
    "    n_samples=625, n_features=500, n_informative=4, random_state=42\n",
    ")\n",
    "\n",
    "X_train, X_test, y_train, y_test = train_test_split(X, y, test_size=0.2, random_state=42)"
   ]
  },
  {
   "cell_type": "markdown",
   "metadata": {},
   "source": [
    "Сначала смотрим на качество RFF:"
   ]
  },
  {
   "cell_type": "code",
   "execution_count": 29,
   "metadata": {},
   "outputs": [
    {
     "name": "stdout",
     "output_type": "stream",
     "text": [
      "MAE для RFF: 96.71087807194297\n"
     ]
    }
   ],
   "source": [
    "pipeline = RFFPipeline(n_features=1000, new_dim=50, feature_creator_class=RandomFeatureCreator,\n",
    "                      classifier_class=Ridge)\n",
    "pipeline.fit(X_train, y_train)\n",
    "pred_rff = pipeline.predict(X_test)\n",
    "mae_rff = np.mean(np.abs((pred_rff - y_test)))\n",
    "print(f'MAE для RFF: {mae_rff}')"
   ]
  },
  {
   "cell_type": "markdown",
   "metadata": {},
   "source": [
    "Теперь обучаем ядровую регрессию:"
   ]
  },
  {
   "cell_type": "code",
   "execution_count": 30,
   "metadata": {},
   "outputs": [
    {
     "name": "stdout",
     "output_type": "stream",
     "text": [
      "MAE для ядровой регрессии: 95.1168409613107\n"
     ]
    }
   ],
   "source": [
    "ridge = KernelRidgeRegression()\n",
    "ridge.fit(X_train, y_train)\n",
    "pred_ridge = ridge.predict(X_test)\n",
    "mae_ridge = np.mean(np.abs((pred_ridge - y_test)))\n",
    "print(f'MAE для ядровой регрессии: {mae_ridge}')"
   ]
  },
  {
   "cell_type": "markdown",
   "metadata": {},
   "source": [
    "Аналитическое решение также работает:"
   ]
  },
  {
   "cell_type": "code",
   "execution_count": 31,
   "metadata": {},
   "outputs": [
    {
     "name": "stdout",
     "output_type": "stream",
     "text": [
      "MAE для ядровой регрессии: 95.1168409613107\n"
     ]
    }
   ],
   "source": [
    "ridge = KernelRidgeRegression()\n",
    "ridge.fit_closed_form(X_train, y_train)\n",
    "pred_ridge = ridge.predict(X_test)\n",
    "mae_ridge = np.mean(np.abs((pred_ridge - y_test)))\n",
    "print(f'MAE для ядровой регрессии: {mae_ridge}')"
   ]
  },
  {
   "cell_type": "markdown",
   "metadata": {},
   "source": [
    "Как мы видим, ядровая регрессия показывает себя чуть получше. Кажется, что это закономерный результат, так как RFF пытается аппроксимировать гауссово ядро"
   ]
  },
  {
   "cell_type": "markdown",
   "metadata": {},
   "source": [
    "По поводу константы: как я только не пробовал ее добавлять, но качество только ухудшалось. По сути нам надо добавить константный признак в матрицу $\\Phi$, но мы этого сделать явно не можем, так как этой матрицы у нас нет. На матрице Грама это отразится так, что просто к каждому элементу добавится 1. Кажется, что это не особо сильно повлияет на решение, нет никакой информативности. Я также пробовал добавить константу отдельно, типо $Kw + c$, но опять качество только упало. В общем я решил просто ее не добавлять, даже так качество у ядровой регрессии лучше чем у RFF. К тому же, мы не знаем какое у нас признаковое пространство, может быть там есть и константный признак :)"
   ]
  }
 ],
 "metadata": {
  "colab": {
   "collapsed_sections": [],
   "name": "homework-practice-08-random-features.ipynb",
   "provenance": []
  },
  "kernelspec": {
   "display_name": "Python 3 (ipykernel)",
   "language": "python",
   "name": "python3"
  },
  "language_info": {
   "codemirror_mode": {
    "name": "ipython",
    "version": 3
   },
   "file_extension": ".py",
   "mimetype": "text/x-python",
   "name": "python",
   "nbconvert_exporter": "python",
   "pygments_lexer": "ipython3",
   "version": "3.9.12"
  }
 },
 "nbformat": 4,
 "nbformat_minor": 4
}
